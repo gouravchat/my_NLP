{
  "nbformat": 4,
  "nbformat_minor": 0,
  "metadata": {
    "colab": {
      "name": "ColaBert.ipynb",
      "provenance": [],
      "collapsed_sections": [],
      "authorship_tag": "ABX9TyNfR6qev1tne9JP3wPMXsZx",
      "include_colab_link": true
    },
    "kernelspec": {
      "name": "python3",
      "display_name": "Python 3"
    },
    "accelerator": "GPU"
  },
  "cells": [
    {
      "cell_type": "markdown",
      "metadata": {
        "id": "view-in-github",
        "colab_type": "text"
      },
      "source": [
        "<a href=\"https://colab.research.google.com/github/Goro-python/my_NLP/blob/next_dev/ColaBert.ipynb\" target=\"_parent\"><img src=\"https://colab.research.google.com/assets/colab-badge.svg\" alt=\"Open In Colab\"/></a>"
      ]
    },
    {
      "cell_type": "code",
      "metadata": {
        "colab": {
          "base_uri": "https://localhost:8080/"
        },
        "id": "JLsl9fmt7vI2",
        "outputId": "ae75ba37-0a76-432b-f333-b809b7c3f3ff"
      },
      "source": [
        "# keras Tuner \r\n",
        "import tensorflow as tf\r\n",
        "from keras import backend as K\r\n",
        "from tensorflow import keras\r\n",
        "from tensorflow.keras import layers\r\n",
        "\r\n",
        "import numpy as np\r\n",
        "\r\n",
        "import pandas as pd\r\n",
        "\r\n",
        "\r\n",
        "from sklearn.metrics import precision_score,recall_score,confusion_matrix\r\n",
        "from sklearn.model_selection import train_test_split\r\n",
        "\r\n",
        "from matplotlib import pyplot as plt\r\n",
        "\r\n",
        "import datetime, os\r\n",
        "\r\n",
        "deviceName = tf.test.gpu_device_name()\r\n",
        "print(deviceName)\r\n",
        "\r\n",
        "%matplotlib inline"
      ],
      "execution_count": 1,
      "outputs": [
        {
          "output_type": "stream",
          "text": [
            "/device:GPU:0\n"
          ],
          "name": "stdout"
        }
      ]
    },
    {
      "cell_type": "code",
      "metadata": {
        "id": "0yTgjxFYB8fs"
      },
      "source": [
        "#!pip uninstall tensorflow"
      ],
      "execution_count": 2,
      "outputs": []
    },
    {
      "cell_type": "code",
      "metadata": {
        "id": "UXxKfIv0CEfv"
      },
      "source": [
        "#!pip install tensorflow==2.3.0"
      ],
      "execution_count": 3,
      "outputs": []
    },
    {
      "cell_type": "code",
      "metadata": {
        "colab": {
          "base_uri": "https://localhost:8080/",
          "height": 35
        },
        "id": "c2hIsrGbhvpx",
        "outputId": "6dccb085-b512-47d1-8bc8-847858d8430b"
      },
      "source": [
        "tf.__version__"
      ],
      "execution_count": 4,
      "outputs": [
        {
          "output_type": "execute_result",
          "data": {
            "application/vnd.google.colaboratory.intrinsic+json": {
              "type": "string"
            },
            "text/plain": [
              "'2.3.0'"
            ]
          },
          "metadata": {
            "tags": []
          },
          "execution_count": 4
        }
      ]
    },
    {
      "cell_type": "code",
      "metadata": {
        "id": "szF4JUZk8DFi"
      },
      "source": [
        "#!pip install wget"
      ],
      "execution_count": 5,
      "outputs": []
    },
    {
      "cell_type": "code",
      "metadata": {
        "colab": {
          "base_uri": "https://localhost:8080/",
          "height": 360
        },
        "id": "HIOqZ5ip74G_",
        "outputId": "a36f6f4a-293f-4410-edca-1afcdc00f88f"
      },
      "source": [
        "# loading cola data \r\n",
        "\r\n",
        "# Original COLA train dataset\r\n",
        "# Data download for COLA \r\n",
        "import wget\r\n",
        "import os\r\n",
        "\r\n",
        "print(\"Downloading the dataset ......\")\r\n",
        "url = 'https://nyu-mll.github.io/CoLA/cola_public_1.1.zip'\r\n",
        "\r\n",
        "if not os.path.exists('./cola_public_1.1.zip'):\r\n",
        "    wget.download(url, './cola_public_1.1.zip')\r\n",
        "\r\n",
        "# unzipping the data\r\n",
        "if not os.path.exists(\"./cola_public/\"):\r\n",
        "    !unzip cola_public_1.1.zip\r\n",
        "\r\n",
        "filePath = \"./cola_public/raw/in_domain_train.tsv\"\r\n",
        "df_train = pd.read_csv(filePath, delimiter='\\t', header=None, names=['sentence_source', 'label', 'label_notes', 'sentence'])\r\n",
        "df_train.sample(10)\r\n"
      ],
      "execution_count": 5,
      "outputs": [
        {
          "output_type": "stream",
          "text": [
            "Downloading the dataset ......\n"
          ],
          "name": "stdout"
        },
        {
          "output_type": "execute_result",
          "data": {
            "text/html": [
              "<div>\n",
              "<style scoped>\n",
              "    .dataframe tbody tr th:only-of-type {\n",
              "        vertical-align: middle;\n",
              "    }\n",
              "\n",
              "    .dataframe tbody tr th {\n",
              "        vertical-align: top;\n",
              "    }\n",
              "\n",
              "    .dataframe thead th {\n",
              "        text-align: right;\n",
              "    }\n",
              "</style>\n",
              "<table border=\"1\" class=\"dataframe\">\n",
              "  <thead>\n",
              "    <tr style=\"text-align: right;\">\n",
              "      <th></th>\n",
              "      <th>sentence_source</th>\n",
              "      <th>label</th>\n",
              "      <th>label_notes</th>\n",
              "      <th>sentence</th>\n",
              "    </tr>\n",
              "  </thead>\n",
              "  <tbody>\n",
              "    <tr>\n",
              "      <th>5167</th>\n",
              "      <td>ks08</td>\n",
              "      <td>1</td>\n",
              "      <td>NaN</td>\n",
              "      <td>Tom ate what Mary offered to him.</td>\n",
              "    </tr>\n",
              "    <tr>\n",
              "      <th>4771</th>\n",
              "      <td>ks08</td>\n",
              "      <td>1</td>\n",
              "      <td>NaN</td>\n",
              "      <td>John put the books in a box.</td>\n",
              "    </tr>\n",
              "    <tr>\n",
              "      <th>2551</th>\n",
              "      <td>l-93</td>\n",
              "      <td>0</td>\n",
              "      <td>*</td>\n",
              "      <td>Cheryl stood the shelf with books.</td>\n",
              "    </tr>\n",
              "    <tr>\n",
              "      <th>8133</th>\n",
              "      <td>ad03</td>\n",
              "      <td>1</td>\n",
              "      <td>NaN</td>\n",
              "      <td>Lee's youngest and Dawn's oldest son ran away.</td>\n",
              "    </tr>\n",
              "    <tr>\n",
              "      <th>6960</th>\n",
              "      <td>m_02</td>\n",
              "      <td>1</td>\n",
              "      <td>NaN</td>\n",
              "      <td>The Minister has arrived.</td>\n",
              "    </tr>\n",
              "    <tr>\n",
              "      <th>3539</th>\n",
              "      <td>ks08</td>\n",
              "      <td>0</td>\n",
              "      <td>*</td>\n",
              "      <td>They can happy.</td>\n",
              "    </tr>\n",
              "    <tr>\n",
              "      <th>2961</th>\n",
              "      <td>l-93</td>\n",
              "      <td>1</td>\n",
              "      <td>NaN</td>\n",
              "      <td>Sandy sang a song.</td>\n",
              "    </tr>\n",
              "    <tr>\n",
              "      <th>5270</th>\n",
              "      <td>b_82</td>\n",
              "      <td>1</td>\n",
              "      <td>NaN</td>\n",
              "      <td>John is certain that the Mets will win.</td>\n",
              "    </tr>\n",
              "    <tr>\n",
              "      <th>5768</th>\n",
              "      <td>c_13</td>\n",
              "      <td>1</td>\n",
              "      <td>NaN</td>\n",
              "      <td>Although he loves marshmallows, John is not a ...</td>\n",
              "    </tr>\n",
              "    <tr>\n",
              "      <th>1552</th>\n",
              "      <td>r-67</td>\n",
              "      <td>1</td>\n",
              "      <td>NaN</td>\n",
              "      <td>Tom washed, and Dick waxed, and Harry polished...</td>\n",
              "    </tr>\n",
              "  </tbody>\n",
              "</table>\n",
              "</div>"
            ],
            "text/plain": [
              "     sentence_source  ...                                           sentence\n",
              "5167            ks08  ...                  Tom ate what Mary offered to him.\n",
              "4771            ks08  ...                       John put the books in a box.\n",
              "2551            l-93  ...                 Cheryl stood the shelf with books.\n",
              "8133            ad03  ...     Lee's youngest and Dawn's oldest son ran away.\n",
              "6960            m_02  ...                          The Minister has arrived.\n",
              "3539            ks08  ...                                    They can happy.\n",
              "2961            l-93  ...                                 Sandy sang a song.\n",
              "5270            b_82  ...            John is certain that the Mets will win.\n",
              "5768            c_13  ...  Although he loves marshmallows, John is not a ...\n",
              "1552            r-67  ...  Tom washed, and Dick waxed, and Harry polished...\n",
              "\n",
              "[10 rows x 4 columns]"
            ]
          },
          "metadata": {
            "tags": []
          },
          "execution_count": 5
        }
      ]
    },
    {
      "cell_type": "code",
      "metadata": {
        "colab": {
          "base_uri": "https://localhost:8080/",
          "height": 279
        },
        "id": "exv2Wpm28Aft",
        "outputId": "4ef8eb7c-de11-4642-d0b3-8ad71034223e"
      },
      "source": [
        "df_train[\"label\"].value_counts().plot.bar()"
      ],
      "execution_count": 6,
      "outputs": [
        {
          "output_type": "execute_result",
          "data": {
            "text/plain": [
              "<matplotlib.axes._subplots.AxesSubplot at 0x7f61da2c64d0>"
            ]
          },
          "metadata": {
            "tags": []
          },
          "execution_count": 6
        },
        {
          "output_type": "display_data",
          "data": {
            "image/png": "[encoded data removed]",
            "text/plain": [
              "<Figure size 432x288 with 1 Axes>"
            ]
          },
          "metadata": {
            "tags": [],
            "needs_background": "light"
          }
        }
      ]
    },
    {
      "cell_type": "code",
      "metadata": {
        "id": "6MS9vk4l8J2U"
      },
      "source": [
        "imbalance_fact = 5.0"
      ],
      "execution_count": 8,
      "outputs": []
    },
    {
      "cell_type": "code",
      "metadata": {
        "colab": {
          "base_uri": "https://localhost:8080/"
        },
        "id": "T7MTn_oj8MHF",
        "outputId": "38abdd76-f63e-4aef-f827-be91a07bd370"
      },
      "source": [
        "# creating the imbalance data \r\n",
        "pos = df_train[df_train[\"label\"]==1]\r\n",
        "neg = df_train[df_train[\"label\"]==0]\r\n",
        "print(pos.shape[0]//imbalance_fact)\r\n",
        "newNeg =  neg.sample(int(pos.shape[0]//imbalance_fact))\r\n",
        "df_train_imb = pd.concat([pos,newNeg])"
      ],
      "execution_count": 9,
      "outputs": [
        {
          "output_type": "stream",
          "text": [
            "1204.0\n"
          ],
          "name": "stdout"
        }
      ]
    },
    {
      "cell_type": "code",
      "metadata": {
        "colab": {
          "base_uri": "https://localhost:8080/",
          "height": 343
        },
        "id": "fcl1fiH88N_V",
        "outputId": "de6ead8e-f9d9-4714-8192-ad48e1a15be3"
      },
      "source": [
        "# COLA Test set \r\n",
        "filePath = \"./cola_public/raw/in_domain_dev.tsv\"\r\n",
        "df_test = pd.read_csv(filePath, delimiter='\\t', header=None, names=['sentence_source', 'label', 'label_notes', 'sentence'])\r\n",
        "df_test.sample(10)"
      ],
      "execution_count": 10,
      "outputs": [
        {
          "output_type": "execute_result",
          "data": {
            "text/html": [
              "<div>\n",
              "<style scoped>\n",
              "    .dataframe tbody tr th:only-of-type {\n",
              "        vertical-align: middle;\n",
              "    }\n",
              "\n",
              "    .dataframe tbody tr th {\n",
              "        vertical-align: top;\n",
              "    }\n",
              "\n",
              "    .dataframe thead th {\n",
              "        text-align: right;\n",
              "    }\n",
              "</style>\n",
              "<table border=\"1\" class=\"dataframe\">\n",
              "  <thead>\n",
              "    <tr style=\"text-align: right;\">\n",
              "      <th></th>\n",
              "      <th>sentence_source</th>\n",
              "      <th>label</th>\n",
              "      <th>label_notes</th>\n",
              "      <th>sentence</th>\n",
              "    </tr>\n",
              "  </thead>\n",
              "  <tbody>\n",
              "    <tr>\n",
              "      <th>445</th>\n",
              "      <td>sks13</td>\n",
              "      <td>1</td>\n",
              "      <td>NaN</td>\n",
              "      <td>It was from six to nine or it took place from ...</td>\n",
              "    </tr>\n",
              "    <tr>\n",
              "      <th>37</th>\n",
              "      <td>bc01</td>\n",
              "      <td>1</td>\n",
              "      <td>NaN</td>\n",
              "      <td>We persuaded Mary to leave and Sue to stay.</td>\n",
              "    </tr>\n",
              "    <tr>\n",
              "      <th>211</th>\n",
              "      <td>l-93</td>\n",
              "      <td>1</td>\n",
              "      <td>NaN</td>\n",
              "      <td>The stream twists through the valley.</td>\n",
              "    </tr>\n",
              "    <tr>\n",
              "      <th>4</th>\n",
              "      <td>cj99</td>\n",
              "      <td>0</td>\n",
              "      <td>*</td>\n",
              "      <td>As you eat the most, you want the least.</td>\n",
              "    </tr>\n",
              "    <tr>\n",
              "      <th>487</th>\n",
              "      <td>ad03</td>\n",
              "      <td>1</td>\n",
              "      <td>NaN</td>\n",
              "      <td>Anson demonized David every day</td>\n",
              "    </tr>\n",
              "    <tr>\n",
              "      <th>202</th>\n",
              "      <td>l-93</td>\n",
              "      <td>0</td>\n",
              "      <td>*</td>\n",
              "      <td>My heart is pounding me.</td>\n",
              "    </tr>\n",
              "    <tr>\n",
              "      <th>476</th>\n",
              "      <td>ad03</td>\n",
              "      <td>1</td>\n",
              "      <td>NaN</td>\n",
              "      <td>You kicked yourselves</td>\n",
              "    </tr>\n",
              "    <tr>\n",
              "      <th>29</th>\n",
              "      <td>bc01</td>\n",
              "      <td>0</td>\n",
              "      <td>*</td>\n",
              "      <td>The tube was escaped by gas.</td>\n",
              "    </tr>\n",
              "    <tr>\n",
              "      <th>225</th>\n",
              "      <td>ks08</td>\n",
              "      <td>0</td>\n",
              "      <td>*</td>\n",
              "      <td>Some my jobs are in jeopardy.</td>\n",
              "    </tr>\n",
              "    <tr>\n",
              "      <th>48</th>\n",
              "      <td>bc01</td>\n",
              "      <td>1</td>\n",
              "      <td>NaN</td>\n",
              "      <td>I remembered having kissed Mary.</td>\n",
              "    </tr>\n",
              "  </tbody>\n",
              "</table>\n",
              "</div>"
            ],
            "text/plain": [
              "    sentence_source  ...                                           sentence\n",
              "445           sks13  ...  It was from six to nine or it took place from ...\n",
              "37             bc01  ...        We persuaded Mary to leave and Sue to stay.\n",
              "211            l-93  ...              The stream twists through the valley.\n",
              "4              cj99  ...           As you eat the most, you want the least.\n",
              "487            ad03  ...                    Anson demonized David every day\n",
              "202            l-93  ...                           My heart is pounding me.\n",
              "476            ad03  ...                              You kicked yourselves\n",
              "29             bc01  ...                       The tube was escaped by gas.\n",
              "225            ks08  ...                      Some my jobs are in jeopardy.\n",
              "48             bc01  ...                   I remembered having kissed Mary.\n",
              "\n",
              "[10 rows x 4 columns]"
            ]
          },
          "metadata": {
            "tags": []
          },
          "execution_count": 10
        }
      ]
    },
    {
      "cell_type": "code",
      "metadata": {
        "colab": {
          "base_uri": "https://localhost:8080/"
        },
        "id": "ndQEPdWv8R1m",
        "outputId": "2c638d0b-e05c-4507-b296-c82b46cc5277"
      },
      "source": [
        "# test Set \r\n",
        "pos = df_test[df_test[\"label\"]==1]\r\n",
        "neg = df_test[df_test[\"label\"]==0]\r\n",
        "print(pos.shape[0]//imbalance_fact)\r\n",
        "newNeg =  neg.sample(int(pos.shape[0]//imbalance_fact))\r\n",
        "df_test_imb = pd.concat([pos,newNeg])"
      ],
      "execution_count": 26,
      "outputs": [
        {
          "output_type": "stream",
          "text": [
            "73.0\n"
          ],
          "name": "stdout"
        }
      ]
    },
    {
      "cell_type": "code",
      "metadata": {
        "colab": {
          "base_uri": "https://localhost:8080/"
        },
        "id": "kzT-_ShR8UAU",
        "outputId": "697a5c52-0dcc-402e-9811-99eadab4441e"
      },
      "source": [
        "# COLA Dataset train dataset \r\n",
        "cola_x_train = df_train_imb[\"sentence\"].to_numpy()\r\n",
        "cola_y_train = df_train_imb[\"label\"].to_numpy()\r\n",
        "vocabSize = 10000\r\n",
        "tokenizer = tf.keras.preprocessing.text.Tokenizer(\r\n",
        "    num_words=vocabSize,\r\n",
        "    filters='!\"#$%&()*+,-./:;<=>?@[\\\\]^_`{|}~\\t\\n',\r\n",
        "    lower=True, split=' ', char_level=False, oov_token=None)\r\n",
        "tokenizer.fit_on_texts(cola_x_train)\r\n",
        "cola_tensor = tokenizer.texts_to_sequences(cola_x_train)\r\n",
        "\r\n",
        "maxLength = max([len(c) for c in cola_tensor])\r\n",
        "print(\"Cola current sample max length : \",maxLength)\r\n",
        "\r\n",
        "maxLen = 40\r\n",
        "cola_tensor = tf.keras.preprocessing.sequence.pad_sequences(cola_tensor,maxlen = maxLen,\r\n",
        "                                                         padding='post')\r\n",
        "\r\n",
        "cola_x_train =  cola_tensor"
      ],
      "execution_count": 27,
      "outputs": [
        {
          "output_type": "stream",
          "text": [
            "Cola current sample max length :  42\n"
          ],
          "name": "stdout"
        }
      ]
    },
    {
      "cell_type": "code",
      "metadata": {
        "colab": {
          "base_uri": "https://localhost:8080/"
        },
        "id": "HbJKXxq68Wxj",
        "outputId": "ea514427-2fbc-47b1-e06d-8fdb7c9e8e59"
      },
      "source": [
        "cola_x_train.shape"
      ],
      "execution_count": 28,
      "outputs": [
        {
          "output_type": "execute_result",
          "data": {
            "text/plain": [
              "(7227, 40)"
            ]
          },
          "metadata": {
            "tags": []
          },
          "execution_count": 28
        }
      ]
    },
    {
      "cell_type": "code",
      "metadata": {
        "id": "o1JXL-pI8Y7G"
      },
      "source": [
        "# COLA test dataset\r\n",
        "cola_x_test = df_test_imb[\"sentence\"].to_numpy()\r\n",
        "cola_y_test = df_test_imb[\"label\"].to_numpy()\r\n",
        "#vocabSize = 10000\r\n",
        "# tokenizer = tf.keras.preprocessing.text.Tokenizer(\r\n",
        "#     num_words=vocabSize,\r\n",
        "#     filters='!\"#$%&()*+,-./:;<=>?@[\\\\]^_`{|}~\\t\\n',\r\n",
        "#     lower=True, split=' ', char_level=False, oov_token=None)\r\n",
        "# tokenizer.fit_on_texts(cola_x_train)\r\n",
        "cola_tensor = tokenizer.texts_to_sequences(cola_x_test)\r\n",
        "\r\n",
        "# maxLength = max([len(c) for c in cola_tensor])\r\n",
        "#print(\"Cola current sample max length : \",maxLength)\r\n",
        "\r\n",
        "maxLen = 40\r\n",
        "cola_tensor = tf.keras.preprocessing.sequence.pad_sequences(cola_tensor,maxlen = maxLen,\r\n",
        "                                                         padding='post')\r\n",
        "cola_x_test =  cola_tensor\r\n"
      ],
      "execution_count": 29,
      "outputs": []
    },
    {
      "cell_type": "code",
      "metadata": {
        "colab": {
          "base_uri": "https://localhost:8080/",
          "height": 292
        },
        "id": "RPaSngui8bcU",
        "outputId": "e1401851-adc7-4d85-86a4-6788f94c12e0"
      },
      "source": [
        "# Let's plot the imabalnce for train set\r\n",
        "df_train_imb[\"label\"].value_counts().plot.bar()\r\n",
        "plt.xlabel(\"Correct(1)/Not Correct(0)\")\r\n",
        "plt.ylabel(\"Counts\")\r\n",
        "plt.title(\"Cola dataset at imbalance\"+str(imbalance_fact))\r\n",
        "plt.grid()"
      ],
      "execution_count": null,
      "outputs": [
        {
          "output_type": "display_data",
          "data": {
            "image/png": "[encoded data removed]",
            "text/plain": [
              "<Figure size 432x288 with 1 Axes>"
            ]
          },
          "metadata": {
            "tags": [],
            "needs_background": "light"
          }
        }
      ]
    },
    {
      "cell_type": "code",
      "metadata": {
        "colab": {
          "base_uri": "https://localhost:8080/",
          "height": 292
        },
        "id": "ap2Du9428dos",
        "outputId": "77ca58ef-32ae-437f-ac12-884447a745e0"
      },
      "source": [
        "# Let's plot the imabalnce for test set\r\n",
        "\r\n",
        "df_test_imb[\"label\"].value_counts().plot.bar()\r\n",
        "plt.xlabel(\"Correct(1)/Not Correct(0)\")\r\n",
        "plt.ylabel(\"Counts\")\r\n",
        "plt.title(\"Cola dataset at imbalance 2.5:1\")\r\n",
        "plt.grid()"
      ],
      "execution_count": null,
      "outputs": [
        {
          "output_type": "display_data",
          "data": {
            "image/png": "[encoded data removed]",
            "text/plain": [
              "<Figure size 432x288 with 1 Axes>"
            ]
          },
          "metadata": {
            "tags": [],
            "needs_background": "light"
          }
        }
      ]
    },
    {
      "cell_type": "code",
      "metadata": {
        "colab": {
          "base_uri": "https://localhost:8080/"
        },
        "id": "_Qai4yKV8ffb",
        "outputId": "3df6bd7f-66c8-4116-9c14-a8d0485e8577"
      },
      "source": [
        "    embed_size = 128\r\n",
        "    inputs = keras.Input(shape=(None,), dtype=\"int32\")\r\n",
        "    # Embed each integer in a 128-dimensional vector\r\n",
        "    x = layers.Embedding(vocabSize, embed_size)(inputs)\r\n",
        "    # Add 2 bidirectional LSTMs\r\n",
        "    x = layers.Bidirectional(layers.LSTM(64, return_sequences=True))(x)\r\n",
        "    x = layers.Bidirectional(layers.LSTM(64))(x)\r\n",
        "    # Add a classifier\r\n",
        "    outputs = layers.Dense(1, activation=\"sigmoid\")(x)\r\n",
        "    imbalanceTest = keras.Model(inputs, outputs)\r\n",
        "    imbalanceTest.compile(\"adam\", loss =[\"BinaryCrossentropy\"],metrics=[tf.keras.metrics.Accuracy()],run_eagerly=True)\r\n",
        "    imbalanceTest.summary()\r\n",
        "    #imbalanceTest.fit(cola_x_train, cola_y_train, batch_size=32, epochs=2,verbose = 1)"
      ],
      "execution_count": null,
      "outputs": [
        {
          "output_type": "stream",
          "text": [
            "Model: \"model_2\"\n",
            "_________________________________________________________________\n",
            "Layer (type)                 Output Shape              Param #   \n",
            "=================================================================\n",
            "input_4 (InputLayer)         [(None, None)]            0         \n",
            "_________________________________________________________________\n",
            "embedding_2 (Embedding)      (None, None, 128)         1280000   \n",
            "_________________________________________________________________\n",
            "bidirectional_4 (Bidirection (None, None, 128)         98816     \n",
            "_________________________________________________________________\n",
            "bidirectional_5 (Bidirection (None, 128)               98816     \n",
            "_________________________________________________________________\n",
            "dense_2 (Dense)              (None, 1)                 129       \n",
            "=================================================================\n",
            "Total params: 1,477,761\n",
            "Trainable params: 1,477,761\n",
            "Non-trainable params: 0\n",
            "_________________________________________________________________\n"
          ],
          "name": "stdout"
        }
      ]
    },
    {
      "cell_type": "code",
      "metadata": {
        "colab": {
          "base_uri": "https://localhost:8080/"
        },
        "id": "anzGmi3l8wl8",
        "outputId": "08610537-fc81-49fc-df6f-753a4bc723d4"
      },
      "source": [
        "imbalanceTest.fit(cola_x_train, cola_y_train, batch_size=32, epochs=2,verbose = 1)"
      ],
      "execution_count": null,
      "outputs": [
        {
          "output_type": "stream",
          "text": [
            "Epoch 1/2\n",
            "226/226 [==============================] - 85s 376ms/step - loss: 0.4849 - accuracy: 0.0000e+00\n",
            "Epoch 2/2\n",
            "226/226 [==============================] - 84s 372ms/step - loss: 0.4169 - accuracy: 0.0000e+00\n"
          ],
          "name": "stdout"
        },
        {
          "output_type": "execute_result",
          "data": {
            "text/plain": [
              "<tensorflow.python.keras.callbacks.History at 0x7fcce59f6250>"
            ]
          },
          "metadata": {
            "tags": []
          },
          "execution_count": 34
        }
      ]
    },
    {
      "cell_type": "code",
      "metadata": {
        "colab": {
          "base_uri": "https://localhost:8080/"
        },
        "id": "LmU0I2Ux82dz",
        "outputId": "f4d92a79-6a22-4bf0-82d2-a3d4a876f75d"
      },
      "source": [
        "cola_y_train"
      ],
      "execution_count": null,
      "outputs": [
        {
          "output_type": "execute_result",
          "data": {
            "text/plain": [
              "array([1, 1, 1, ..., 0, 0, 0])"
            ]
          },
          "metadata": {
            "tags": []
          },
          "execution_count": 23
        }
      ]
    },
    {
      "cell_type": "code",
      "metadata": {
        "colab": {
          "base_uri": "https://localhost:8080/",
          "height": 162
        },
        "id": "ABk0_q2i9WRj",
        "outputId": "fd86e332-f735-429a-bf02-52a8f8a5c009"
      },
      "source": [
        "df.shape"
      ],
      "execution_count": null,
      "outputs": [
        {
          "output_type": "error",
          "ename": "NameError",
          "evalue": "ignored",
          "traceback": [
            "\u001b[0;31m---------------------------------------------------------------------------\u001b[0m",
            "\u001b[0;31mNameError\u001b[0m                                 Traceback (most recent call last)",
            "\u001b[0;32m<ipython-input-35-633337079cd0>\u001b[0m in \u001b[0;36m<module>\u001b[0;34m()\u001b[0m\n\u001b[0;32m----> 1\u001b[0;31m \u001b[0mdf\u001b[0m\u001b[0;34m.\u001b[0m\u001b[0mshape\u001b[0m\u001b[0;34m\u001b[0m\u001b[0;34m\u001b[0m\u001b[0m\n\u001b[0m",
            "\u001b[0;31mNameError\u001b[0m: name 'df' is not defined"
          ]
        }
      ]
    },
    {
      "cell_type": "code",
      "metadata": {
        "colab": {
          "base_uri": "https://localhost:8080/"
        },
        "id": "dRm4PUEu-Wy3",
        "outputId": "a9b70622-82bc-49b3-eb0c-5412ca0fb0e4"
      },
      "source": [
        "df_train.shape"
      ],
      "execution_count": null,
      "outputs": [
        {
          "output_type": "execute_result",
          "data": {
            "text/plain": [
              "(8551, 4)"
            ]
          },
          "metadata": {
            "tags": []
          },
          "execution_count": 36
        }
      ]
    },
    {
      "cell_type": "code",
      "metadata": {
        "colab": {
          "base_uri": "https://localhost:8080/"
        },
        "id": "hy6bmC53-cGj",
        "outputId": "3ef8c283-0c72-4fe1-bfd9-9f0d5037edb5"
      },
      "source": [
        "cola_x_train = df_train[\"sentence\"].to_numpy()\r\n",
        "cola_y_train = df_train[\"label\"].to_numpy()\r\n",
        "vocabSize = 10000\r\n",
        "tokenizer = tf.keras.preprocessing.text.Tokenizer(\r\n",
        "    num_words=vocabSize,\r\n",
        "    filters='!\"#$%&()*+,-./:;<=>?@[\\\\]^_`{|}~\\t\\n',\r\n",
        "    lower=True, split=' ', char_level=False, oov_token=None)\r\n",
        "tokenizer.fit_on_texts(cola_x_train)\r\n",
        "cola_tensor = tokenizer.texts_to_sequences(cola_x_train)\r\n",
        "\r\n",
        "maxLength = max([len(c) for c in cola_tensor])\r\n",
        "print(\"Cola current sample max length : \",maxLength)\r\n",
        "\r\n",
        "maxLen = 40\r\n",
        "cola_tensor = tf.keras.preprocessing.sequence.pad_sequences(cola_tensor,maxlen = maxLen,\r\n",
        "                                                         padding='post')\r\n",
        "\r\n",
        "cola_x_train =  cola_tensor"
      ],
      "execution_count": null,
      "outputs": [
        {
          "output_type": "stream",
          "text": [
            "Cola current sample max length :  42\n"
          ],
          "name": "stdout"
        }
      ]
    },
    {
      "cell_type": "code",
      "metadata": {
        "colab": {
          "base_uri": "https://localhost:8080/"
        },
        "id": "moB-w869-nyK",
        "outputId": "da449a51-c9b1-4aa7-a4e3-689f53d3656e"
      },
      "source": [
        "cola_x_train"
      ],
      "execution_count": null,
      "outputs": [
        {
          "output_type": "execute_result",
          "data": {
            "text/plain": [
              "array([[ 221,  271,  253, ...,    0,    0,    0],\n",
              "       [  79,   25, 2634, ...,    0,    0,    0],\n",
              "       [  79,   25, 2634, ...,    0,    0,    0],\n",
              "       ...,\n",
              "       [  14,    6,  180, ...,    0,    0,    0],\n",
              "       [   5,   39,    1, ...,    0,    0,    0],\n",
              "       [  43,   53,   22, ...,    0,    0,    0]], dtype=int32)"
            ]
          },
          "metadata": {
            "tags": []
          },
          "execution_count": 38
        }
      ]
    },
    {
      "cell_type": "code",
      "metadata": {
        "colab": {
          "base_uri": "https://localhost:8080/"
        },
        "id": "7-yx0r4G-p90",
        "outputId": "b2a47534-b816-44cb-be61-0f193a1c1962"
      },
      "source": [
        "cola_x_train.shape"
      ],
      "execution_count": null,
      "outputs": [
        {
          "output_type": "execute_result",
          "data": {
            "text/plain": [
              "(8551, 40)"
            ]
          },
          "metadata": {
            "tags": []
          },
          "execution_count": 40
        }
      ]
    },
    {
      "cell_type": "code",
      "metadata": {
        "colab": {
          "base_uri": "https://localhost:8080/"
        },
        "id": "__7hUb5W-rxD",
        "outputId": "be6180df-d0f1-41c2-a7ed-bb2230803234"
      },
      "source": [
        "np.unique(cola_y_train)"
      ],
      "execution_count": null,
      "outputs": [
        {
          "output_type": "execute_result",
          "data": {
            "text/plain": [
              "array([0, 1])"
            ]
          },
          "metadata": {
            "tags": []
          },
          "execution_count": 46
        }
      ]
    },
    {
      "cell_type": "code",
      "metadata": {
        "colab": {
          "base_uri": "https://localhost:8080/"
        },
        "id": "ffMHvjll-uyF",
        "outputId": "ab24b5ca-0e4f-4f30-94ac-1c6bd1b8a25d"
      },
      "source": [
        "df_train['label']"
      ],
      "execution_count": null,
      "outputs": [
        {
          "output_type": "execute_result",
          "data": {
            "text/plain": [
              "0       1\n",
              "1       1\n",
              "2       1\n",
              "3       1\n",
              "4       1\n",
              "       ..\n",
              "8546    0\n",
              "8547    0\n",
              "8548    1\n",
              "8549    1\n",
              "8550    1\n",
              "Name: label, Length: 8551, dtype: int64"
            ]
          },
          "metadata": {
            "tags": []
          },
          "execution_count": 42
        }
      ]
    },
    {
      "cell_type": "code",
      "metadata": {
        "colab": {
          "base_uri": "https://localhost:8080/"
        },
        "id": "W9sRuOQA-8cC",
        "outputId": "68d05e7a-3bbf-49bf-ebac-48b4f0f9573b"
      },
      "source": [
        "imbalanceTest.fit(cola_x_train,cola_y_train,epochs = 2)"
      ],
      "execution_count": null,
      "outputs": [
        {
          "output_type": "stream",
          "text": [
            "Epoch 1/2\n",
            "268/268 [==============================] - 99s 369ms/step - loss: 0.5152 - accuracy: 0.0000e+00\n",
            "Epoch 2/2\n",
            "268/268 [==============================] - 99s 370ms/step - loss: 0.4354 - accuracy: 0.0000e+00\n"
          ],
          "name": "stdout"
        },
        {
          "output_type": "execute_result",
          "data": {
            "text/plain": [
              "<tensorflow.python.keras.callbacks.History at 0x7fccdd96e2d0>"
            ]
          },
          "metadata": {
            "tags": []
          },
          "execution_count": 49
        }
      ]
    },
    {
      "cell_type": "code",
      "metadata": {
        "colab": {
          "base_uri": "https://localhost:8080/"
        },
        "id": "XcHLQUeO_Qch",
        "outputId": "61330d74-d53d-4b06-e6ee-54591aba2253"
      },
      "source": [
        "cola_x_train"
      ],
      "execution_count": null,
      "outputs": [
        {
          "output_type": "execute_result",
          "data": {
            "text/plain": [
              "array([[ 221,  271,  253, ...,    0,    0,    0],\n",
              "       [  79,   25, 2634, ...,    0,    0,    0],\n",
              "       [  79,   25, 2634, ...,    0,    0,    0],\n",
              "       ...,\n",
              "       [  14,    6,  180, ...,    0,    0,    0],\n",
              "       [   5,   39,    1, ...,    0,    0,    0],\n",
              "       [  43,   53,   22, ...,    0,    0,    0]], dtype=int32)"
            ]
          },
          "metadata": {
            "tags": []
          },
          "execution_count": 48
        }
      ]
    },
    {
      "cell_type": "code",
      "metadata": {
        "id": "jXkAjS3m_t3m"
      },
      "source": [
        "# IMDB data\r\n",
        "\r\n",
        "class ModifiedMetrics(object):\r\n",
        "    \"\"\" Metrics class where allt he difference metrics is called as written above, needs to be extended as we \r\n",
        "    collect mroe and more metrics\"\"\"\r\n",
        "    def __init__(self,threshold = 0.5): # mainly for binary classification now , but to be extedned for multiclass\r\n",
        "        self.threshold = threshold             \r\n",
        "\r\n",
        "    def Specificity(self,y_true,y_pred):\r\n",
        "        \"\"\" TN/(TN+FP) \"\"\"\r\n",
        "        y_pred = np.array([1 if y>self.threshold else 0 for y in y_pred.numpy()])\r\n",
        "        y_true = y_true.numpy()\r\n",
        "        tn, fp, fn, tp = confusion_matrix(y_true, y_pred,labels=[0,1]).ravel()\r\n",
        "        return tn/(tn+fp+1)\r\n",
        "    \r\n",
        "    def Sensitivity(self,y_true,y_pred):\r\n",
        "        \"\"\" TP/(TP + FN) \"\"\"\r\n",
        "        y_pred =np.array([1 if y>self.threshold else 0 for y in y_pred.numpy() ])\r\n",
        "        y_true = y_true.numpy()\r\n",
        "        tn, fp, fn, tp = confusion_matrix(y_true, y_pred,labels = [0,1] ).ravel()\r\n",
        "        return tp/(tp+fn+1)\r\n",
        "\r\n",
        "    def modifiedF1Score(self,y_true,y_pred):\r\n",
        "        \"\"\"modified f1 score  \"\"\"\r\n",
        "        y_pred = np.array([1 if y>self.threshold else 0 for y in y_pred.numpy() ])\r\n",
        "        y_true = y_true.numpy()\r\n",
        "        tn, fp, fn, tp = confusion_matrix(y_true, y_pred,labels = [0,1]).ravel()\r\n",
        "        prec = tp/(tp+fp+1)\r\n",
        "        recall = tp/(tp+fn+1)\r\n",
        "        beta = 1\r\n",
        "        modf1score = (1+beta**2)*(prec*recall)/(beta**2*recall + prec)\r\n",
        "        return modf1score\r\n",
        "        \r\n",
        "    def calGmean(self,y_true,y_pred):\r\n",
        "        \"\"\" G mean function to check harmonic mean Sensitivity and Specificity \"\"\"\r\n",
        "        y_pred = np.array([1 if y>self.threshold else 0 for y in y_pred.numpy() ])\r\n",
        "        y_true = y_true.numpy()\r\n",
        "        tn, fp, fn, tp = confusion_matrix(y_true, y_pred,labels=[0,1]).ravel()\r\n",
        "        return (tp/(tp+fn+1))*(tn/(tn+fp+1))**0.5\r\n",
        "\r\n",
        "    def calMCCCoeff(self,y_true,y_pred):\r\n",
        "        \"\"\" Mathrews correlation coefficent \"\"\"\r\n",
        "        y_pred = np.array([1 if y>self.threshold else 0 for y in y_pred.numpy()])\r\n",
        "        y_true = y_true.numpy()\r\n",
        "        tn, fp, fn, tp = confusion_matrix(y_true, y_pred,labels = [0,1]).ravel()\r\n",
        "        mcc  =  ((tp*tn) - (fp*fn))/np.sqrt((tp+fp+1)*(tp+fn+1)*(tn+fp+1)*(tn+fn+1))\r\n",
        "        return mcc\r\n",
        "\r\n",
        "    def Accuracy(self,y_true,y_pred):\r\n",
        "        \"\"\" Mathrews correlation coefficent \"\"\"\r\n",
        "        y_pred = np.array([1 if y>self.threshold else 0 for y in y_pred.numpy() ])\r\n",
        "        y_true = y_true.numpy()\r\n",
        "        tn, fp, fn, tp = confusion_matrix(y_true, y_pred,labels = [0,1]).ravel()\r\n",
        "        acc = (tp+tn)/(tp+tn+fp+fn)\r\n",
        "        return acc"
      ],
      "execution_count": 11,
      "outputs": []
    },
    {
      "cell_type": "code",
      "metadata": {
        "id": "hypiKYDxZ28O"
      },
      "source": [
        "# Focal Loss\r\n",
        "def focal_loss(gamma=2, alpha=0.75):\r\n",
        "    def focal_loss_fixed(y_true, y_pred):\r\n",
        "        pt_1 = tf.where(tf.equal(y_true, 1), y_pred, tf.ones_like(y_pred))\r\n",
        "        #print(pt_1)\r\n",
        "        pt_0 = tf.where(tf.equal(y_true, 0), y_pred, tf.zeros_like(y_pred))\r\n",
        "        #print(pt_0)\r\n",
        "\r\n",
        "        #print(\"first term: \", alpha * K.pow(1. - pt_1, gamma) * K.log(pt_1))\r\n",
        "        #print(\"second term:\", (1-alpha) * K.pow( pt_0, gamma) * K.log(1. - pt_0))\r\n",
        "        return -K.sum(alpha * K.pow(1. - pt_1, gamma) * K.log(pt_1))-K.sum((1-alpha) * K.pow( pt_0, gamma) * K.log(1. - pt_0))\r\n",
        "    return focal_loss_fixed \r\n"
      ],
      "execution_count": 12,
      "outputs": []
    },
    {
      "cell_type": "code",
      "metadata": {
        "id": "Pv3-jA2JZ6kM"
      },
      "source": [
        "# class balanced Focal Loss\r\n",
        "def classBalancedFocalLoss(y_true,y_pred):\r\n",
        "    \"\"\" pt = y_pred so for y_true = 1 ,pt = y_pred else 1-y_pred \"\"\"\r\n",
        "    #print(\"Y_true:\",y_true)\r\n",
        "    #print(\"Y_pred\",y_pred)\r\n",
        "    pt = tf.where(tf.math.equal(y_true,1),y_pred,1-y_pred)\r\n",
        "    pt = tf.cast(pt,tf.float64)\r\n",
        "    #alpha = 0.24\r\n",
        "    numOne =  tf.cast(tf.reduce_sum(tf.where(tf.math.equal(y_true,1),1,0),axis = 0),tf.float64)\r\n",
        "    #print(\"Number of positive Sample \",numOne)\r\n",
        "    numZero =  tf.cast(tf.reduce_sum(tf.where(tf.math.equal(y_true,0),1,0),axis = 0),tf.float64)\r\n",
        "    #print(\"Number of negative Sample \",numZero)\r\n",
        "    beta = 0.9\r\n",
        "    weight = tf.where(tf.math.equal(y_true,1),(1-beta)/(1-beta**numOne),(1-beta)/(1-beta**numZero))\r\n",
        "    #print(weight)\r\n",
        "    gamma = 2.0\r\n",
        "    #weight = tf.where(tf.math.equal(y_true,1),alpha,1-alpha)\r\n",
        "    weight = tf.cast(weight,tf.float64)\r\n",
        "    #print(pt)\r\n",
        "    #print(weight)\r\n",
        "    loss = -tf.math.log(pt)*weight*tf.math.pow(1-pt,gamma)\r\n",
        "    #print(\"Loss coming\",loss)\r\n",
        "    #print(\"mult\",loss)\r\n",
        "    total_loss = tf.math.reduce_sum(loss,axis = 0)\r\n",
        "    return total_loss \r\n"
      ],
      "execution_count": 13,
      "outputs": []
    },
    {
      "cell_type": "code",
      "metadata": {
        "id": "5Y1S415GZ_dI"
      },
      "source": [
        "def LDAMLoss(y_true,y_pred):\r\n",
        "    log_odd = tf.cast(tf.math.log(y_pred/(1-y_pred)),tf.float64)\r\n",
        "    # marginalized \r\n",
        "    numOne =  tf.cast(tf.reduce_sum(tf.where(tf.math.equal(y_true,1),1,0),axis = 0),tf.float64)\r\n",
        "    #print(\"Number of positive Sample \",numOne)\r\n",
        "    numZero =  tf.cast(tf.reduce_sum(tf.where(tf.math.equal(y_true,0),1,0),axis = 0),tf.float64)\r\n",
        "    # marginalized log_odds  extra margin \r\n",
        "    margin_logodd = tf.where(tf.math.equal(y_true,1),log_odd - (1.0/numOne**0.25),log_odd-(1.0/numZero**0.25))\r\n",
        "    pt = tf.math.sigmoid(margin_logodd)\r\n",
        "    #print(\"changed probablities: \",pt)\r\n",
        "    pt = tf.where(tf.math.equal(y_true,1),pt,1-pt)\r\n",
        "    loss = -tf.math.log(pt)\r\n",
        "    total_loss = tf.math.reduce_sum(loss,axis = 0)\r\n",
        "    #print(\"total loss\", total_loss)\r\n",
        "    return total_loss\r\n"
      ],
      "execution_count": 14,
      "outputs": []
    },
    {
      "cell_type": "code",
      "metadata": {
        "id": "LF96AmhTaCKU"
      },
      "source": [
        "metric = ModifiedMetrics(0.5)"
      ],
      "execution_count": 15,
      "outputs": []
    },
    {
      "cell_type": "code",
      "metadata": {
        "colab": {
          "base_uri": "https://localhost:8080/"
        },
        "id": "XZIApuaxaEv-",
        "outputId": "e97737bd-9133-462c-9754-96a6b818a4ff"
      },
      "source": [
        "# IMDB dataset\r\n",
        "import keras\r\n",
        "\r\n",
        "max_features = 20000  # Only consider the top 20k words\r\n",
        "maxlen = 200  # Only consider the first 200 words of each movie review\r\n",
        "\r\n",
        "# Input for variable-length sequences of integers\r\n",
        "inputs = keras.Input(shape=(None,), dtype=\"int32\")\r\n",
        "# Embed each integer in a 128-dimensional vector\r\n",
        "x = layers.Embedding(max_features, 128)(inputs)\r\n",
        "# Add 2 bidirectional LSTMs\r\n",
        "x = layers.Bidirectional(layers.LSTM(64, return_sequences=True))(x)\r\n",
        "x = layers.Bidirectional(layers.LSTM(64))(x)\r\n",
        "# Add a classifier\r\n",
        "outputs = layers.Dense(1, activation=\"sigmoid\")(x)\r\n",
        "imdb_model = keras.Model(inputs, outputs)\r\n",
        "imdb_model.summary()"
      ],
      "execution_count": null,
      "outputs": [
        {
          "output_type": "stream",
          "text": [
            "Model: \"functional_5\"\n",
            "_________________________________________________________________\n",
            "Layer (type)                 Output Shape              Param #   \n",
            "=================================================================\n",
            "input_3 (InputLayer)         [(None, None)]            0         \n",
            "_________________________________________________________________\n",
            "embedding_2 (Embedding)      (None, None, 128)         2560000   \n",
            "_________________________________________________________________\n",
            "bidirectional_4 (Bidirection (None, None, 128)         98816     \n",
            "_________________________________________________________________\n",
            "bidirectional_5 (Bidirection (None, 128)               98816     \n",
            "_________________________________________________________________\n",
            "dense_2 (Dense)              (None, 1)                 129       \n",
            "=================================================================\n",
            "Total params: 2,757,761\n",
            "Trainable params: 2,757,761\n",
            "Non-trainable params: 0\n",
            "_________________________________________________________________\n"
          ],
          "name": "stdout"
        }
      ]
    },
    {
      "cell_type": "code",
      "metadata": {
        "colab": {
          "base_uri": "https://localhost:8080/"
        },
        "id": "mwIH-kt6aIp5",
        "outputId": "552426ab-b4e1-451a-d434-02036cc8eff7"
      },
      "source": [
        "(x_train, y_train), (x_val, y_val) = keras.datasets.imdb.load_data(\r\n",
        "    num_words=max_features\r\n",
        ")\r\n",
        "print(len(x_train), \"Training sequences\")\r\n",
        "print(len(x_val), \"Validation sequences\")\r\n",
        "x_train = keras.preprocessing.sequence.pad_sequences(x_train, maxlen=maxlen)\r\n",
        "x_val = keras.preprocessing.sequence.pad_sequences(x_val, maxlen=maxlen)"
      ],
      "execution_count": null,
      "outputs": [
        {
          "output_type": "stream",
          "text": [
            "25000 Training sequences\n",
            "25000 Validation sequences\n"
          ],
          "name": "stdout"
        }
      ]
    },
    {
      "cell_type": "code",
      "metadata": {
        "colab": {
          "base_uri": "https://localhost:8080/"
        },
        "id": "aTs3MOSoaXRj",
        "outputId": "f1711e16-3104-4000-ac50-8a766241c88c"
      },
      "source": [
        "imdb_model.compile(\"adam\", loss = [classBalancedFocalLoss], metrics=[\"accuracy\",metric.calMCCCoeff], run_eagerly = True)\r\n",
        "imdb_model.fit(x_train, y_train, batch_size=128, epochs=2, validation_data= (x_val,y_val))"
      ],
      "execution_count": null,
      "outputs": [
        {
          "output_type": "stream",
          "text": [
            "Epoch 1/2\n",
            "196/196 [==============================] - 71s 364ms/step - loss: 1.2721 - accuracy: 0.8177 - calMCCCoeff: 0.6256 - val_loss: 1.0082 - val_accuracy: 0.8736 - val_calMCCCoeff: 0.7244\n",
            "Epoch 2/2\n",
            "196/196 [==============================] - 72s 370ms/step - loss: 0.6080 - accuracy: 0.9354 - calMCCCoeff: 0.8444 - val_loss: 1.3604 - val_accuracy: 0.8364 - val_calMCCCoeff: 0.6665\n"
          ],
          "name": "stdout"
        },
        {
          "output_type": "execute_result",
          "data": {
            "text/plain": [
              "<tensorflow.python.keras.callbacks.History at 0x7f34716cbc10>"
            ]
          },
          "metadata": {
            "tags": []
          },
          "execution_count": 25
        }
      ]
    },
    {
      "cell_type": "code",
      "metadata": {
        "colab": {
          "base_uri": "https://localhost:8080/"
        },
        "id": "ZRVFtisPabsu",
        "outputId": "5c00a31d-6eff-4fda-e6ac-cae06bb4c7a6"
      },
      "source": [
        "# Cola DataSet \r\n",
        "!pip install transformers\r\n"
      ],
      "execution_count": 36,
      "outputs": [
        {
          "output_type": "stream",
          "text": [
            "Collecting transformers\n",
            "\u001b[?25l  Downloading https://files.pythonhosted.org/packages/f9/54/5ca07ec9569d2f232f3166de5457b63943882f7950ddfcc887732fc7fb23/transformers-4.3.3-py3-none-any.whl (1.9MB)\n",
            "\r\u001b[K     |▏                               | 10kB 23.9MB/s eta 0:00:01\r\u001b[K     |▍                               | 20kB 15.2MB/s eta 0:00:01\r\u001b[K     |▌                               | 30kB 13.7MB/s eta 0:00:01\r\u001b[K     |▊                               | 40kB 12.8MB/s eta 0:00:01\r\u001b[K     |▉                               | 51kB 8.9MB/s eta 0:00:01\r\u001b[K     |█                               | 61kB 9.6MB/s eta 0:00:01\r\u001b[K     |█▏                              | 71kB 9.5MB/s eta 0:00:01\r\u001b[K     |█▍                              | 81kB 10.5MB/s eta 0:00:01\r\u001b[K     |█▌                              | 92kB 10.0MB/s eta 0:00:01\r\u001b[K     |█▊                              | 102kB 8.1MB/s eta 0:00:01\r\u001b[K     |██                              | 112kB 8.1MB/s eta 0:00:01\r\u001b[K     |██                              | 122kB 8.1MB/s eta 0:00:01\r\u001b[K     |██▎                             | 133kB 8.1MB/s eta 0:00:01\r\u001b[K     |██▍                             | 143kB 8.1MB/s eta 0:00:01\r\u001b[K     |██▋                             | 153kB 8.1MB/s eta 0:00:01\r\u001b[K     |██▊                             | 163kB 8.1MB/s eta 0:00:01\r\u001b[K     |███                             | 174kB 8.1MB/s eta 0:00:01\r\u001b[K     |███                             | 184kB 8.1MB/s eta 0:00:01\r\u001b[K     |███▎                            | 194kB 8.1MB/s eta 0:00:01\r\u001b[K     |███▌                            | 204kB 8.1MB/s eta 0:00:01\r\u001b[K     |███▋                            | 215kB 8.1MB/s eta 0:00:01\r\u001b[K     |███▉                            | 225kB 8.1MB/s eta 0:00:01\r\u001b[K     |████                            | 235kB 8.1MB/s eta 0:00:01\r\u001b[K     |████▏                           | 245kB 8.1MB/s eta 0:00:01\r\u001b[K     |████▎                           | 256kB 8.1MB/s eta 0:00:01\r\u001b[K     |████▌                           | 266kB 8.1MB/s eta 0:00:01\r\u001b[K     |████▋                           | 276kB 8.1MB/s eta 0:00:01\r\u001b[K     |████▉                           | 286kB 8.1MB/s eta 0:00:01\r\u001b[K     |█████                           | 296kB 8.1MB/s eta 0:00:01\r\u001b[K     |█████▏                          | 307kB 8.1MB/s eta 0:00:01\r\u001b[K     |█████▍                          | 317kB 8.1MB/s eta 0:00:01\r\u001b[K     |█████▌                          | 327kB 8.1MB/s eta 0:00:01\r\u001b[K     |█████▊                          | 337kB 8.1MB/s eta 0:00:01\r\u001b[K     |█████▉                          | 348kB 8.1MB/s eta 0:00:01\r\u001b[K     |██████                          | 358kB 8.1MB/s eta 0:00:01\r\u001b[K     |██████▏                         | 368kB 8.1MB/s eta 0:00:01\r\u001b[K     |██████▍                         | 378kB 8.1MB/s eta 0:00:01\r\u001b[K     |██████▋                         | 389kB 8.1MB/s eta 0:00:01\r\u001b[K     |██████▊                         | 399kB 8.1MB/s eta 0:00:01\r\u001b[K     |███████                         | 409kB 8.1MB/s eta 0:00:01\r\u001b[K     |███████                         | 419kB 8.1MB/s eta 0:00:01\r\u001b[K     |███████▎                        | 430kB 8.1MB/s eta 0:00:01\r\u001b[K     |███████▍                        | 440kB 8.1MB/s eta 0:00:01\r\u001b[K     |███████▋                        | 450kB 8.1MB/s eta 0:00:01\r\u001b[K     |███████▊                        | 460kB 8.1MB/s eta 0:00:01\r\u001b[K     |████████                        | 471kB 8.1MB/s eta 0:00:01\r\u001b[K     |████████▏                       | 481kB 8.1MB/s eta 0:00:01\r\u001b[K     |████████▎                       | 491kB 8.1MB/s eta 0:00:01\r\u001b[K     |████████▌                       | 501kB 8.1MB/s eta 0:00:01\r\u001b[K     |████████▋                       | 512kB 8.1MB/s eta 0:00:01\r\u001b[K     |████████▉                       | 522kB 8.1MB/s eta 0:00:01\r\u001b[K     |█████████                       | 532kB 8.1MB/s eta 0:00:01\r\u001b[K     |█████████▏                      | 542kB 8.1MB/s eta 0:00:01\r\u001b[K     |█████████▎                      | 552kB 8.1MB/s eta 0:00:01\r\u001b[K     |█████████▌                      | 563kB 8.1MB/s eta 0:00:01\r\u001b[K     |█████████▊                      | 573kB 8.1MB/s eta 0:00:01\r\u001b[K     |█████████▉                      | 583kB 8.1MB/s eta 0:00:01\r\u001b[K     |██████████                      | 593kB 8.1MB/s eta 0:00:01\r\u001b[K     |██████████▏                     | 604kB 8.1MB/s eta 0:00:01\r\u001b[K     |██████████▍                     | 614kB 8.1MB/s eta 0:00:01\r\u001b[K     |██████████▌                     | 624kB 8.1MB/s eta 0:00:01\r\u001b[K     |██████████▊                     | 634kB 8.1MB/s eta 0:00:01\r\u001b[K     |██████████▉                     | 645kB 8.1MB/s eta 0:00:01\r\u001b[K     |███████████                     | 655kB 8.1MB/s eta 0:00:01\r\u001b[K     |███████████▎                    | 665kB 8.1MB/s eta 0:00:01\r\u001b[K     |███████████▍                    | 675kB 8.1MB/s eta 0:00:01\r\u001b[K     |███████████▋                    | 686kB 8.1MB/s eta 0:00:01\r\u001b[K     |███████████▊                    | 696kB 8.1MB/s eta 0:00:01\r\u001b[K     |████████████                    | 706kB 8.1MB/s eta 0:00:01\r\u001b[K     |████████████                    | 716kB 8.1MB/s eta 0:00:01\r\u001b[K     |████████████▎                   | 727kB 8.1MB/s eta 0:00:01\r\u001b[K     |████████████▍                   | 737kB 8.1MB/s eta 0:00:01\r\u001b[K     |████████████▋                   | 747kB 8.1MB/s eta 0:00:01\r\u001b[K     |████████████▉                   | 757kB 8.1MB/s eta 0:00:01\r\u001b[K     |█████████████                   | 768kB 8.1MB/s eta 0:00:01\r\u001b[K     |█████████████▏                  | 778kB 8.1MB/s eta 0:00:01\r\u001b[K     |█████████████▎                  | 788kB 8.1MB/s eta 0:00:01\r\u001b[K     |█████████████▌                  | 798kB 8.1MB/s eta 0:00:01\r\u001b[K     |█████████████▋                  | 808kB 8.1MB/s eta 0:00:01\r\u001b[K     |█████████████▉                  | 819kB 8.1MB/s eta 0:00:01\r\u001b[K     |██████████████                  | 829kB 8.1MB/s eta 0:00:01\r\u001b[K     |██████████████▏                 | 839kB 8.1MB/s eta 0:00:01\r\u001b[K     |██████████████▍                 | 849kB 8.1MB/s eta 0:00:01\r\u001b[K     |██████████████▌                 | 860kB 8.1MB/s eta 0:00:01\r\u001b[K     |██████████████▊                 | 870kB 8.1MB/s eta 0:00:01\r\u001b[K     |██████████████▉                 | 880kB 8.1MB/s eta 0:00:01\r\u001b[K     |███████████████                 | 890kB 8.1MB/s eta 0:00:01\r\u001b[K     |███████████████▏                | 901kB 8.1MB/s eta 0:00:01\r\u001b[K     |███████████████▍                | 911kB 8.1MB/s eta 0:00:01\r\u001b[K     |███████████████▌                | 921kB 8.1MB/s eta 0:00:01\r\u001b[K     |███████████████▊                | 931kB 8.1MB/s eta 0:00:01\r\u001b[K     |████████████████                | 942kB 8.1MB/s eta 0:00:01\r\u001b[K     |████████████████                | 952kB 8.1MB/s eta 0:00:01\r\u001b[K     |████████████████▎               | 962kB 8.1MB/s eta 0:00:01\r\u001b[K     |████████████████▍               | 972kB 8.1MB/s eta 0:00:01\r\u001b[K     |████████████████▋               | 983kB 8.1MB/s eta 0:00:01\r\u001b[K     |████████████████▊               | 993kB 8.1MB/s eta 0:00:01\r\u001b[K     |█████████████████               | 1.0MB 8.1MB/s eta 0:00:01\r\u001b[K     |█████████████████               | 1.0MB 8.1MB/s eta 0:00:01\r\u001b[K     |█████████████████▎              | 1.0MB 8.1MB/s eta 0:00:01\r\u001b[K     |█████████████████▍              | 1.0MB 8.1MB/s eta 0:00:01\r\u001b[K     |█████████████████▋              | 1.0MB 8.1MB/s eta 0:00:01\r\u001b[K     |█████████████████▉              | 1.1MB 8.1MB/s eta 0:00:01\r\u001b[K     |██████████████████              | 1.1MB 8.1MB/s eta 0:00:01\r\u001b[K     |██████████████████▏             | 1.1MB 8.1MB/s eta 0:00:01\r\u001b[K     |██████████████████▎             | 1.1MB 8.1MB/s eta 0:00:01\r\u001b[K     |██████████████████▌             | 1.1MB 8.1MB/s eta 0:00:01\r\u001b[K     |██████████████████▋             | 1.1MB 8.1MB/s eta 0:00:01\r\u001b[K     |██████████████████▉             | 1.1MB 8.1MB/s eta 0:00:01\r\u001b[K     |███████████████████             | 1.1MB 8.1MB/s eta 0:00:01\r\u001b[K     |███████████████████▏            | 1.1MB 8.1MB/s eta 0:00:01\r\u001b[K     |███████████████████▍            | 1.1MB 8.1MB/s eta 0:00:01\r\u001b[K     |███████████████████▌            | 1.2MB 8.1MB/s eta 0:00:01\r\u001b[K     |███████████████████▊            | 1.2MB 8.1MB/s eta 0:00:01\r\u001b[K     |███████████████████▉            | 1.2MB 8.1MB/s eta 0:00:01\r\u001b[K     |████████████████████            | 1.2MB 8.1MB/s eta 0:00:01\r\u001b[K     |████████████████████▏           | 1.2MB 8.1MB/s eta 0:00:01\r\u001b[K     |████████████████████▍           | 1.2MB 8.1MB/s eta 0:00:01\r\u001b[K     |████████████████████▌           | 1.2MB 8.1MB/s eta 0:00:01\r\u001b[K     |████████████████████▊           | 1.2MB 8.1MB/s eta 0:00:01\r\u001b[K     |█████████████████████           | 1.2MB 8.1MB/s eta 0:00:01\r\u001b[K     |█████████████████████           | 1.2MB 8.1MB/s eta 0:00:01\r\u001b[K     |█████████████████████▎          | 1.3MB 8.1MB/s eta 0:00:01\r\u001b[K     |█████████████████████▍          | 1.3MB 8.1MB/s eta 0:00:01\r\u001b[K     |█████████████████████▋          | 1.3MB 8.1MB/s eta 0:00:01\r\u001b[K     |█████████████████████▊          | 1.3MB 8.1MB/s eta 0:00:01\r\u001b[K     |██████████████████████          | 1.3MB 8.1MB/s eta 0:00:01\r\u001b[K     |██████████████████████          | 1.3MB 8.1MB/s eta 0:00:01\r\u001b[K     |██████████████████████▎         | 1.3MB 8.1MB/s eta 0:00:01\r\u001b[K     |██████████████████████▌         | 1.3MB 8.1MB/s eta 0:00:01\r\u001b[K     |██████████████████████▋         | 1.3MB 8.1MB/s eta 0:00:01\r\u001b[K     |██████████████████████▉         | 1.4MB 8.1MB/s eta 0:00:01\r\u001b[K     |███████████████████████         | 1.4MB 8.1MB/s eta 0:00:01\r\u001b[K     |███████████████████████▏        | 1.4MB 8.1MB/s eta 0:00:01\r\u001b[K     |███████████████████████▎        | 1.4MB 8.1MB/s eta 0:00:01\r\u001b[K     |███████████████████████▌        | 1.4MB 8.1MB/s eta 0:00:01\r\u001b[K     |███████████████████████▋        | 1.4MB 8.1MB/s eta 0:00:01\r\u001b[K     |███████████████████████▉        | 1.4MB 8.1MB/s eta 0:00:01\r\u001b[K     |████████████████████████        | 1.4MB 8.1MB/s eta 0:00:01\r\u001b[K     |████████████████████████▏       | 1.4MB 8.1MB/s eta 0:00:01\r\u001b[K     |████████████████████████▍       | 1.4MB 8.1MB/s eta 0:00:01\r\u001b[K     |████████████████████████▌       | 1.5MB 8.1MB/s eta 0:00:01\r\u001b[K     |████████████████████████▊       | 1.5MB 8.1MB/s eta 0:00:01\r\u001b[K     |████████████████████████▉       | 1.5MB 8.1MB/s eta 0:00:01\r\u001b[K     |█████████████████████████       | 1.5MB 8.1MB/s eta 0:00:01\r\u001b[K     |█████████████████████████▏      | 1.5MB 8.1MB/s eta 0:00:01\r\u001b[K     |█████████████████████████▍      | 1.5MB 8.1MB/s eta 0:00:01\r\u001b[K     |█████████████████████████▋      | 1.5MB 8.1MB/s eta 0:00:01\r\u001b[K     |█████████████████████████▊      | 1.5MB 8.1MB/s eta 0:00:01\r\u001b[K     |██████████████████████████      | 1.5MB 8.1MB/s eta 0:00:01\r\u001b[K     |██████████████████████████      | 1.5MB 8.1MB/s eta 0:00:01\r\u001b[K     |██████████████████████████▎     | 1.6MB 8.1MB/s eta 0:00:01\r\u001b[K     |██████████████████████████▍     | 1.6MB 8.1MB/s eta 0:00:01\r\u001b[K     |██████████████████████████▋     | 1.6MB 8.1MB/s eta 0:00:01\r\u001b[K     |██████████████████████████▊     | 1.6MB 8.1MB/s eta 0:00:01\r\u001b[K     |███████████████████████████     | 1.6MB 8.1MB/s eta 0:00:01\r\u001b[K     |███████████████████████████▏    | 1.6MB 8.1MB/s eta 0:00:01\r\u001b[K     |███████████████████████████▎    | 1.6MB 8.1MB/s eta 0:00:01\r\u001b[K     |███████████████████████████▌    | 1.6MB 8.1MB/s eta 0:00:01\r\u001b[K     |███████████████████████████▋    | 1.6MB 8.1MB/s eta 0:00:01\r\u001b[K     |███████████████████████████▉    | 1.6MB 8.1MB/s eta 0:00:01\r\u001b[K     |████████████████████████████    | 1.7MB 8.1MB/s eta 0:00:01\r\u001b[K     |████████████████████████████▏   | 1.7MB 8.1MB/s eta 0:00:01\r\u001b[K     |████████████████████████████▎   | 1.7MB 8.1MB/s eta 0:00:01\r\u001b[K     |████████████████████████████▌   | 1.7MB 8.1MB/s eta 0:00:01\r\u001b[K     |████████████████████████████▊   | 1.7MB 8.1MB/s eta 0:00:01\r\u001b[K     |████████████████████████████▉   | 1.7MB 8.1MB/s eta 0:00:01\r\u001b[K     |█████████████████████████████   | 1.7MB 8.1MB/s eta 0:00:01\r\u001b[K     |█████████████████████████████▏  | 1.7MB 8.1MB/s eta 0:00:01\r\u001b[K     |█████████████████████████████▍  | 1.7MB 8.1MB/s eta 0:00:01\r\u001b[K     |█████████████████████████████▌  | 1.8MB 8.1MB/s eta 0:00:01\r\u001b[K     |█████████████████████████████▊  | 1.8MB 8.1MB/s eta 0:00:01\r\u001b[K     |█████████████████████████████▉  | 1.8MB 8.1MB/s eta 0:00:01\r\u001b[K     |██████████████████████████████  | 1.8MB 8.1MB/s eta 0:00:01\r\u001b[K     |██████████████████████████████▎ | 1.8MB 8.1MB/s eta 0:00:01\r\u001b[K     |██████████████████████████████▍ | 1.8MB 8.1MB/s eta 0:00:01\r\u001b[K     |██████████████████████████████▋ | 1.8MB 8.1MB/s eta 0:00:01\r\u001b[K     |██████████████████████████████▊ | 1.8MB 8.1MB/s eta 0:00:01\r\u001b[K     |███████████████████████████████ | 1.8MB 8.1MB/s eta 0:00:01\r\u001b[K     |███████████████████████████████ | 1.8MB 8.1MB/s eta 0:00:01\r\u001b[K     |███████████████████████████████▎| 1.9MB 8.1MB/s eta 0:00:01\r\u001b[K     |███████████████████████████████▍| 1.9MB 8.1MB/s eta 0:00:01\r\u001b[K     |███████████████████████████████▋| 1.9MB 8.1MB/s eta 0:00:01\r\u001b[K     |███████████████████████████████▉| 1.9MB 8.1MB/s eta 0:00:01\r\u001b[K     |████████████████████████████████| 1.9MB 8.1MB/s eta 0:00:01\r\u001b[K     |████████████████████████████████| 1.9MB 8.1MB/s \n",
            "\u001b[?25hRequirement already satisfied: filelock in /usr/local/lib/python3.7/dist-packages (from transformers) (3.0.12)\n",
            "Requirement already satisfied: tqdm>=4.27 in /usr/local/lib/python3.7/dist-packages (from transformers) (4.41.1)\n",
            "Requirement already satisfied: requests in /usr/local/lib/python3.7/dist-packages (from transformers) (2.23.0)\n",
            "Collecting tokenizers<0.11,>=0.10.1\n",
            "\u001b[?25l  Downloading https://files.pythonhosted.org/packages/71/23/2ddc317b2121117bf34dd00f5b0de194158f2a44ee2bf5e47c7166878a97/tokenizers-0.10.1-cp37-cp37m-manylinux2010_x86_64.whl (3.2MB)\n",
            "\u001b[K     |████████████████████████████████| 3.2MB 52.9MB/s \n",
            "\u001b[?25hRequirement already satisfied: numpy>=1.17 in /usr/local/lib/python3.7/dist-packages (from transformers) (1.18.5)\n",
            "Requirement already satisfied: regex!=2019.12.17 in /usr/local/lib/python3.7/dist-packages (from transformers) (2019.12.20)\n",
            "Collecting sacremoses\n",
            "\u001b[?25l  Downloading https://files.pythonhosted.org/packages/7d/34/09d19aff26edcc8eb2a01bed8e98f13a1537005d31e95233fd48216eed10/sacremoses-0.0.43.tar.gz (883kB)\n",
            "\u001b[K     |████████████████████████████████| 890kB 52.2MB/s \n",
            "\u001b[?25hRequirement already satisfied: importlib-metadata; python_version < \"3.8\" in /usr/local/lib/python3.7/dist-packages (from transformers) (3.7.0)\n",
            "Requirement already satisfied: packaging in /usr/local/lib/python3.7/dist-packages (from transformers) (20.9)\n",
            "Requirement already satisfied: idna<3,>=2.5 in /usr/local/lib/python3.7/dist-packages (from requests->transformers) (2.10)\n",
            "Requirement already satisfied: chardet<4,>=3.0.2 in /usr/local/lib/python3.7/dist-packages (from requests->transformers) (3.0.4)\n",
            "Requirement already satisfied: urllib3!=1.25.0,!=1.25.1,<1.26,>=1.21.1 in /usr/local/lib/python3.7/dist-packages (from requests->transformers) (1.24.3)\n",
            "Requirement already satisfied: certifi>=2017.4.17 in /usr/local/lib/python3.7/dist-packages (from requests->transformers) (2020.12.5)\n",
            "Requirement already satisfied: six in /usr/local/lib/python3.7/dist-packages (from sacremoses->transformers) (1.15.0)\n",
            "Requirement already satisfied: click in /usr/local/lib/python3.7/dist-packages (from sacremoses->transformers) (7.1.2)\n",
            "Requirement already satisfied: joblib in /usr/local/lib/python3.7/dist-packages (from sacremoses->transformers) (1.0.1)\n",
            "Requirement already satisfied: typing-extensions>=3.6.4; python_version < \"3.8\" in /usr/local/lib/python3.7/dist-packages (from importlib-metadata; python_version < \"3.8\"->transformers) (3.7.4.3)\n",
            "Requirement already satisfied: zipp>=0.5 in /usr/local/lib/python3.7/dist-packages (from importlib-metadata; python_version < \"3.8\"->transformers) (3.4.0)\n",
            "Requirement already satisfied: pyparsing>=2.0.2 in /usr/local/lib/python3.7/dist-packages (from packaging->transformers) (2.4.7)\n",
            "Building wheels for collected packages: sacremoses\n",
            "  Building wheel for sacremoses (setup.py) ... \u001b[?25l\u001b[?25hdone\n",
            "  Created wheel for sacremoses: filename=sacremoses-0.0.43-cp37-none-any.whl size=893262 sha256=025d89c8ce8edc0637808c121c07a760a5d5e4373b42d0593f29e325b8f8b029\n",
            "  Stored in directory: /root/.cache/pip/wheels/29/3c/fd/7ce5c3f0666dab31a50123635e6fb5e19ceb42ce38d4e58f45\n",
            "Successfully built sacremoses\n",
            "Installing collected packages: tokenizers, sacremoses, transformers\n",
            "Successfully installed sacremoses-0.0.43 tokenizers-0.10.1 transformers-4.3.3\n"
          ],
          "name": "stdout"
        }
      ]
    },
    {
      "cell_type": "code",
      "metadata": {
        "colab": {
          "base_uri": "https://localhost:8080/"
        },
        "id": "h5HIs63Jfh1f",
        "outputId": "9adb1138-8129-461a-e994-de2bf02dcbed"
      },
      "source": [
        "from transformers import BertTokenizer\r\n",
        "# Load the BERT tokenizer.\r\n",
        "print('Loading BERT tokenizer...')\r\n",
        "tokenizer = BertTokenizer.from_pretrained('bert-base-uncased', do_lower_case=True)\r\n"
      ],
      "execution_count": 16,
      "outputs": [
        {
          "output_type": "stream",
          "text": [
            "Loading BERT tokenizer...\n"
          ],
          "name": "stdout"
        }
      ]
    },
    {
      "cell_type": "code",
      "metadata": {
        "id": "S326VYDX6CYI"
      },
      "source": [
        "label = df_train.label.values\r\n",
        "sentences = df_train.sentence.values"
      ],
      "execution_count": 17,
      "outputs": []
    },
    {
      "cell_type": "code",
      "metadata": {
        "colab": {
          "base_uri": "https://localhost:8080/"
        },
        "id": "gIzygy1I53Yn",
        "outputId": "c8f017d8-900c-4f01-e687-1ec7894c844e"
      },
      "source": [
        "# Print the original sentence.\r\n",
        "print(' Original: ', sentences[0])\r\n",
        "\r\n",
        "# Print the sentence split into tokens.\r\n",
        "print('Tokenized: ', tokenizer.tokenize(sentences[0]))\r\n",
        "\r\n",
        "# Print the sentence mapped to token ids.\r\n",
        "print('Token IDs: ', tokenizer.convert_tokens_to_ids(tokenizer.tokenize(sentences[0])))"
      ],
      "execution_count": 18,
      "outputs": [
        {
          "output_type": "stream",
          "text": [
            " Original:  Our friends won't buy this analysis, let alone the next one we propose.\n",
            "Tokenized:  ['our', 'friends', 'won', \"'\", 't', 'buy', 'this', 'analysis', ',', 'let', 'alone', 'the', 'next', 'one', 'we', 'propose', '.']\n",
            "Token IDs:  [2256, 2814, 2180, 1005, 1056, 4965, 2023, 4106, 1010, 2292, 2894, 1996, 2279, 2028, 2057, 16599, 1012]\n"
          ],
          "name": "stdout"
        }
      ]
    },
    {
      "cell_type": "markdown",
      "metadata": {
        "id": "jZPFEciJ6gdS"
      },
      "source": [
        ""
      ]
    },
    {
      "cell_type": "code",
      "metadata": {
        "id": "xWix6EbD6dVr"
      },
      "source": [
        "max_length = 40\r\n",
        "encoded = tokenizer.batch_encode_plus(\r\n",
        "            sentences,\r\n",
        "            padding = 'longest',\r\n",
        "        )\r\n"
      ],
      "execution_count": 19,
      "outputs": []
    },
    {
      "cell_type": "code",
      "metadata": {
        "id": "uI_JhnjD73Mt"
      },
      "source": [
        "input_ids = np.array(encoded[\"input_ids\"],dtype = \"int32\")\r\n",
        "att_mask =  np.array(encoded[\"attention_mask\"],dtype=\"int32\")"
      ],
      "execution_count": 20,
      "outputs": []
    },
    {
      "cell_type": "code",
      "metadata": {
        "colab": {
          "base_uri": "https://localhost:8080/"
        },
        "id": "XQsfUXPGAhKI",
        "outputId": "80acb9d3-62bb-4b54-85b6-e3297276b26a"
      },
      "source": [
        "att_mask.shape"
      ],
      "execution_count": 21,
      "outputs": [
        {
          "output_type": "execute_result",
          "data": {
            "text/plain": [
              "(8551, 47)"
            ]
          },
          "metadata": {
            "tags": []
          },
          "execution_count": 21
        }
      ]
    },
    {
      "cell_type": "code",
      "metadata": {
        "id": "a5qcNsHE8hP_"
      },
      "source": [
        "# BERT MODEL \r\n",
        "from transformers import TFBertModel\r\n",
        "np.random.seed(4)\r\n",
        "max_length = 47\r\n",
        "\r\n",
        "\r\n",
        "\r\n",
        "def createModel():\r\n",
        "  \"\"\" create the model for COLA with BERT Tokenizer \"\"\"\r\n",
        "  input_ids = tf.keras.layers.Input(\r\n",
        "          shape=(max_length,), dtype=tf.int32, name=\"input_ids\")\r\n",
        "      # Attention masks indicates to the model which tokens should be attended to.\r\n",
        "  attention_masks = tf.keras.layers.Input(shape=(max_length,), dtype=tf.int32, name=\"attention_masks\")\r\n",
        "      # Token type ids are binary masks identifying different sequences in the model.\r\n",
        "  bert_model = TFBertModel.from_pretrained(\"bert-base-uncased\")\r\n",
        "      # Freeze the BERT model to reuse the pretrained features without modifying them.\r\n",
        "  bert_model.trainable = False\r\n",
        "  bert_out = bert_model(input_ids, attention_mask=attention_masks)\r\n",
        "  print(bert_out)\r\n",
        "  sequence_output = bert_out[\"last_hidden_state\"]\r\n",
        "  print(sequence_output)\r\n",
        "  # Add trainable layers on top of frozen layers to adapt the pretrained features on the new data.\r\n",
        "  bi_lstm = tf.keras.layers.Bidirectional(tf.keras.layers.LSTM(64, return_sequences=True))(sequence_output)\r\n",
        "      # Applying hybrid pooling approach to bi_lstm sequence output.\r\n",
        "  avg_pool = tf.keras.layers.GlobalAveragePooling1D()(bi_lstm)\r\n",
        "  max_pool = tf.keras.layers.GlobalMaxPooling1D()(bi_lstm)\r\n",
        "  concat = tf.keras.layers.concatenate([avg_pool, max_pool])\r\n",
        "  dropout = tf.keras.layers.Dropout(0.3)(concat)\r\n",
        "  output = tf.keras.layers.Dense(1, activation=\"sigmoid\")(dropout)\r\n",
        "  model = tf.keras.models.Model(inputs=[input_ids, attention_masks], outputs=output)\r\n",
        "  model.compile(optimizer=tf.keras.optimizers.Adam(),\r\n",
        "          loss=[classBalancedFocalLoss],\r\n",
        "          metrics=[\"accuracy\",metric.calMCCCoeff],run_eagerly= True)\r\n",
        "\r\n",
        "  model.summary()\r\n",
        "  return model\r\n"
      ],
      "execution_count": 22,
      "outputs": []
    },
    {
      "cell_type": "code",
      "metadata": {
        "colab": {
          "base_uri": "https://localhost:8080/"
        },
        "id": "yHvQ-HyK-Bvv",
        "outputId": "cf43afc7-934b-4c32-9654-c6f80f6a1af7"
      },
      "source": [
        "cola_bert = createModel()"
      ],
      "execution_count": 23,
      "outputs": [
        {
          "output_type": "stream",
          "text": [
            "Some layers from the model checkpoint at bert-base-uncased were not used when initializing TFBertModel: ['mlm___cls', 'nsp___cls']\n",
            "- This IS expected if you are initializing TFBertModel from the checkpoint of a model trained on another task or with another architecture (e.g. initializing a BertForSequenceClassification model from a BertForPreTraining model).\n",
            "- This IS NOT expected if you are initializing TFBertModel from the checkpoint of a model that you expect to be exactly identical (initializing a BertForSequenceClassification model from a BertForSequenceClassification model).\n",
            "All the layers of TFBertModel were initialized from the model checkpoint at bert-base-uncased.\n",
            "If your task is similar to the task the model of the checkpoint was trained on, you can already use TFBertModel for predictions without further training.\n"
          ],
          "name": "stderr"
        },
        {
          "output_type": "stream",
          "text": [
            "WARNING:tensorflow:The parameters `output_attentions`, `output_hidden_states` and `use_cache` cannot be updated when calling a model.They have to be set to True/False in the config object (i.e.: `config=XConfig.from_pretrained('name', output_attentions=True)`).\n",
            "WARNING:tensorflow:AutoGraph could not transform <bound method Socket.send of <zmq.sugar.socket.Socket object at 0x7f6276a8c6e0>> and will run it as-is.\n",
            "Please report this to the TensorFlow team. When filing the bug, set the verbosity to 10 (on Linux, `export AUTOGRAPH_VERBOSITY=10`) and attach the full output.\n",
            "Cause: module, class, method, function, traceback, frame, or code object was expected, got cython_function_or_method\n",
            "To silence this warning, decorate the function with @tf.autograph.experimental.do_not_convert\n",
            "WARNING: AutoGraph could not transform <bound method Socket.send of <zmq.sugar.socket.Socket object at 0x7f6276a8c6e0>> and will run it as-is.\n",
            "Please report this to the TensorFlow team. When filing the bug, set the verbosity to 10 (on Linux, `export AUTOGRAPH_VERBOSITY=10`) and attach the full output.\n",
            "Cause: module, class, method, function, traceback, frame, or code object was expected, got cython_function_or_method\n",
            "To silence this warning, decorate the function with @tf.autograph.experimental.do_not_convert\n",
            "WARNING:tensorflow:AutoGraph could not transform <function wrap at 0x7f628b792c20> and will run it as-is.\n",
            "Cause: while/else statement not yet supported\n",
            "To silence this warning, decorate the function with @tf.autograph.experimental.do_not_convert\n",
            "WARNING: AutoGraph could not transform <function wrap at 0x7f628b792c20> and will run it as-is.\n",
            "Cause: while/else statement not yet supported\n",
            "To silence this warning, decorate the function with @tf.autograph.experimental.do_not_convert\n",
            "WARNING:tensorflow:The parameter `return_dict` cannot be set in graph mode and will always be set to `True`.\n",
            "TFBaseModelOutputWithPooling(last_hidden_state=<tf.Tensor 'tf_bert_model/bert/encoder/layer_._11/output/LayerNorm/batchnorm/add_1:0' shape=(None, 47, 768) dtype=float32>, pooler_output=<tf.Tensor 'tf_bert_model/bert/pooler/dense/Tanh:0' shape=(None, 768) dtype=float32>, hidden_states=None, attentions=None)\n",
            "Tensor(\"tf_bert_model/bert/encoder/layer_._11/output/LayerNorm/batchnorm/add_1:0\", shape=(None, 47, 768), dtype=float32)\n",
            "Model: \"functional_1\"\n",
            "__________________________________________________________________________________________________\n",
            "Layer (type)                    Output Shape         Param #     Connected to                     \n",
            "==================================================================================================\n",
            "input_ids (InputLayer)          [(None, 47)]         0                                            \n",
            "__________________________________________________________________________________________________\n",
            "attention_masks (InputLayer)    [(None, 47)]         0                                            \n",
            "__________________________________________________________________________________________________\n",
            "tf_bert_model (TFBertModel)     TFBaseModelOutputWit 109482240   input_ids[0][0]                  \n",
            "                                                                 attention_masks[0][0]            \n",
            "__________________________________________________________________________________________________\n",
            "bidirectional (Bidirectional)   (None, 47, 128)      426496      tf_bert_model[0][0]              \n",
            "__________________________________________________________________________________________________\n",
            "global_average_pooling1d (Globa (None, 128)          0           bidirectional[0][0]              \n",
            "__________________________________________________________________________________________________\n",
            "global_max_pooling1d (GlobalMax (None, 128)          0           bidirectional[0][0]              \n",
            "__________________________________________________________________________________________________\n",
            "concatenate (Concatenate)       (None, 256)          0           global_average_pooling1d[0][0]   \n",
            "                                                                 global_max_pooling1d[0][0]       \n",
            "__________________________________________________________________________________________________\n",
            "dropout_37 (Dropout)            (None, 256)          0           concatenate[0][0]                \n",
            "__________________________________________________________________________________________________\n",
            "dense (Dense)                   (None, 1)            257         dropout_37[0][0]                 \n",
            "==================================================================================================\n",
            "Total params: 109,908,993\n",
            "Trainable params: 426,753\n",
            "Non-trainable params: 109,482,240\n",
            "__________________________________________________________________________________________________\n"
          ],
          "name": "stdout"
        }
      ]
    },
    {
      "cell_type": "code",
      "metadata": {
        "colab": {
          "base_uri": "https://localhost:8080/",
          "height": 754
        },
        "id": "c4tPybXiACIg",
        "outputId": "c3768143-6400-40ff-d2c7-b901df53afd3"
      },
      "source": [
        "tf.keras.utils.plot_model(cola_bert,show_shapes=True)"
      ],
      "execution_count": 24,
      "outputs": [
        {
          "output_type": "execute_result",
          "data": {
            "image/png": "[encoded data removed]",
            "text/plain": [
              "<IPython.core.display.Image object>"
            ]
          },
          "metadata": {
            "tags": []
          },
          "execution_count": 24
        }
      ]
    },
    {
      "cell_type": "code",
      "metadata": {
        "colab": {
          "base_uri": "https://localhost:8080/",
          "height": 337
        },
        "id": "yFHdzmAvEdZG",
        "outputId": "69a7871e-780b-4f28-95aa-30206aaeed5d"
      },
      "source": [
        "cola_bert.fit(x = [input_ids,att_mask], y = label, batch_size = 32,  epochs = 5 )"
      ],
      "execution_count": null,
      "outputs": [
        {
          "output_type": "stream",
          "text": [
            "Epoch 1/5\n",
            " 26/268 [=>............................] - ETA: 1:45 - loss: 0.6424 - accuracy: 0.6863 - calMCCCoeff: 0.0686"
          ],
          "name": "stdout"
        },
        {
          "output_type": "error",
          "ename": "KeyboardInterrupt",
          "evalue": "ignored",
          "traceback": [
            "\u001b[0;31m---------------------------------------------------------------------------\u001b[0m",
            "\u001b[0;31mKeyboardInterrupt\u001b[0m                         Traceback (most recent call last)",
            "\u001b[0;32m<ipython-input-91-42e7c4feda21>\u001b[0m in \u001b[0;36m<module>\u001b[0;34m()\u001b[0m\n\u001b[0;32m----> 1\u001b[0;31m \u001b[0mcola_bert\u001b[0m\u001b[0;34m.\u001b[0m\u001b[0mfit\u001b[0m\u001b[0;34m(\u001b[0m\u001b[0mx\u001b[0m \u001b[0;34m=\u001b[0m \u001b[0;34m[\u001b[0m\u001b[0minput_ids\u001b[0m\u001b[0;34m,\u001b[0m\u001b[0matt_mask\u001b[0m\u001b[0;34m]\u001b[0m\u001b[0;34m,\u001b[0m \u001b[0my\u001b[0m \u001b[0;34m=\u001b[0m \u001b[0mlabel\u001b[0m\u001b[0;34m,\u001b[0m \u001b[0mbatch_size\u001b[0m \u001b[0;34m=\u001b[0m \u001b[0;36m32\u001b[0m\u001b[0;34m,\u001b[0m  \u001b[0mepochs\u001b[0m \u001b[0;34m=\u001b[0m \u001b[0;36m5\u001b[0m \u001b[0;34m)\u001b[0m\u001b[0;34m\u001b[0m\u001b[0;34m\u001b[0m\u001b[0m\n\u001b[0m",
            "\u001b[0;32m/usr/local/lib/python3.7/dist-packages/tensorflow/python/keras/engine/training.py\u001b[0m in \u001b[0;36mfit\u001b[0;34m(self, x, y, batch_size, epochs, verbose, callbacks, validation_split, validation_data, shuffle, class_weight, sample_weight, initial_epoch, steps_per_epoch, validation_steps, validation_batch_size, validation_freq, max_queue_size, workers, use_multiprocessing)\u001b[0m\n\u001b[1;32m   1098\u001b[0m                 _r=1):\n\u001b[1;32m   1099\u001b[0m               \u001b[0mcallbacks\u001b[0m\u001b[0;34m.\u001b[0m\u001b[0mon_train_batch_begin\u001b[0m\u001b[0;34m(\u001b[0m\u001b[0mstep\u001b[0m\u001b[0;34m)\u001b[0m\u001b[0;34m\u001b[0m\u001b[0;34m\u001b[0m\u001b[0m\n\u001b[0;32m-> 1100\u001b[0;31m               \u001b[0mtmp_logs\u001b[0m \u001b[0;34m=\u001b[0m \u001b[0mself\u001b[0m\u001b[0;34m.\u001b[0m\u001b[0mtrain_function\u001b[0m\u001b[0;34m(\u001b[0m\u001b[0miterator\u001b[0m\u001b[0;34m)\u001b[0m\u001b[0;34m\u001b[0m\u001b[0;34m\u001b[0m\u001b[0m\n\u001b[0m\u001b[1;32m   1101\u001b[0m               \u001b[0;32mif\u001b[0m \u001b[0mdata_handler\u001b[0m\u001b[0;34m.\u001b[0m\u001b[0mshould_sync\u001b[0m\u001b[0;34m:\u001b[0m\u001b[0;34m\u001b[0m\u001b[0;34m\u001b[0m\u001b[0m\n\u001b[1;32m   1102\u001b[0m                 \u001b[0mcontext\u001b[0m\u001b[0;34m.\u001b[0m\u001b[0masync_wait\u001b[0m\u001b[0;34m(\u001b[0m\u001b[0;34m)\u001b[0m\u001b[0;34m\u001b[0m\u001b[0;34m\u001b[0m\u001b[0m\n",
            "\u001b[0;32m/usr/local/lib/python3.7/dist-packages/tensorflow/python/keras/engine/training.py\u001b[0m in \u001b[0;36mtrain_function\u001b[0;34m(iterator)\u001b[0m\n\u001b[1;32m    803\u001b[0m       \u001b[0;32mdef\u001b[0m \u001b[0mtrain_function\u001b[0m\u001b[0;34m(\u001b[0m\u001b[0miterator\u001b[0m\u001b[0;34m)\u001b[0m\u001b[0;34m:\u001b[0m\u001b[0;34m\u001b[0m\u001b[0;34m\u001b[0m\u001b[0m\n\u001b[1;32m    804\u001b[0m         \u001b[0;34m\"\"\"Runs a training execution with one step.\"\"\"\u001b[0m\u001b[0;34m\u001b[0m\u001b[0;34m\u001b[0m\u001b[0m\n\u001b[0;32m--> 805\u001b[0;31m         \u001b[0;32mreturn\u001b[0m \u001b[0mstep_function\u001b[0m\u001b[0;34m(\u001b[0m\u001b[0mself\u001b[0m\u001b[0;34m,\u001b[0m \u001b[0miterator\u001b[0m\u001b[0;34m)\u001b[0m\u001b[0;34m\u001b[0m\u001b[0;34m\u001b[0m\u001b[0m\n\u001b[0m\u001b[1;32m    806\u001b[0m \u001b[0;34m\u001b[0m\u001b[0m\n\u001b[1;32m    807\u001b[0m     \u001b[0;32melse\u001b[0m\u001b[0;34m:\u001b[0m\u001b[0;34m\u001b[0m\u001b[0;34m\u001b[0m\u001b[0m\n",
            "\u001b[0;32m/usr/local/lib/python3.7/dist-packages/tensorflow/python/keras/engine/training.py\u001b[0m in \u001b[0;36mstep_function\u001b[0;34m(model, iterator)\u001b[0m\n\u001b[1;32m    793\u001b[0m \u001b[0;34m\u001b[0m\u001b[0m\n\u001b[1;32m    794\u001b[0m       \u001b[0mdata\u001b[0m \u001b[0;34m=\u001b[0m \u001b[0mnext\u001b[0m\u001b[0;34m(\u001b[0m\u001b[0miterator\u001b[0m\u001b[0;34m)\u001b[0m\u001b[0;34m\u001b[0m\u001b[0;34m\u001b[0m\u001b[0m\n\u001b[0;32m--> 795\u001b[0;31m       \u001b[0moutputs\u001b[0m \u001b[0;34m=\u001b[0m \u001b[0mmodel\u001b[0m\u001b[0;34m.\u001b[0m\u001b[0mdistribute_strategy\u001b[0m\u001b[0;34m.\u001b[0m\u001b[0mrun\u001b[0m\u001b[0;34m(\u001b[0m\u001b[0mrun_step\u001b[0m\u001b[0;34m,\u001b[0m \u001b[0margs\u001b[0m\u001b[0;34m=\u001b[0m\u001b[0;34m(\u001b[0m\u001b[0mdata\u001b[0m\u001b[0;34m,\u001b[0m\u001b[0;34m)\u001b[0m\u001b[0;34m)\u001b[0m\u001b[0;34m\u001b[0m\u001b[0;34m\u001b[0m\u001b[0m\n\u001b[0m\u001b[1;32m    796\u001b[0m       outputs = reduce_per_replica(\n\u001b[1;32m    797\u001b[0m           outputs, self.distribute_strategy, reduction='first')\n",
            "\u001b[0;32m/usr/local/lib/python3.7/dist-packages/tensorflow/python/distribute/distribute_lib.py\u001b[0m in \u001b[0;36mrun\u001b[0;34m(***failed resolving arguments***)\u001b[0m\n\u001b[1;32m   1257\u001b[0m       fn = autograph.tf_convert(\n\u001b[1;32m   1258\u001b[0m           fn, autograph_ctx.control_status_ctx(), convert_by_default=False)\n\u001b[0;32m-> 1259\u001b[0;31m       \u001b[0;32mreturn\u001b[0m \u001b[0mself\u001b[0m\u001b[0;34m.\u001b[0m\u001b[0m_extended\u001b[0m\u001b[0;34m.\u001b[0m\u001b[0mcall_for_each_replica\u001b[0m\u001b[0;34m(\u001b[0m\u001b[0mfn\u001b[0m\u001b[0;34m,\u001b[0m \u001b[0margs\u001b[0m\u001b[0;34m=\u001b[0m\u001b[0margs\u001b[0m\u001b[0;34m,\u001b[0m \u001b[0mkwargs\u001b[0m\u001b[0;34m=\u001b[0m\u001b[0mkwargs\u001b[0m\u001b[0;34m)\u001b[0m\u001b[0;34m\u001b[0m\u001b[0;34m\u001b[0m\u001b[0m\n\u001b[0m\u001b[1;32m   1260\u001b[0m \u001b[0;34m\u001b[0m\u001b[0m\n\u001b[1;32m   1261\u001b[0m   \u001b[0;32mdef\u001b[0m \u001b[0mreduce\u001b[0m\u001b[0;34m(\u001b[0m\u001b[0mself\u001b[0m\u001b[0;34m,\u001b[0m \u001b[0mreduce_op\u001b[0m\u001b[0;34m,\u001b[0m \u001b[0mvalue\u001b[0m\u001b[0;34m,\u001b[0m \u001b[0maxis\u001b[0m\u001b[0;34m)\u001b[0m\u001b[0;34m:\u001b[0m\u001b[0;34m\u001b[0m\u001b[0;34m\u001b[0m\u001b[0m\n",
            "\u001b[0;32m/usr/local/lib/python3.7/dist-packages/tensorflow/python/distribute/distribute_lib.py\u001b[0m in \u001b[0;36mcall_for_each_replica\u001b[0;34m(self, fn, args, kwargs)\u001b[0m\n\u001b[1;32m   2728\u001b[0m       \u001b[0mkwargs\u001b[0m \u001b[0;34m=\u001b[0m \u001b[0;34m{\u001b[0m\u001b[0;34m}\u001b[0m\u001b[0;34m\u001b[0m\u001b[0;34m\u001b[0m\u001b[0m\n\u001b[1;32m   2729\u001b[0m     \u001b[0;32mwith\u001b[0m \u001b[0mself\u001b[0m\u001b[0;34m.\u001b[0m\u001b[0m_container_strategy\u001b[0m\u001b[0;34m(\u001b[0m\u001b[0;34m)\u001b[0m\u001b[0;34m.\u001b[0m\u001b[0mscope\u001b[0m\u001b[0;34m(\u001b[0m\u001b[0;34m)\u001b[0m\u001b[0;34m:\u001b[0m\u001b[0;34m\u001b[0m\u001b[0;34m\u001b[0m\u001b[0m\n\u001b[0;32m-> 2730\u001b[0;31m       \u001b[0;32mreturn\u001b[0m \u001b[0mself\u001b[0m\u001b[0;34m.\u001b[0m\u001b[0m_call_for_each_replica\u001b[0m\u001b[0;34m(\u001b[0m\u001b[0mfn\u001b[0m\u001b[0;34m,\u001b[0m \u001b[0margs\u001b[0m\u001b[0;34m,\u001b[0m \u001b[0mkwargs\u001b[0m\u001b[0;34m)\u001b[0m\u001b[0;34m\u001b[0m\u001b[0;34m\u001b[0m\u001b[0m\n\u001b[0m\u001b[1;32m   2731\u001b[0m \u001b[0;34m\u001b[0m\u001b[0m\n\u001b[1;32m   2732\u001b[0m   \u001b[0;32mdef\u001b[0m \u001b[0m_call_for_each_replica\u001b[0m\u001b[0;34m(\u001b[0m\u001b[0mself\u001b[0m\u001b[0;34m,\u001b[0m \u001b[0mfn\u001b[0m\u001b[0;34m,\u001b[0m \u001b[0margs\u001b[0m\u001b[0;34m,\u001b[0m \u001b[0mkwargs\u001b[0m\u001b[0;34m)\u001b[0m\u001b[0;34m:\u001b[0m\u001b[0;34m\u001b[0m\u001b[0;34m\u001b[0m\u001b[0m\n",
            "\u001b[0;32m/usr/local/lib/python3.7/dist-packages/tensorflow/python/distribute/distribute_lib.py\u001b[0m in \u001b[0;36m_call_for_each_replica\u001b[0;34m(self, fn, args, kwargs)\u001b[0m\n\u001b[1;32m   3415\u001b[0m   \u001b[0;32mdef\u001b[0m \u001b[0m_call_for_each_replica\u001b[0m\u001b[0;34m(\u001b[0m\u001b[0mself\u001b[0m\u001b[0;34m,\u001b[0m \u001b[0mfn\u001b[0m\u001b[0;34m,\u001b[0m \u001b[0margs\u001b[0m\u001b[0;34m,\u001b[0m \u001b[0mkwargs\u001b[0m\u001b[0;34m)\u001b[0m\u001b[0;34m:\u001b[0m\u001b[0;34m\u001b[0m\u001b[0;34m\u001b[0m\u001b[0m\n\u001b[1;32m   3416\u001b[0m     \u001b[0;32mwith\u001b[0m \u001b[0mReplicaContext\u001b[0m\u001b[0;34m(\u001b[0m\u001b[0mself\u001b[0m\u001b[0;34m.\u001b[0m\u001b[0m_container_strategy\u001b[0m\u001b[0;34m(\u001b[0m\u001b[0;34m)\u001b[0m\u001b[0;34m,\u001b[0m \u001b[0mreplica_id_in_sync_group\u001b[0m\u001b[0;34m=\u001b[0m\u001b[0;36m0\u001b[0m\u001b[0;34m)\u001b[0m\u001b[0;34m:\u001b[0m\u001b[0;34m\u001b[0m\u001b[0;34m\u001b[0m\u001b[0m\n\u001b[0;32m-> 3417\u001b[0;31m       \u001b[0;32mreturn\u001b[0m \u001b[0mfn\u001b[0m\u001b[0;34m(\u001b[0m\u001b[0;34m*\u001b[0m\u001b[0margs\u001b[0m\u001b[0;34m,\u001b[0m \u001b[0;34m**\u001b[0m\u001b[0mkwargs\u001b[0m\u001b[0;34m)\u001b[0m\u001b[0;34m\u001b[0m\u001b[0;34m\u001b[0m\u001b[0m\n\u001b[0m\u001b[1;32m   3418\u001b[0m \u001b[0;34m\u001b[0m\u001b[0m\n\u001b[1;32m   3419\u001b[0m   \u001b[0;32mdef\u001b[0m \u001b[0m_reduce_to\u001b[0m\u001b[0;34m(\u001b[0m\u001b[0mself\u001b[0m\u001b[0;34m,\u001b[0m \u001b[0mreduce_op\u001b[0m\u001b[0;34m,\u001b[0m \u001b[0mvalue\u001b[0m\u001b[0;34m,\u001b[0m \u001b[0mdestinations\u001b[0m\u001b[0;34m,\u001b[0m \u001b[0moptions\u001b[0m\u001b[0;34m)\u001b[0m\u001b[0;34m:\u001b[0m\u001b[0;34m\u001b[0m\u001b[0;34m\u001b[0m\u001b[0m\n",
            "\u001b[0;32m/usr/local/lib/python3.7/dist-packages/tensorflow/python/autograph/impl/api.py\u001b[0m in \u001b[0;36mwrapper\u001b[0;34m(*args, **kwargs)\u001b[0m\n\u001b[1;32m    570\u001b[0m   \u001b[0;32mdef\u001b[0m \u001b[0mwrapper\u001b[0m\u001b[0;34m(\u001b[0m\u001b[0;34m*\u001b[0m\u001b[0margs\u001b[0m\u001b[0;34m,\u001b[0m \u001b[0;34m**\u001b[0m\u001b[0mkwargs\u001b[0m\u001b[0;34m)\u001b[0m\u001b[0;34m:\u001b[0m\u001b[0;34m\u001b[0m\u001b[0;34m\u001b[0m\u001b[0m\n\u001b[1;32m    571\u001b[0m     \u001b[0;32mwith\u001b[0m \u001b[0mag_ctx\u001b[0m\u001b[0;34m.\u001b[0m\u001b[0mControlStatusCtx\u001b[0m\u001b[0;34m(\u001b[0m\u001b[0mstatus\u001b[0m\u001b[0;34m=\u001b[0m\u001b[0mag_ctx\u001b[0m\u001b[0;34m.\u001b[0m\u001b[0mStatus\u001b[0m\u001b[0;34m.\u001b[0m\u001b[0mUNSPECIFIED\u001b[0m\u001b[0;34m)\u001b[0m\u001b[0;34m:\u001b[0m\u001b[0;34m\u001b[0m\u001b[0;34m\u001b[0m\u001b[0m\n\u001b[0;32m--> 572\u001b[0;31m       \u001b[0;32mreturn\u001b[0m \u001b[0mfunc\u001b[0m\u001b[0;34m(\u001b[0m\u001b[0;34m*\u001b[0m\u001b[0margs\u001b[0m\u001b[0;34m,\u001b[0m \u001b[0;34m**\u001b[0m\u001b[0mkwargs\u001b[0m\u001b[0;34m)\u001b[0m\u001b[0;34m\u001b[0m\u001b[0;34m\u001b[0m\u001b[0m\n\u001b[0m\u001b[1;32m    573\u001b[0m \u001b[0;34m\u001b[0m\u001b[0m\n\u001b[1;32m    574\u001b[0m   \u001b[0;32mif\u001b[0m \u001b[0minspect\u001b[0m\u001b[0;34m.\u001b[0m\u001b[0misfunction\u001b[0m\u001b[0;34m(\u001b[0m\u001b[0mfunc\u001b[0m\u001b[0;34m)\u001b[0m \u001b[0;32mor\u001b[0m \u001b[0minspect\u001b[0m\u001b[0;34m.\u001b[0m\u001b[0mismethod\u001b[0m\u001b[0;34m(\u001b[0m\u001b[0mfunc\u001b[0m\u001b[0;34m)\u001b[0m\u001b[0;34m:\u001b[0m\u001b[0;34m\u001b[0m\u001b[0;34m\u001b[0m\u001b[0m\n",
            "\u001b[0;32m/usr/local/lib/python3.7/dist-packages/tensorflow/python/keras/engine/training.py\u001b[0m in \u001b[0;36mrun_step\u001b[0;34m(data)\u001b[0m\n\u001b[1;32m    786\u001b[0m \u001b[0;34m\u001b[0m\u001b[0m\n\u001b[1;32m    787\u001b[0m       \u001b[0;32mdef\u001b[0m \u001b[0mrun_step\u001b[0m\u001b[0;34m(\u001b[0m\u001b[0mdata\u001b[0m\u001b[0;34m)\u001b[0m\u001b[0;34m:\u001b[0m\u001b[0;34m\u001b[0m\u001b[0;34m\u001b[0m\u001b[0m\n\u001b[0;32m--> 788\u001b[0;31m         \u001b[0moutputs\u001b[0m \u001b[0;34m=\u001b[0m \u001b[0mmodel\u001b[0m\u001b[0;34m.\u001b[0m\u001b[0mtrain_step\u001b[0m\u001b[0;34m(\u001b[0m\u001b[0mdata\u001b[0m\u001b[0;34m)\u001b[0m\u001b[0;34m\u001b[0m\u001b[0;34m\u001b[0m\u001b[0m\n\u001b[0m\u001b[1;32m    789\u001b[0m         \u001b[0;31m# Ensure counter is updated only if `train_step` succeeds.\u001b[0m\u001b[0;34m\u001b[0m\u001b[0;34m\u001b[0m\u001b[0;34m\u001b[0m\u001b[0m\n\u001b[1;32m    790\u001b[0m         \u001b[0;32mwith\u001b[0m \u001b[0mops\u001b[0m\u001b[0;34m.\u001b[0m\u001b[0mcontrol_dependencies\u001b[0m\u001b[0;34m(\u001b[0m\u001b[0m_minimum_control_deps\u001b[0m\u001b[0;34m(\u001b[0m\u001b[0moutputs\u001b[0m\u001b[0;34m)\u001b[0m\u001b[0;34m)\u001b[0m\u001b[0;34m:\u001b[0m\u001b[0;34m\u001b[0m\u001b[0;34m\u001b[0m\u001b[0m\n",
            "\u001b[0;32m/usr/local/lib/python3.7/dist-packages/tensorflow/python/keras/engine/training.py\u001b[0m in \u001b[0;36mtrain_step\u001b[0;34m(self, data)\u001b[0m\n\u001b[1;32m    755\u001b[0m       loss = self.compiled_loss(\n\u001b[1;32m    756\u001b[0m           y, y_pred, sample_weight, regularization_losses=self.losses)\n\u001b[0;32m--> 757\u001b[0;31m     \u001b[0mself\u001b[0m\u001b[0;34m.\u001b[0m\u001b[0moptimizer\u001b[0m\u001b[0;34m.\u001b[0m\u001b[0mminimize\u001b[0m\u001b[0;34m(\u001b[0m\u001b[0mloss\u001b[0m\u001b[0;34m,\u001b[0m \u001b[0mself\u001b[0m\u001b[0;34m.\u001b[0m\u001b[0mtrainable_variables\u001b[0m\u001b[0;34m,\u001b[0m \u001b[0mtape\u001b[0m\u001b[0;34m=\u001b[0m\u001b[0mtape\u001b[0m\u001b[0;34m)\u001b[0m\u001b[0;34m\u001b[0m\u001b[0;34m\u001b[0m\u001b[0m\n\u001b[0m\u001b[1;32m    758\u001b[0m     \u001b[0mself\u001b[0m\u001b[0;34m.\u001b[0m\u001b[0mcompiled_metrics\u001b[0m\u001b[0;34m.\u001b[0m\u001b[0mupdate_state\u001b[0m\u001b[0;34m(\u001b[0m\u001b[0my\u001b[0m\u001b[0;34m,\u001b[0m \u001b[0my_pred\u001b[0m\u001b[0;34m,\u001b[0m \u001b[0msample_weight\u001b[0m\u001b[0;34m)\u001b[0m\u001b[0;34m\u001b[0m\u001b[0;34m\u001b[0m\u001b[0m\n\u001b[1;32m    759\u001b[0m     \u001b[0;32mreturn\u001b[0m \u001b[0;34m{\u001b[0m\u001b[0mm\u001b[0m\u001b[0;34m.\u001b[0m\u001b[0mname\u001b[0m\u001b[0;34m:\u001b[0m \u001b[0mm\u001b[0m\u001b[0;34m.\u001b[0m\u001b[0mresult\u001b[0m\u001b[0;34m(\u001b[0m\u001b[0;34m)\u001b[0m \u001b[0;32mfor\u001b[0m \u001b[0mm\u001b[0m \u001b[0;32min\u001b[0m \u001b[0mself\u001b[0m\u001b[0;34m.\u001b[0m\u001b[0mmetrics\u001b[0m\u001b[0;34m}\u001b[0m\u001b[0;34m\u001b[0m\u001b[0;34m\u001b[0m\u001b[0m\n",
            "\u001b[0;32m/usr/local/lib/python3.7/dist-packages/tensorflow/python/keras/optimizer_v2/optimizer_v2.py\u001b[0m in \u001b[0;36mminimize\u001b[0;34m(self, loss, var_list, grad_loss, name, tape)\u001b[0m\n\u001b[1;32m    495\u001b[0m     \"\"\"\n\u001b[1;32m    496\u001b[0m     grads_and_vars = self._compute_gradients(\n\u001b[0;32m--> 497\u001b[0;31m         loss, var_list=var_list, grad_loss=grad_loss, tape=tape)\n\u001b[0m\u001b[1;32m    498\u001b[0m     \u001b[0;32mreturn\u001b[0m \u001b[0mself\u001b[0m\u001b[0;34m.\u001b[0m\u001b[0mapply_gradients\u001b[0m\u001b[0;34m(\u001b[0m\u001b[0mgrads_and_vars\u001b[0m\u001b[0;34m,\u001b[0m \u001b[0mname\u001b[0m\u001b[0;34m=\u001b[0m\u001b[0mname\u001b[0m\u001b[0;34m)\u001b[0m\u001b[0;34m\u001b[0m\u001b[0;34m\u001b[0m\u001b[0m\n\u001b[1;32m    499\u001b[0m \u001b[0;34m\u001b[0m\u001b[0m\n",
            "\u001b[0;32m/usr/local/lib/python3.7/dist-packages/tensorflow/python/keras/optimizer_v2/optimizer_v2.py\u001b[0m in \u001b[0;36m_compute_gradients\u001b[0;34m(self, loss, var_list, grad_loss, tape)\u001b[0m\n\u001b[1;32m    546\u001b[0m     \u001b[0mvar_list\u001b[0m \u001b[0;34m=\u001b[0m \u001b[0mnest\u001b[0m\u001b[0;34m.\u001b[0m\u001b[0mflatten\u001b[0m\u001b[0;34m(\u001b[0m\u001b[0mvar_list\u001b[0m\u001b[0;34m)\u001b[0m\u001b[0;34m\u001b[0m\u001b[0;34m\u001b[0m\u001b[0m\n\u001b[1;32m    547\u001b[0m     \u001b[0;32mwith\u001b[0m \u001b[0mops\u001b[0m\u001b[0;34m.\u001b[0m\u001b[0mname_scope_v2\u001b[0m\u001b[0;34m(\u001b[0m\u001b[0mself\u001b[0m\u001b[0;34m.\u001b[0m\u001b[0m_name\u001b[0m \u001b[0;34m+\u001b[0m \u001b[0;34m\"/gradients\"\u001b[0m\u001b[0;34m)\u001b[0m\u001b[0;34m:\u001b[0m\u001b[0;34m\u001b[0m\u001b[0;34m\u001b[0m\u001b[0m\n\u001b[0;32m--> 548\u001b[0;31m       \u001b[0mgrads_and_vars\u001b[0m \u001b[0;34m=\u001b[0m \u001b[0mself\u001b[0m\u001b[0;34m.\u001b[0m\u001b[0m_get_gradients\u001b[0m\u001b[0;34m(\u001b[0m\u001b[0mtape\u001b[0m\u001b[0;34m,\u001b[0m \u001b[0mloss\u001b[0m\u001b[0;34m,\u001b[0m \u001b[0mvar_list\u001b[0m\u001b[0;34m,\u001b[0m \u001b[0mgrad_loss\u001b[0m\u001b[0;34m)\u001b[0m\u001b[0;34m\u001b[0m\u001b[0;34m\u001b[0m\u001b[0m\n\u001b[0m\u001b[1;32m    549\u001b[0m \u001b[0;34m\u001b[0m\u001b[0m\n\u001b[1;32m    550\u001b[0m     self._assert_valid_dtypes([\n",
            "\u001b[0;32m/usr/local/lib/python3.7/dist-packages/tensorflow/python/keras/optimizer_v2/optimizer_v2.py\u001b[0m in \u001b[0;36m_get_gradients\u001b[0;34m(self, tape, loss, var_list, grad_loss)\u001b[0m\n\u001b[1;32m    439\u001b[0m   \u001b[0;32mdef\u001b[0m \u001b[0m_get_gradients\u001b[0m\u001b[0;34m(\u001b[0m\u001b[0mself\u001b[0m\u001b[0;34m,\u001b[0m \u001b[0mtape\u001b[0m\u001b[0;34m,\u001b[0m \u001b[0mloss\u001b[0m\u001b[0;34m,\u001b[0m \u001b[0mvar_list\u001b[0m\u001b[0;34m,\u001b[0m \u001b[0mgrad_loss\u001b[0m\u001b[0;34m=\u001b[0m\u001b[0;32mNone\u001b[0m\u001b[0;34m)\u001b[0m\u001b[0;34m:\u001b[0m\u001b[0;34m\u001b[0m\u001b[0;34m\u001b[0m\u001b[0m\n\u001b[1;32m    440\u001b[0m     \u001b[0;34m\"\"\"Called in `minimize` to compute gradients from loss.\"\"\"\u001b[0m\u001b[0;34m\u001b[0m\u001b[0;34m\u001b[0m\u001b[0m\n\u001b[0;32m--> 441\u001b[0;31m     \u001b[0mgrads\u001b[0m \u001b[0;34m=\u001b[0m \u001b[0mtape\u001b[0m\u001b[0;34m.\u001b[0m\u001b[0mgradient\u001b[0m\u001b[0;34m(\u001b[0m\u001b[0mloss\u001b[0m\u001b[0;34m,\u001b[0m \u001b[0mvar_list\u001b[0m\u001b[0;34m,\u001b[0m \u001b[0mgrad_loss\u001b[0m\u001b[0;34m)\u001b[0m\u001b[0;34m\u001b[0m\u001b[0;34m\u001b[0m\u001b[0m\n\u001b[0m\u001b[1;32m    442\u001b[0m     \u001b[0;32mreturn\u001b[0m \u001b[0mlist\u001b[0m\u001b[0;34m(\u001b[0m\u001b[0mzip\u001b[0m\u001b[0;34m(\u001b[0m\u001b[0mgrads\u001b[0m\u001b[0;34m,\u001b[0m \u001b[0mvar_list\u001b[0m\u001b[0;34m)\u001b[0m\u001b[0;34m)\u001b[0m\u001b[0;34m\u001b[0m\u001b[0;34m\u001b[0m\u001b[0m\n\u001b[1;32m    443\u001b[0m \u001b[0;34m\u001b[0m\u001b[0m\n",
            "\u001b[0;32m/usr/local/lib/python3.7/dist-packages/tensorflow/python/eager/backprop.py\u001b[0m in \u001b[0;36mgradient\u001b[0;34m(self, target, sources, output_gradients, unconnected_gradients)\u001b[0m\n\u001b[1;32m   1084\u001b[0m         \u001b[0moutput_gradients\u001b[0m\u001b[0;34m=\u001b[0m\u001b[0moutput_gradients\u001b[0m\u001b[0;34m,\u001b[0m\u001b[0;34m\u001b[0m\u001b[0;34m\u001b[0m\u001b[0m\n\u001b[1;32m   1085\u001b[0m         \u001b[0msources_raw\u001b[0m\u001b[0;34m=\u001b[0m\u001b[0mflat_sources_raw\u001b[0m\u001b[0;34m,\u001b[0m\u001b[0;34m\u001b[0m\u001b[0;34m\u001b[0m\u001b[0m\n\u001b[0;32m-> 1086\u001b[0;31m         unconnected_gradients=unconnected_gradients)\n\u001b[0m\u001b[1;32m   1087\u001b[0m \u001b[0;34m\u001b[0m\u001b[0m\n\u001b[1;32m   1088\u001b[0m     \u001b[0;32mif\u001b[0m \u001b[0;32mnot\u001b[0m \u001b[0mself\u001b[0m\u001b[0;34m.\u001b[0m\u001b[0m_persistent\u001b[0m\u001b[0;34m:\u001b[0m\u001b[0;34m\u001b[0m\u001b[0;34m\u001b[0m\u001b[0m\n",
            "\u001b[0;32m/usr/local/lib/python3.7/dist-packages/tensorflow/python/eager/imperative_grad.py\u001b[0m in \u001b[0;36mimperative_grad\u001b[0;34m(tape, target, sources, output_gradients, sources_raw, unconnected_gradients)\u001b[0m\n\u001b[1;32m     75\u001b[0m       \u001b[0moutput_gradients\u001b[0m\u001b[0;34m,\u001b[0m\u001b[0;34m\u001b[0m\u001b[0;34m\u001b[0m\u001b[0m\n\u001b[1;32m     76\u001b[0m       \u001b[0msources_raw\u001b[0m\u001b[0;34m,\u001b[0m\u001b[0;34m\u001b[0m\u001b[0;34m\u001b[0m\u001b[0m\n\u001b[0;32m---> 77\u001b[0;31m       compat.as_str(unconnected_gradients.value))\n\u001b[0m",
            "\u001b[0;32m/usr/local/lib/python3.7/dist-packages/tensorflow/python/eager/backprop.py\u001b[0m in \u001b[0;36m_gradient_function\u001b[0;34m(op_name, attr_tuple, num_inputs, inputs, outputs, out_grads, skip_input_indices, forward_pass_name_scope)\u001b[0m\n\u001b[1;32m    160\u001b[0m       \u001b[0mgradient_name_scope\u001b[0m \u001b[0;34m+=\u001b[0m \u001b[0mforward_pass_name_scope\u001b[0m \u001b[0;34m+\u001b[0m \u001b[0;34m\"/\"\u001b[0m\u001b[0;34m\u001b[0m\u001b[0;34m\u001b[0m\u001b[0m\n\u001b[1;32m    161\u001b[0m     \u001b[0;32mwith\u001b[0m \u001b[0mops\u001b[0m\u001b[0;34m.\u001b[0m\u001b[0mname_scope\u001b[0m\u001b[0;34m(\u001b[0m\u001b[0mgradient_name_scope\u001b[0m\u001b[0;34m)\u001b[0m\u001b[0;34m:\u001b[0m\u001b[0;34m\u001b[0m\u001b[0;34m\u001b[0m\u001b[0m\n\u001b[0;32m--> 162\u001b[0;31m       \u001b[0;32mreturn\u001b[0m \u001b[0mgrad_fn\u001b[0m\u001b[0;34m(\u001b[0m\u001b[0mmock_op\u001b[0m\u001b[0;34m,\u001b[0m \u001b[0;34m*\u001b[0m\u001b[0mout_grads\u001b[0m\u001b[0;34m)\u001b[0m\u001b[0;34m\u001b[0m\u001b[0;34m\u001b[0m\u001b[0m\n\u001b[0m\u001b[1;32m    163\u001b[0m   \u001b[0;32melse\u001b[0m\u001b[0;34m:\u001b[0m\u001b[0;34m\u001b[0m\u001b[0;34m\u001b[0m\u001b[0m\n\u001b[1;32m    164\u001b[0m     \u001b[0;32mreturn\u001b[0m \u001b[0mgrad_fn\u001b[0m\u001b[0;34m(\u001b[0m\u001b[0mmock_op\u001b[0m\u001b[0;34m,\u001b[0m \u001b[0;34m*\u001b[0m\u001b[0mout_grads\u001b[0m\u001b[0;34m)\u001b[0m\u001b[0;34m\u001b[0m\u001b[0;34m\u001b[0m\u001b[0m\n",
            "\u001b[0;32m/usr/local/lib/python3.7/dist-packages/tensorflow/python/ops/math_grad.py\u001b[0m in \u001b[0;36m_MeanGrad\u001b[0;34m(op, grad)\u001b[0m\n\u001b[1;32m    267\u001b[0m     factor = _safe_shape_div(\n\u001b[1;32m    268\u001b[0m         math_ops.reduce_prod(input_shape), math_ops.reduce_prod(output_shape))\n\u001b[0;32m--> 269\u001b[0;31m   \u001b[0;32mreturn\u001b[0m \u001b[0mmath_ops\u001b[0m\u001b[0;34m.\u001b[0m\u001b[0mtruediv\u001b[0m\u001b[0;34m(\u001b[0m\u001b[0msum_grad\u001b[0m\u001b[0;34m,\u001b[0m \u001b[0mmath_ops\u001b[0m\u001b[0;34m.\u001b[0m\u001b[0mcast\u001b[0m\u001b[0;34m(\u001b[0m\u001b[0mfactor\u001b[0m\u001b[0;34m,\u001b[0m \u001b[0msum_grad\u001b[0m\u001b[0;34m.\u001b[0m\u001b[0mdtype\u001b[0m\u001b[0;34m)\u001b[0m\u001b[0;34m)\u001b[0m\u001b[0;34m,\u001b[0m \u001b[0;32mNone\u001b[0m\u001b[0;34m\u001b[0m\u001b[0;34m\u001b[0m\u001b[0m\n\u001b[0m\u001b[1;32m    270\u001b[0m \u001b[0;34m\u001b[0m\u001b[0m\n\u001b[1;32m    271\u001b[0m \u001b[0;34m\u001b[0m\u001b[0m\n",
            "\u001b[0;32m/usr/local/lib/python3.7/dist-packages/tensorflow/python/util/dispatch.py\u001b[0m in \u001b[0;36mwrapper\u001b[0;34m(*args, **kwargs)\u001b[0m\n\u001b[1;32m    199\u001b[0m     \u001b[0;34m\"\"\"Call target, and fall back on dispatchers if there is a TypeError.\"\"\"\u001b[0m\u001b[0;34m\u001b[0m\u001b[0;34m\u001b[0m\u001b[0m\n\u001b[1;32m    200\u001b[0m     \u001b[0;32mtry\u001b[0m\u001b[0;34m:\u001b[0m\u001b[0;34m\u001b[0m\u001b[0;34m\u001b[0m\u001b[0m\n\u001b[0;32m--> 201\u001b[0;31m       \u001b[0;32mreturn\u001b[0m \u001b[0mtarget\u001b[0m\u001b[0;34m(\u001b[0m\u001b[0;34m*\u001b[0m\u001b[0margs\u001b[0m\u001b[0;34m,\u001b[0m \u001b[0;34m**\u001b[0m\u001b[0mkwargs\u001b[0m\u001b[0;34m)\u001b[0m\u001b[0;34m\u001b[0m\u001b[0;34m\u001b[0m\u001b[0m\n\u001b[0m\u001b[1;32m    202\u001b[0m     \u001b[0;32mexcept\u001b[0m \u001b[0;34m(\u001b[0m\u001b[0mTypeError\u001b[0m\u001b[0;34m,\u001b[0m \u001b[0mValueError\u001b[0m\u001b[0;34m)\u001b[0m\u001b[0;34m:\u001b[0m\u001b[0;34m\u001b[0m\u001b[0;34m\u001b[0m\u001b[0m\n\u001b[1;32m    203\u001b[0m       \u001b[0;31m# Note: convert_to_eager_tensor currently raises a ValueError, not a\u001b[0m\u001b[0;34m\u001b[0m\u001b[0;34m\u001b[0m\u001b[0;34m\u001b[0m\u001b[0m\n",
            "\u001b[0;32m/usr/local/lib/python3.7/dist-packages/tensorflow/python/ops/math_ops.py\u001b[0m in \u001b[0;36mtruediv\u001b[0;34m(x, y, name)\u001b[0m\n\u001b[1;32m   1334\u001b[0m     \u001b[0mTypeError\u001b[0m\u001b[0;34m:\u001b[0m \u001b[0mIf\u001b[0m\u001b[0;31m \u001b[0m\u001b[0;31m`\u001b[0m\u001b[0mx\u001b[0m\u001b[0;31m`\u001b[0m \u001b[0;32mand\u001b[0m\u001b[0;31m \u001b[0m\u001b[0;31m`\u001b[0m\u001b[0my\u001b[0m\u001b[0;31m`\u001b[0m \u001b[0mhave\u001b[0m \u001b[0mdifferent\u001b[0m \u001b[0mdtypes\u001b[0m\u001b[0;34m.\u001b[0m\u001b[0;34m\u001b[0m\u001b[0;34m\u001b[0m\u001b[0m\n\u001b[1;32m   1335\u001b[0m   \"\"\"\n\u001b[0;32m-> 1336\u001b[0;31m   \u001b[0;32mreturn\u001b[0m \u001b[0m_truediv_python3\u001b[0m\u001b[0;34m(\u001b[0m\u001b[0mx\u001b[0m\u001b[0;34m,\u001b[0m \u001b[0my\u001b[0m\u001b[0;34m,\u001b[0m \u001b[0mname\u001b[0m\u001b[0;34m)\u001b[0m\u001b[0;34m\u001b[0m\u001b[0;34m\u001b[0m\u001b[0m\n\u001b[0m\u001b[1;32m   1337\u001b[0m \u001b[0;34m\u001b[0m\u001b[0m\n\u001b[1;32m   1338\u001b[0m \u001b[0;34m\u001b[0m\u001b[0m\n",
            "\u001b[0;32m/usr/local/lib/python3.7/dist-packages/tensorflow/python/ops/math_ops.py\u001b[0m in \u001b[0;36m_truediv_python3\u001b[0;34m(x, y, name)\u001b[0m\n\u001b[1;32m   1273\u001b[0m       \u001b[0mx\u001b[0m \u001b[0;34m=\u001b[0m \u001b[0mcast\u001b[0m\u001b[0;34m(\u001b[0m\u001b[0mx\u001b[0m\u001b[0;34m,\u001b[0m \u001b[0mdtype\u001b[0m\u001b[0;34m)\u001b[0m\u001b[0;34m\u001b[0m\u001b[0;34m\u001b[0m\u001b[0m\n\u001b[1;32m   1274\u001b[0m       \u001b[0my\u001b[0m \u001b[0;34m=\u001b[0m \u001b[0mcast\u001b[0m\u001b[0;34m(\u001b[0m\u001b[0my\u001b[0m\u001b[0;34m,\u001b[0m \u001b[0mdtype\u001b[0m\u001b[0;34m)\u001b[0m\u001b[0;34m\u001b[0m\u001b[0;34m\u001b[0m\u001b[0m\n\u001b[0;32m-> 1275\u001b[0;31m     \u001b[0;32mreturn\u001b[0m \u001b[0mgen_math_ops\u001b[0m\u001b[0;34m.\u001b[0m\u001b[0mreal_div\u001b[0m\u001b[0;34m(\u001b[0m\u001b[0mx\u001b[0m\u001b[0;34m,\u001b[0m \u001b[0my\u001b[0m\u001b[0;34m,\u001b[0m \u001b[0mname\u001b[0m\u001b[0;34m=\u001b[0m\u001b[0mname\u001b[0m\u001b[0;34m)\u001b[0m\u001b[0;34m\u001b[0m\u001b[0;34m\u001b[0m\u001b[0m\n\u001b[0m\u001b[1;32m   1276\u001b[0m \u001b[0;34m\u001b[0m\u001b[0m\n\u001b[1;32m   1277\u001b[0m \u001b[0;34m\u001b[0m\u001b[0m\n",
            "\u001b[0;32m/usr/local/lib/python3.7/dist-packages/tensorflow/python/ops/gen_math_ops.py\u001b[0m in \u001b[0;36mreal_div\u001b[0;34m(x, y, name)\u001b[0m\n\u001b[1;32m   7324\u001b[0m     \u001b[0;32mtry\u001b[0m\u001b[0;34m:\u001b[0m\u001b[0;34m\u001b[0m\u001b[0;34m\u001b[0m\u001b[0m\n\u001b[1;32m   7325\u001b[0m       _result = pywrap_tfe.TFE_Py_FastPathExecute(\n\u001b[0;32m-> 7326\u001b[0;31m         _ctx, \"RealDiv\", name, x, y)\n\u001b[0m\u001b[1;32m   7327\u001b[0m       \u001b[0;32mreturn\u001b[0m \u001b[0m_result\u001b[0m\u001b[0;34m\u001b[0m\u001b[0;34m\u001b[0m\u001b[0m\n\u001b[1;32m   7328\u001b[0m     \u001b[0;32mexcept\u001b[0m \u001b[0m_core\u001b[0m\u001b[0;34m.\u001b[0m\u001b[0m_NotOkStatusException\u001b[0m \u001b[0;32mas\u001b[0m \u001b[0me\u001b[0m\u001b[0;34m:\u001b[0m\u001b[0;34m\u001b[0m\u001b[0;34m\u001b[0m\u001b[0m\n",
            "\u001b[0;31mKeyboardInterrupt\u001b[0m: "
          ]
        }
      ]
    },
    {
      "cell_type": "code",
      "metadata": {
        "id": "N1CuvMwEFYIc"
      },
      "source": [
        "test_label = df_test.label.values\r\n",
        "test_sentences = df_test.sentence.values"
      ],
      "execution_count": 25,
      "outputs": []
    },
    {
      "cell_type": "code",
      "metadata": {
        "colab": {
          "base_uri": "https://localhost:8080/"
        },
        "id": "GV7VmRJ8FY5J",
        "outputId": "bee05333-89a7-4988-bf94-f471881b99b3"
      },
      "source": [
        " max_length = 47\r\n",
        " encoded = tokenizer.batch_encode_plus(\r\n",
        "            test_sentences,\r\n",
        "            add_special_tokens=True,\r\n",
        "            max_length=max_length,\r\n",
        "            return_attention_mask=True,\r\n",
        "            return_token_type_ids=True,\r\n",
        "            pad_to_max_length=True)"
      ],
      "execution_count": 26,
      "outputs": [
        {
          "output_type": "stream",
          "text": [
            "Truncation was not explicitly activated but `max_length` is provided a specific value, please use `truncation=True` to explicitly truncate examples to max length. Defaulting to 'longest_first' truncation strategy. If you encode pairs of sequences (GLUE-style) with the tokenizer you can select this strategy more precisely by providing a specific strategy to `truncation`.\n",
            "/usr/local/lib/python3.7/dist-packages/transformers/tokenization_utils_base.py:2155: FutureWarning: The `pad_to_max_length` argument is deprecated and will be removed in a future version, use `padding=True` or `padding='longest'` to pad to the longest sequence in the batch, or use `padding='max_length'` to pad to a max length. In this case, you can give a specific length with `max_length` (e.g. `max_length=45`) or leave max_length to None to pad to the maximal input size of the model (e.g. 512 for Bert).\n",
            "  FutureWarning,\n"
          ],
          "name": "stderr"
        }
      ]
    },
    {
      "cell_type": "code",
      "metadata": {
        "id": "3iH3r_4tGXMz"
      },
      "source": [
        "test_input_ids = np.array(encoded[\"input_ids\"],dtype = \"int32\")\r\n",
        "test_att_mask =  np.array(encoded[\"attention_mask\"],dtype=\"int32\")"
      ],
      "execution_count": 27,
      "outputs": []
    },
    {
      "cell_type": "code",
      "metadata": {
        "id": "VZsE0YL2I1tl"
      },
      "source": [
        "y_pred = cola_bert.predict([test_input_ids,test_att_mask])"
      ],
      "execution_count": 28,
      "outputs": []
    },
    {
      "cell_type": "code",
      "metadata": {
        "colab": {
          "base_uri": "https://localhost:8080/"
        },
        "id": "tTve-eVtI3XB",
        "outputId": "8e6aac85-73a5-4091-89e1-9003f6f6f725"
      },
      "source": [
        "from tensorflow.keras.callbacks import EarlyStopping\r\n",
        "early_stopping = EarlyStopping(patience= 2)\r\n",
        "model_hist = cola_bert.fit(x = [input_ids,att_mask], y = label, batch_size = 32,  epochs = 15, validation_data = ([test_input_ids,test_att_mask],test_label),callbacks = [early_stopping])"
      ],
      "execution_count": 29,
      "outputs": [
        {
          "output_type": "stream",
          "text": [
            "Epoch 1/15\n",
            "268/268 [==============================] - 95s 356ms/step - loss: 0.6142 - accuracy: 0.7067 - calMCCCoeff: 0.2383 - val_loss: 0.5415 - val_accuracy: 0.7647 - val_calMCCCoeff: 0.3322\n",
            "Epoch 2/15\n",
            "268/268 [==============================] - 95s 354ms/step - loss: 0.5591 - accuracy: 0.7504 - calMCCCoeff: 0.3253 - val_loss: 0.5597 - val_accuracy: 0.7666 - val_calMCCCoeff: 0.2939\n",
            "Epoch 3/15\n",
            "268/268 [==============================] - 95s 353ms/step - loss: 0.5394 - accuracy: 0.7608 - calMCCCoeff: 0.3507 - val_loss: 0.5371 - val_accuracy: 0.7780 - val_calMCCCoeff: 0.3336\n",
            "Epoch 4/15\n",
            "268/268 [==============================] - 94s 353ms/step - loss: 0.5126 - accuracy: 0.7773 - calMCCCoeff: 0.3914 - val_loss: 0.5860 - val_accuracy: 0.7685 - val_calMCCCoeff: 0.2939\n",
            "Epoch 5/15\n",
            "268/268 [==============================] - 95s 353ms/step - loss: 0.4941 - accuracy: 0.7835 - calMCCCoeff: 0.4058 - val_loss: 0.5272 - val_accuracy: 0.7818 - val_calMCCCoeff: 0.3576\n",
            "Epoch 6/15\n",
            "268/268 [==============================] - 95s 353ms/step - loss: 0.4709 - accuracy: 0.8015 - calMCCCoeff: 0.4412 - val_loss: 0.5615 - val_accuracy: 0.7647 - val_calMCCCoeff: 0.3027\n",
            "Epoch 7/15\n",
            "268/268 [==============================] - 94s 352ms/step - loss: 0.4524 - accuracy: 0.8076 - calMCCCoeff: 0.4612 - val_loss: 0.6052 - val_accuracy: 0.7685 - val_calMCCCoeff: 0.3134\n"
          ],
          "name": "stdout"
        }
      ]
    },
    {
      "cell_type": "code",
      "metadata": {
        "colab": {
          "base_uri": "https://localhost:8080/"
        },
        "id": "H71lo13xJOmA",
        "outputId": "cb2486e2-fa8f-46bb-aa6c-89a8fbd8a15c"
      },
      "source": [
        "cola_bert.layers"
      ],
      "execution_count": null,
      "outputs": [
        {
          "output_type": "execute_result",
          "data": {
            "text/plain": [
              "[<tensorflow.python.keras.engine.input_layer.InputLayer at 0x7f026e7f2b10>,\n",
              " <tensorflow.python.keras.engine.input_layer.InputLayer at 0x7f026e84a690>,\n",
              " <transformers.models.bert.modeling_tf_bert.TFBertModel at 0x7f026e91ca10>,\n",
              " <tensorflow.python.keras.layers.wrappers.Bidirectional at 0x7f026e55cc50>,\n",
              " <tensorflow.python.keras.layers.pooling.GlobalAveragePooling1D at 0x7f026e292cd0>,\n",
              " <tensorflow.python.keras.layers.pooling.GlobalMaxPooling1D at 0x7f026e337090>,\n",
              " <tensorflow.python.keras.layers.merge.Concatenate at 0x7f026e2f5110>,\n",
              " <tensorflow.python.keras.layers.core.Dropout at 0x7f026e1947d0>,\n",
              " <tensorflow.python.keras.layers.core.Dense at 0x7f026e3370d0>]"
            ]
          },
          "metadata": {
            "tags": []
          },
          "execution_count": 87
        }
      ]
    },
    {
      "cell_type": "code",
      "metadata": {
        "id": "sI-31tXOOX43"
      },
      "source": [
        "bert_model = cola_bert.layers[2]"
      ],
      "execution_count": 36,
      "outputs": []
    },
    {
      "cell_type": "code",
      "metadata": {
        "id": "BF2UbWPxO2Wp"
      },
      "source": [
        "bert_model.trainable = True"
      ],
      "execution_count": 37,
      "outputs": []
    },
    {
      "cell_type": "code",
      "metadata": {
        "id": "vGlC3hz9PV_z"
      },
      "source": [
        "cola_bert.layers[2].trainable = True"
      ],
      "execution_count": 38,
      "outputs": []
    },
    {
      "cell_type": "code",
      "metadata": {
        "colab": {
          "base_uri": "https://localhost:8080/"
        },
        "id": "NGgGC9yxPZPc",
        "outputId": "0ca4c956-c6b2-482a-fb50-dc3453e13036"
      },
      "source": [
        "model_hist = cola_bert.fit(x = [input_ids,att_mask], y = label, batch_size = 32,  epochs = 15, validation_data = ([test_input_ids,test_att_mask],test_label),callbacks = [early_stopping])"
      ],
      "execution_count": 39,
      "outputs": [
        {
          "output_type": "stream",
          "text": [
            "Epoch 1/15\n",
            "268/268 [==============================] - 96s 358ms/step - loss: 0.4240 - accuracy: 0.8227 - calMCCCoeff: 0.4929 - val_loss: 0.6288 - val_accuracy: 0.7704 - val_calMCCCoeff: 0.3074\n",
            "Epoch 2/15\n",
            "268/268 [==============================] - 95s 356ms/step - loss: 0.4087 - accuracy: 0.8311 - calMCCCoeff: 0.5101 - val_loss: 0.5417 - val_accuracy: 0.7989 - val_calMCCCoeff: 0.4058\n",
            "Epoch 3/15\n",
            "268/268 [==============================] - 95s 355ms/step - loss: 0.3914 - accuracy: 0.8435 - calMCCCoeff: 0.5365 - val_loss: 0.6032 - val_accuracy: 0.7932 - val_calMCCCoeff: 0.3923\n",
            "Epoch 4/15\n",
            "268/268 [==============================] - 95s 355ms/step - loss: 0.3684 - accuracy: 0.8496 - calMCCCoeff: 0.5530 - val_loss: 0.6836 - val_accuracy: 0.7742 - val_calMCCCoeff: 0.3373\n"
          ],
          "name": "stdout"
        }
      ]
    },
    {
      "cell_type": "code",
      "metadata": {
        "id": "Xliy4U8IPcuA"
      },
      "source": [
        ""
      ],
      "execution_count": null,
      "outputs": []
    }
  ]
}