{
  "nbformat": 4,
  "nbformat_minor": 0,
  "metadata": {
    "colab": {
      "name": "Android_autofill.ipynb",
      "provenance": [],
      "collapsed_sections": [],
      "authorship_tag": "ABX9TyN5KEG/5x92rcN8J74O8+1X",
      "include_colab_link": true
    },
    "kernelspec": {
      "name": "python3",
      "display_name": "Python 3"
    },
    "language_info": {
      "name": "python"
    },
    "accelerator": "GPU",
    "widgets": {
      "application/vnd.jupyter.widget-state+json": {
        "dde5914f84504d62a8bcfad590404ff0": {
          "model_module": "@jupyter-widgets/controls",
          "model_name": "HBoxModel",
          "state": {
            "_view_name": "HBoxView",
            "_dom_classes": [],
            "_model_name": "HBoxModel",
            "_view_module": "@jupyter-widgets/controls",
            "_model_module_version": "1.5.0",
            "_view_count": null,
            "_view_module_version": "1.5.0",
            "box_style": "",
            "layout": "IPY_MODEL_69efab708ea343b681f988367412d24a",
            "_model_module": "@jupyter-widgets/controls",
            "children": [
              "IPY_MODEL_399d8bc65c2a4566ba01e3a9096c3c9e",
              "IPY_MODEL_27c023f615d545a0b616b549bfc593fa"
            ]
          }
        },
        "69efab708ea343b681f988367412d24a": {
          "model_module": "@jupyter-widgets/base",
          "model_name": "LayoutModel",
          "state": {
            "_view_name": "LayoutView",
            "grid_template_rows": null,
            "right": null,
            "justify_content": null,
            "_view_module": "@jupyter-widgets/base",
            "overflow": null,
            "_model_module_version": "1.2.0",
            "_view_count": null,
            "flex_flow": null,
            "width": null,
            "min_width": null,
            "border": null,
            "align_items": null,
            "bottom": null,
            "_model_module": "@jupyter-widgets/base",
            "top": null,
            "grid_column": null,
            "overflow_y": null,
            "overflow_x": null,
            "grid_auto_flow": null,
            "grid_area": null,
            "grid_template_columns": null,
            "flex": null,
            "_model_name": "LayoutModel",
            "justify_items": null,
            "grid_row": null,
            "max_height": null,
            "align_content": null,
            "visibility": null,
            "align_self": null,
            "height": null,
            "min_height": null,
            "padding": null,
            "grid_auto_rows": null,
            "grid_gap": null,
            "max_width": null,
            "order": null,
            "_view_module_version": "1.2.0",
            "grid_template_areas": null,
            "object_position": null,
            "object_fit": null,
            "grid_auto_columns": null,
            "margin": null,
            "display": null,
            "left": null
          }
        },
        "399d8bc65c2a4566ba01e3a9096c3c9e": {
          "model_module": "@jupyter-widgets/controls",
          "model_name": "FloatProgressModel",
          "state": {
            "_view_name": "ProgressView",
            "style": "IPY_MODEL_91b91bd199ae47e0830284fb9d9fbac8",
            "_dom_classes": [],
            "description": "Downloading: 100%",
            "_model_name": "FloatProgressModel",
            "bar_style": "success",
            "max": 231508,
            "_view_module": "@jupyter-widgets/controls",
            "_model_module_version": "1.5.0",
            "value": 231508,
            "_view_count": null,
            "_view_module_version": "1.5.0",
            "orientation": "horizontal",
            "min": 0,
            "description_tooltip": null,
            "_model_module": "@jupyter-widgets/controls",
            "layout": "IPY_MODEL_962717eabacc463c9856197592cad1d6"
          }
        },
        "27c023f615d545a0b616b549bfc593fa": {
          "model_module": "@jupyter-widgets/controls",
          "model_name": "HTMLModel",
          "state": {
            "_view_name": "HTMLView",
            "style": "IPY_MODEL_2d1571787c9e4af3828db6a5174403da",
            "_dom_classes": [],
            "description": "",
            "_model_name": "HTMLModel",
            "placeholder": "​",
            "_view_module": "@jupyter-widgets/controls",
            "_model_module_version": "1.5.0",
            "value": " 232k/232k [00:01&lt;00:00, 188kB/s]",
            "_view_count": null,
            "_view_module_version": "1.5.0",
            "description_tooltip": null,
            "_model_module": "@jupyter-widgets/controls",
            "layout": "IPY_MODEL_3db9b9c97c3d437e96faf4666263f3a6"
          }
        },
        "91b91bd199ae47e0830284fb9d9fbac8": {
          "model_module": "@jupyter-widgets/controls",
          "model_name": "ProgressStyleModel",
          "state": {
            "_view_name": "StyleView",
            "_model_name": "ProgressStyleModel",
            "description_width": "initial",
            "_view_module": "@jupyter-widgets/base",
            "_model_module_version": "1.5.0",
            "_view_count": null,
            "_view_module_version": "1.2.0",
            "bar_color": null,
            "_model_module": "@jupyter-widgets/controls"
          }
        },
        "962717eabacc463c9856197592cad1d6": {
          "model_module": "@jupyter-widgets/base",
          "model_name": "LayoutModel",
          "state": {
            "_view_name": "LayoutView",
            "grid_template_rows": null,
            "right": null,
            "justify_content": null,
            "_view_module": "@jupyter-widgets/base",
            "overflow": null,
            "_model_module_version": "1.2.0",
            "_view_count": null,
            "flex_flow": null,
            "width": null,
            "min_width": null,
            "border": null,
            "align_items": null,
            "bottom": null,
            "_model_module": "@jupyter-widgets/base",
            "top": null,
            "grid_column": null,
            "overflow_y": null,
            "overflow_x": null,
            "grid_auto_flow": null,
            "grid_area": null,
            "grid_template_columns": null,
            "flex": null,
            "_model_name": "LayoutModel",
            "justify_items": null,
            "grid_row": null,
            "max_height": null,
            "align_content": null,
            "visibility": null,
            "align_self": null,
            "height": null,
            "min_height": null,
            "padding": null,
            "grid_auto_rows": null,
            "grid_gap": null,
            "max_width": null,
            "order": null,
            "_view_module_version": "1.2.0",
            "grid_template_areas": null,
            "object_position": null,
            "object_fit": null,
            "grid_auto_columns": null,
            "margin": null,
            "display": null,
            "left": null
          }
        },
        "2d1571787c9e4af3828db6a5174403da": {
          "model_module": "@jupyter-widgets/controls",
          "model_name": "DescriptionStyleModel",
          "state": {
            "_view_name": "StyleView",
            "_model_name": "DescriptionStyleModel",
            "description_width": "",
            "_view_module": "@jupyter-widgets/base",
            "_model_module_version": "1.5.0",
            "_view_count": null,
            "_view_module_version": "1.2.0",
            "_model_module": "@jupyter-widgets/controls"
          }
        },
        "3db9b9c97c3d437e96faf4666263f3a6": {
          "model_module": "@jupyter-widgets/base",
          "model_name": "LayoutModel",
          "state": {
            "_view_name": "LayoutView",
            "grid_template_rows": null,
            "right": null,
            "justify_content": null,
            "_view_module": "@jupyter-widgets/base",
            "overflow": null,
            "_model_module_version": "1.2.0",
            "_view_count": null,
            "flex_flow": null,
            "width": null,
            "min_width": null,
            "border": null,
            "align_items": null,
            "bottom": null,
            "_model_module": "@jupyter-widgets/base",
            "top": null,
            "grid_column": null,
            "overflow_y": null,
            "overflow_x": null,
            "grid_auto_flow": null,
            "grid_area": null,
            "grid_template_columns": null,
            "flex": null,
            "_model_name": "LayoutModel",
            "justify_items": null,
            "grid_row": null,
            "max_height": null,
            "align_content": null,
            "visibility": null,
            "align_self": null,
            "height": null,
            "min_height": null,
            "padding": null,
            "grid_auto_rows": null,
            "grid_gap": null,
            "max_width": null,
            "order": null,
            "_view_module_version": "1.2.0",
            "grid_template_areas": null,
            "object_position": null,
            "object_fit": null,
            "grid_auto_columns": null,
            "margin": null,
            "display": null,
            "left": null
          }
        },
        "7eab9c60a7494807b703fc1f98f8bf89": {
          "model_module": "@jupyter-widgets/controls",
          "model_name": "HBoxModel",
          "state": {
            "_view_name": "HBoxView",
            "_dom_classes": [],
            "_model_name": "HBoxModel",
            "_view_module": "@jupyter-widgets/controls",
            "_model_module_version": "1.5.0",
            "_view_count": null,
            "_view_module_version": "1.5.0",
            "box_style": "",
            "layout": "IPY_MODEL_cfdd228b933b42c6ba2ed1f9aab5c883",
            "_model_module": "@jupyter-widgets/controls",
            "children": [
              "IPY_MODEL_7d34cf1572694fe98df793a48cf1a92b",
              "IPY_MODEL_1db238bdc5ea4935b22140f4729f6626"
            ]
          }
        },
        "cfdd228b933b42c6ba2ed1f9aab5c883": {
          "model_module": "@jupyter-widgets/base",
          "model_name": "LayoutModel",
          "state": {
            "_view_name": "LayoutView",
            "grid_template_rows": null,
            "right": null,
            "justify_content": null,
            "_view_module": "@jupyter-widgets/base",
            "overflow": null,
            "_model_module_version": "1.2.0",
            "_view_count": null,
            "flex_flow": null,
            "width": null,
            "min_width": null,
            "border": null,
            "align_items": null,
            "bottom": null,
            "_model_module": "@jupyter-widgets/base",
            "top": null,
            "grid_column": null,
            "overflow_y": null,
            "overflow_x": null,
            "grid_auto_flow": null,
            "grid_area": null,
            "grid_template_columns": null,
            "flex": null,
            "_model_name": "LayoutModel",
            "justify_items": null,
            "grid_row": null,
            "max_height": null,
            "align_content": null,
            "visibility": null,
            "align_self": null,
            "height": null,
            "min_height": null,
            "padding": null,
            "grid_auto_rows": null,
            "grid_gap": null,
            "max_width": null,
            "order": null,
            "_view_module_version": "1.2.0",
            "grid_template_areas": null,
            "object_position": null,
            "object_fit": null,
            "grid_auto_columns": null,
            "margin": null,
            "display": null,
            "left": null
          }
        },
        "7d34cf1572694fe98df793a48cf1a92b": {
          "model_module": "@jupyter-widgets/controls",
          "model_name": "FloatProgressModel",
          "state": {
            "_view_name": "ProgressView",
            "style": "IPY_MODEL_fa083342da80482da083324ef7f335a5",
            "_dom_classes": [],
            "description": "Downloading: 100%",
            "_model_name": "FloatProgressModel",
            "bar_style": "success",
            "max": 28,
            "_view_module": "@jupyter-widgets/controls",
            "_model_module_version": "1.5.0",
            "value": 28,
            "_view_count": null,
            "_view_module_version": "1.5.0",
            "orientation": "horizontal",
            "min": 0,
            "description_tooltip": null,
            "_model_module": "@jupyter-widgets/controls",
            "layout": "IPY_MODEL_db26e80f589f4bc39f6be349d2e946e7"
          }
        },
        "1db238bdc5ea4935b22140f4729f6626": {
          "model_module": "@jupyter-widgets/controls",
          "model_name": "HTMLModel",
          "state": {
            "_view_name": "HTMLView",
            "style": "IPY_MODEL_a134501904014c719223e46f0f595bce",
            "_dom_classes": [],
            "description": "",
            "_model_name": "HTMLModel",
            "placeholder": "​",
            "_view_module": "@jupyter-widgets/controls",
            "_model_module_version": "1.5.0",
            "value": " 28.0/28.0 [00:00&lt;00:00, 34.9B/s]",
            "_view_count": null,
            "_view_module_version": "1.5.0",
            "description_tooltip": null,
            "_model_module": "@jupyter-widgets/controls",
            "layout": "IPY_MODEL_596a5bb6f9bf415d8972e240ba81e889"
          }
        },
        "fa083342da80482da083324ef7f335a5": {
          "model_module": "@jupyter-widgets/controls",
          "model_name": "ProgressStyleModel",
          "state": {
            "_view_name": "StyleView",
            "_model_name": "ProgressStyleModel",
            "description_width": "initial",
            "_view_module": "@jupyter-widgets/base",
            "_model_module_version": "1.5.0",
            "_view_count": null,
            "_view_module_version": "1.2.0",
            "bar_color": null,
            "_model_module": "@jupyter-widgets/controls"
          }
        },
        "db26e80f589f4bc39f6be349d2e946e7": {
          "model_module": "@jupyter-widgets/base",
          "model_name": "LayoutModel",
          "state": {
            "_view_name": "LayoutView",
            "grid_template_rows": null,
            "right": null,
            "justify_content": null,
            "_view_module": "@jupyter-widgets/base",
            "overflow": null,
            "_model_module_version": "1.2.0",
            "_view_count": null,
            "flex_flow": null,
            "width": null,
            "min_width": null,
            "border": null,
            "align_items": null,
            "bottom": null,
            "_model_module": "@jupyter-widgets/base",
            "top": null,
            "grid_column": null,
            "overflow_y": null,
            "overflow_x": null,
            "grid_auto_flow": null,
            "grid_area": null,
            "grid_template_columns": null,
            "flex": null,
            "_model_name": "LayoutModel",
            "justify_items": null,
            "grid_row": null,
            "max_height": null,
            "align_content": null,
            "visibility": null,
            "align_self": null,
            "height": null,
            "min_height": null,
            "padding": null,
            "grid_auto_rows": null,
            "grid_gap": null,
            "max_width": null,
            "order": null,
            "_view_module_version": "1.2.0",
            "grid_template_areas": null,
            "object_position": null,
            "object_fit": null,
            "grid_auto_columns": null,
            "margin": null,
            "display": null,
            "left": null
          }
        },
        "a134501904014c719223e46f0f595bce": {
          "model_module": "@jupyter-widgets/controls",
          "model_name": "DescriptionStyleModel",
          "state": {
            "_view_name": "StyleView",
            "_model_name": "DescriptionStyleModel",
            "description_width": "",
            "_view_module": "@jupyter-widgets/base",
            "_model_module_version": "1.5.0",
            "_view_count": null,
            "_view_module_version": "1.2.0",
            "_model_module": "@jupyter-widgets/controls"
          }
        },
        "596a5bb6f9bf415d8972e240ba81e889": {
          "model_module": "@jupyter-widgets/base",
          "model_name": "LayoutModel",
          "state": {
            "_view_name": "LayoutView",
            "grid_template_rows": null,
            "right": null,
            "justify_content": null,
            "_view_module": "@jupyter-widgets/base",
            "overflow": null,
            "_model_module_version": "1.2.0",
            "_view_count": null,
            "flex_flow": null,
            "width": null,
            "min_width": null,
            "border": null,
            "align_items": null,
            "bottom": null,
            "_model_module": "@jupyter-widgets/base",
            "top": null,
            "grid_column": null,
            "overflow_y": null,
            "overflow_x": null,
            "grid_auto_flow": null,
            "grid_area": null,
            "grid_template_columns": null,
            "flex": null,
            "_model_name": "LayoutModel",
            "justify_items": null,
            "grid_row": null,
            "max_height": null,
            "align_content": null,
            "visibility": null,
            "align_self": null,
            "height": null,
            "min_height": null,
            "padding": null,
            "grid_auto_rows": null,
            "grid_gap": null,
            "max_width": null,
            "order": null,
            "_view_module_version": "1.2.0",
            "grid_template_areas": null,
            "object_position": null,
            "object_fit": null,
            "grid_auto_columns": null,
            "margin": null,
            "display": null,
            "left": null
          }
        },
        "12835b47422841059e299c1957db9e70": {
          "model_module": "@jupyter-widgets/controls",
          "model_name": "HBoxModel",
          "state": {
            "_view_name": "HBoxView",
            "_dom_classes": [],
            "_model_name": "HBoxModel",
            "_view_module": "@jupyter-widgets/controls",
            "_model_module_version": "1.5.0",
            "_view_count": null,
            "_view_module_version": "1.5.0",
            "box_style": "",
            "layout": "IPY_MODEL_b5534b90cc9c4843b9345e3e19f711a2",
            "_model_module": "@jupyter-widgets/controls",
            "children": [
              "IPY_MODEL_476d841141f84c17bc7a98639ed136df",
              "IPY_MODEL_aa35e8e730cb47ff8cb1f6943f5373d0"
            ]
          }
        },
        "b5534b90cc9c4843b9345e3e19f711a2": {
          "model_module": "@jupyter-widgets/base",
          "model_name": "LayoutModel",
          "state": {
            "_view_name": "LayoutView",
            "grid_template_rows": null,
            "right": null,
            "justify_content": null,
            "_view_module": "@jupyter-widgets/base",
            "overflow": null,
            "_model_module_version": "1.2.0",
            "_view_count": null,
            "flex_flow": null,
            "width": null,
            "min_width": null,
            "border": null,
            "align_items": null,
            "bottom": null,
            "_model_module": "@jupyter-widgets/base",
            "top": null,
            "grid_column": null,
            "overflow_y": null,
            "overflow_x": null,
            "grid_auto_flow": null,
            "grid_area": null,
            "grid_template_columns": null,
            "flex": null,
            "_model_name": "LayoutModel",
            "justify_items": null,
            "grid_row": null,
            "max_height": null,
            "align_content": null,
            "visibility": null,
            "align_self": null,
            "height": null,
            "min_height": null,
            "padding": null,
            "grid_auto_rows": null,
            "grid_gap": null,
            "max_width": null,
            "order": null,
            "_view_module_version": "1.2.0",
            "grid_template_areas": null,
            "object_position": null,
            "object_fit": null,
            "grid_auto_columns": null,
            "margin": null,
            "display": null,
            "left": null
          }
        },
        "476d841141f84c17bc7a98639ed136df": {
          "model_module": "@jupyter-widgets/controls",
          "model_name": "FloatProgressModel",
          "state": {
            "_view_name": "ProgressView",
            "style": "IPY_MODEL_a87b90fe56f344b09522c01e64fa0fb1",
            "_dom_classes": [],
            "description": "Downloading: 100%",
            "_model_name": "FloatProgressModel",
            "bar_style": "success",
            "max": 466062,
            "_view_module": "@jupyter-widgets/controls",
            "_model_module_version": "1.5.0",
            "value": 466062,
            "_view_count": null,
            "_view_module_version": "1.5.0",
            "orientation": "horizontal",
            "min": 0,
            "description_tooltip": null,
            "_model_module": "@jupyter-widgets/controls",
            "layout": "IPY_MODEL_60d200f32c364addb6cfbfdd5362f6b6"
          }
        },
        "aa35e8e730cb47ff8cb1f6943f5373d0": {
          "model_module": "@jupyter-widgets/controls",
          "model_name": "HTMLModel",
          "state": {
            "_view_name": "HTMLView",
            "style": "IPY_MODEL_2f67fffef1f2433682ad22b198257aac",
            "_dom_classes": [],
            "description": "",
            "_model_name": "HTMLModel",
            "placeholder": "​",
            "_view_module": "@jupyter-widgets/controls",
            "_model_module_version": "1.5.0",
            "value": " 466k/466k [00:00&lt;00:00, 1.37MB/s]",
            "_view_count": null,
            "_view_module_version": "1.5.0",
            "description_tooltip": null,
            "_model_module": "@jupyter-widgets/controls",
            "layout": "IPY_MODEL_4b27c4296ddc4448b5252c40abb35506"
          }
        },
        "a87b90fe56f344b09522c01e64fa0fb1": {
          "model_module": "@jupyter-widgets/controls",
          "model_name": "ProgressStyleModel",
          "state": {
            "_view_name": "StyleView",
            "_model_name": "ProgressStyleModel",
            "description_width": "initial",
            "_view_module": "@jupyter-widgets/base",
            "_model_module_version": "1.5.0",
            "_view_count": null,
            "_view_module_version": "1.2.0",
            "bar_color": null,
            "_model_module": "@jupyter-widgets/controls"
          }
        },
        "60d200f32c364addb6cfbfdd5362f6b6": {
          "model_module": "@jupyter-widgets/base",
          "model_name": "LayoutModel",
          "state": {
            "_view_name": "LayoutView",
            "grid_template_rows": null,
            "right": null,
            "justify_content": null,
            "_view_module": "@jupyter-widgets/base",
            "overflow": null,
            "_model_module_version": "1.2.0",
            "_view_count": null,
            "flex_flow": null,
            "width": null,
            "min_width": null,
            "border": null,
            "align_items": null,
            "bottom": null,
            "_model_module": "@jupyter-widgets/base",
            "top": null,
            "grid_column": null,
            "overflow_y": null,
            "overflow_x": null,
            "grid_auto_flow": null,
            "grid_area": null,
            "grid_template_columns": null,
            "flex": null,
            "_model_name": "LayoutModel",
            "justify_items": null,
            "grid_row": null,
            "max_height": null,
            "align_content": null,
            "visibility": null,
            "align_self": null,
            "height": null,
            "min_height": null,
            "padding": null,
            "grid_auto_rows": null,
            "grid_gap": null,
            "max_width": null,
            "order": null,
            "_view_module_version": "1.2.0",
            "grid_template_areas": null,
            "object_position": null,
            "object_fit": null,
            "grid_auto_columns": null,
            "margin": null,
            "display": null,
            "left": null
          }
        },
        "2f67fffef1f2433682ad22b198257aac": {
          "model_module": "@jupyter-widgets/controls",
          "model_name": "DescriptionStyleModel",
          "state": {
            "_view_name": "StyleView",
            "_model_name": "DescriptionStyleModel",
            "description_width": "",
            "_view_module": "@jupyter-widgets/base",
            "_model_module_version": "1.5.0",
            "_view_count": null,
            "_view_module_version": "1.2.0",
            "_model_module": "@jupyter-widgets/controls"
          }
        },
        "4b27c4296ddc4448b5252c40abb35506": {
          "model_module": "@jupyter-widgets/base",
          "model_name": "LayoutModel",
          "state": {
            "_view_name": "LayoutView",
            "grid_template_rows": null,
            "right": null,
            "justify_content": null,
            "_view_module": "@jupyter-widgets/base",
            "overflow": null,
            "_model_module_version": "1.2.0",
            "_view_count": null,
            "flex_flow": null,
            "width": null,
            "min_width": null,
            "border": null,
            "align_items": null,
            "bottom": null,
            "_model_module": "@jupyter-widgets/base",
            "top": null,
            "grid_column": null,
            "overflow_y": null,
            "overflow_x": null,
            "grid_auto_flow": null,
            "grid_area": null,
            "grid_template_columns": null,
            "flex": null,
            "_model_name": "LayoutModel",
            "justify_items": null,
            "grid_row": null,
            "max_height": null,
            "align_content": null,
            "visibility": null,
            "align_self": null,
            "height": null,
            "min_height": null,
            "padding": null,
            "grid_auto_rows": null,
            "grid_gap": null,
            "max_width": null,
            "order": null,
            "_view_module_version": "1.2.0",
            "grid_template_areas": null,
            "object_position": null,
            "object_fit": null,
            "grid_auto_columns": null,
            "margin": null,
            "display": null,
            "left": null
          }
        },
        "3a50718ada1c46c5a42c3bd191c587a3": {
          "model_module": "@jupyter-widgets/controls",
          "model_name": "HBoxModel",
          "state": {
            "_view_name": "HBoxView",
            "_dom_classes": [],
            "_model_name": "HBoxModel",
            "_view_module": "@jupyter-widgets/controls",
            "_model_module_version": "1.5.0",
            "_view_count": null,
            "_view_module_version": "1.5.0",
            "box_style": "",
            "layout": "IPY_MODEL_65775b82416f44f485106b7e856dfda1",
            "_model_module": "@jupyter-widgets/controls",
            "children": [
              "IPY_MODEL_07feb261eeb44353bc5507262a056ed2",
              "IPY_MODEL_db071d5da9f54fddbd5f6ac5e5fabf38"
            ]
          }
        },
        "65775b82416f44f485106b7e856dfda1": {
          "model_module": "@jupyter-widgets/base",
          "model_name": "LayoutModel",
          "state": {
            "_view_name": "LayoutView",
            "grid_template_rows": null,
            "right": null,
            "justify_content": null,
            "_view_module": "@jupyter-widgets/base",
            "overflow": null,
            "_model_module_version": "1.2.0",
            "_view_count": null,
            "flex_flow": null,
            "width": null,
            "min_width": null,
            "border": null,
            "align_items": null,
            "bottom": null,
            "_model_module": "@jupyter-widgets/base",
            "top": null,
            "grid_column": null,
            "overflow_y": null,
            "overflow_x": null,
            "grid_auto_flow": null,
            "grid_area": null,
            "grid_template_columns": null,
            "flex": null,
            "_model_name": "LayoutModel",
            "justify_items": null,
            "grid_row": null,
            "max_height": null,
            "align_content": null,
            "visibility": null,
            "align_self": null,
            "height": null,
            "min_height": null,
            "padding": null,
            "grid_auto_rows": null,
            "grid_gap": null,
            "max_width": null,
            "order": null,
            "_view_module_version": "1.2.0",
            "grid_template_areas": null,
            "object_position": null,
            "object_fit": null,
            "grid_auto_columns": null,
            "margin": null,
            "display": null,
            "left": null
          }
        },
        "07feb261eeb44353bc5507262a056ed2": {
          "model_module": "@jupyter-widgets/controls",
          "model_name": "FloatProgressModel",
          "state": {
            "_view_name": "ProgressView",
            "style": "IPY_MODEL_f14eca9b83d6407b846f85eb6880f0cb",
            "_dom_classes": [],
            "description": "Downloading: 100%",
            "_model_name": "FloatProgressModel",
            "bar_style": "success",
            "max": 433,
            "_view_module": "@jupyter-widgets/controls",
            "_model_module_version": "1.5.0",
            "value": 433,
            "_view_count": null,
            "_view_module_version": "1.5.0",
            "orientation": "horizontal",
            "min": 0,
            "description_tooltip": null,
            "_model_module": "@jupyter-widgets/controls",
            "layout": "IPY_MODEL_2226ed24b9bd40b780d54283b37606ec"
          }
        },
        "db071d5da9f54fddbd5f6ac5e5fabf38": {
          "model_module": "@jupyter-widgets/controls",
          "model_name": "HTMLModel",
          "state": {
            "_view_name": "HTMLView",
            "style": "IPY_MODEL_6a0731f7a3d34c98925ef8d76b3fb31b",
            "_dom_classes": [],
            "description": "",
            "_model_name": "HTMLModel",
            "placeholder": "​",
            "_view_module": "@jupyter-widgets/controls",
            "_model_module_version": "1.5.0",
            "value": " 433/433 [00:13&lt;00:00, 33.2B/s]",
            "_view_count": null,
            "_view_module_version": "1.5.0",
            "description_tooltip": null,
            "_model_module": "@jupyter-widgets/controls",
            "layout": "IPY_MODEL_9675d993fa304a18a93e377a17204f99"
          }
        },
        "f14eca9b83d6407b846f85eb6880f0cb": {
          "model_module": "@jupyter-widgets/controls",
          "model_name": "ProgressStyleModel",
          "state": {
            "_view_name": "StyleView",
            "_model_name": "ProgressStyleModel",
            "description_width": "initial",
            "_view_module": "@jupyter-widgets/base",
            "_model_module_version": "1.5.0",
            "_view_count": null,
            "_view_module_version": "1.2.0",
            "bar_color": null,
            "_model_module": "@jupyter-widgets/controls"
          }
        },
        "2226ed24b9bd40b780d54283b37606ec": {
          "model_module": "@jupyter-widgets/base",
          "model_name": "LayoutModel",
          "state": {
            "_view_name": "LayoutView",
            "grid_template_rows": null,
            "right": null,
            "justify_content": null,
            "_view_module": "@jupyter-widgets/base",
            "overflow": null,
            "_model_module_version": "1.2.0",
            "_view_count": null,
            "flex_flow": null,
            "width": null,
            "min_width": null,
            "border": null,
            "align_items": null,
            "bottom": null,
            "_model_module": "@jupyter-widgets/base",
            "top": null,
            "grid_column": null,
            "overflow_y": null,
            "overflow_x": null,
            "grid_auto_flow": null,
            "grid_area": null,
            "grid_template_columns": null,
            "flex": null,
            "_model_name": "LayoutModel",
            "justify_items": null,
            "grid_row": null,
            "max_height": null,
            "align_content": null,
            "visibility": null,
            "align_self": null,
            "height": null,
            "min_height": null,
            "padding": null,
            "grid_auto_rows": null,
            "grid_gap": null,
            "max_width": null,
            "order": null,
            "_view_module_version": "1.2.0",
            "grid_template_areas": null,
            "object_position": null,
            "object_fit": null,
            "grid_auto_columns": null,
            "margin": null,
            "display": null,
            "left": null
          }
        },
        "6a0731f7a3d34c98925ef8d76b3fb31b": {
          "model_module": "@jupyter-widgets/controls",
          "model_name": "DescriptionStyleModel",
          "state": {
            "_view_name": "StyleView",
            "_model_name": "DescriptionStyleModel",
            "description_width": "",
            "_view_module": "@jupyter-widgets/base",
            "_model_module_version": "1.5.0",
            "_view_count": null,
            "_view_module_version": "1.2.0",
            "_model_module": "@jupyter-widgets/controls"
          }
        },
        "9675d993fa304a18a93e377a17204f99": {
          "model_module": "@jupyter-widgets/base",
          "model_name": "LayoutModel",
          "state": {
            "_view_name": "LayoutView",
            "grid_template_rows": null,
            "right": null,
            "justify_content": null,
            "_view_module": "@jupyter-widgets/base",
            "overflow": null,
            "_model_module_version": "1.2.0",
            "_view_count": null,
            "flex_flow": null,
            "width": null,
            "min_width": null,
            "border": null,
            "align_items": null,
            "bottom": null,
            "_model_module": "@jupyter-widgets/base",
            "top": null,
            "grid_column": null,
            "overflow_y": null,
            "overflow_x": null,
            "grid_auto_flow": null,
            "grid_area": null,
            "grid_template_columns": null,
            "flex": null,
            "_model_name": "LayoutModel",
            "justify_items": null,
            "grid_row": null,
            "max_height": null,
            "align_content": null,
            "visibility": null,
            "align_self": null,
            "height": null,
            "min_height": null,
            "padding": null,
            "grid_auto_rows": null,
            "grid_gap": null,
            "max_width": null,
            "order": null,
            "_view_module_version": "1.2.0",
            "grid_template_areas": null,
            "object_position": null,
            "object_fit": null,
            "grid_auto_columns": null,
            "margin": null,
            "display": null,
            "left": null
          }
        },
        "9a96b9e67d174bd3b8faf5564bc77dc2": {
          "model_module": "@jupyter-widgets/controls",
          "model_name": "HBoxModel",
          "state": {
            "_view_name": "HBoxView",
            "_dom_classes": [],
            "_model_name": "HBoxModel",
            "_view_module": "@jupyter-widgets/controls",
            "_model_module_version": "1.5.0",
            "_view_count": null,
            "_view_module_version": "1.5.0",
            "box_style": "",
            "layout": "IPY_MODEL_6bb72c2fe3e64f0f9fbf6b80c982eab8",
            "_model_module": "@jupyter-widgets/controls",
            "children": [
              "IPY_MODEL_cde2fc6a158b4e499a44b8954ba00203",
              "IPY_MODEL_f4b7aba4434a4e2d87c0b9a8e2f5a79a"
            ]
          }
        },
        "6bb72c2fe3e64f0f9fbf6b80c982eab8": {
          "model_module": "@jupyter-widgets/base",
          "model_name": "LayoutModel",
          "state": {
            "_view_name": "LayoutView",
            "grid_template_rows": null,
            "right": null,
            "justify_content": null,
            "_view_module": "@jupyter-widgets/base",
            "overflow": null,
            "_model_module_version": "1.2.0",
            "_view_count": null,
            "flex_flow": null,
            "width": null,
            "min_width": null,
            "border": null,
            "align_items": null,
            "bottom": null,
            "_model_module": "@jupyter-widgets/base",
            "top": null,
            "grid_column": null,
            "overflow_y": null,
            "overflow_x": null,
            "grid_auto_flow": null,
            "grid_area": null,
            "grid_template_columns": null,
            "flex": null,
            "_model_name": "LayoutModel",
            "justify_items": null,
            "grid_row": null,
            "max_height": null,
            "align_content": null,
            "visibility": null,
            "align_self": null,
            "height": null,
            "min_height": null,
            "padding": null,
            "grid_auto_rows": null,
            "grid_gap": null,
            "max_width": null,
            "order": null,
            "_view_module_version": "1.2.0",
            "grid_template_areas": null,
            "object_position": null,
            "object_fit": null,
            "grid_auto_columns": null,
            "margin": null,
            "display": null,
            "left": null
          }
        },
        "cde2fc6a158b4e499a44b8954ba00203": {
          "model_module": "@jupyter-widgets/controls",
          "model_name": "FloatProgressModel",
          "state": {
            "_view_name": "ProgressView",
            "style": "IPY_MODEL_ee00d951155a473f949e9f1e4746b1cc",
            "_dom_classes": [],
            "description": "Downloading: 100%",
            "_model_name": "FloatProgressModel",
            "bar_style": "success",
            "max": 536063208,
            "_view_module": "@jupyter-widgets/controls",
            "_model_module_version": "1.5.0",
            "value": 536063208,
            "_view_count": null,
            "_view_module_version": "1.5.0",
            "orientation": "horizontal",
            "min": 0,
            "description_tooltip": null,
            "_model_module": "@jupyter-widgets/controls",
            "layout": "IPY_MODEL_f6c10af039b043cb8f0d30d86045e64d"
          }
        },
        "f4b7aba4434a4e2d87c0b9a8e2f5a79a": {
          "model_module": "@jupyter-widgets/controls",
          "model_name": "HTMLModel",
          "state": {
            "_view_name": "HTMLView",
            "style": "IPY_MODEL_7f496ded21ff4152917e4f9a7196903f",
            "_dom_classes": [],
            "description": "",
            "_model_name": "HTMLModel",
            "placeholder": "​",
            "_view_module": "@jupyter-widgets/controls",
            "_model_module_version": "1.5.0",
            "value": " 536M/536M [00:12&lt;00:00, 42.8MB/s]",
            "_view_count": null,
            "_view_module_version": "1.5.0",
            "description_tooltip": null,
            "_model_module": "@jupyter-widgets/controls",
            "layout": "IPY_MODEL_aad6177dee2b43beb1900d067fdecc0c"
          }
        },
        "ee00d951155a473f949e9f1e4746b1cc": {
          "model_module": "@jupyter-widgets/controls",
          "model_name": "ProgressStyleModel",
          "state": {
            "_view_name": "StyleView",
            "_model_name": "ProgressStyleModel",
            "description_width": "initial",
            "_view_module": "@jupyter-widgets/base",
            "_model_module_version": "1.5.0",
            "_view_count": null,
            "_view_module_version": "1.2.0",
            "bar_color": null,
            "_model_module": "@jupyter-widgets/controls"
          }
        },
        "f6c10af039b043cb8f0d30d86045e64d": {
          "model_module": "@jupyter-widgets/base",
          "model_name": "LayoutModel",
          "state": {
            "_view_name": "LayoutView",
            "grid_template_rows": null,
            "right": null,
            "justify_content": null,
            "_view_module": "@jupyter-widgets/base",
            "overflow": null,
            "_model_module_version": "1.2.0",
            "_view_count": null,
            "flex_flow": null,
            "width": null,
            "min_width": null,
            "border": null,
            "align_items": null,
            "bottom": null,
            "_model_module": "@jupyter-widgets/base",
            "top": null,
            "grid_column": null,
            "overflow_y": null,
            "overflow_x": null,
            "grid_auto_flow": null,
            "grid_area": null,
            "grid_template_columns": null,
            "flex": null,
            "_model_name": "LayoutModel",
            "justify_items": null,
            "grid_row": null,
            "max_height": null,
            "align_content": null,
            "visibility": null,
            "align_self": null,
            "height": null,
            "min_height": null,
            "padding": null,
            "grid_auto_rows": null,
            "grid_gap": null,
            "max_width": null,
            "order": null,
            "_view_module_version": "1.2.0",
            "grid_template_areas": null,
            "object_position": null,
            "object_fit": null,
            "grid_auto_columns": null,
            "margin": null,
            "display": null,
            "left": null
          }
        },
        "7f496ded21ff4152917e4f9a7196903f": {
          "model_module": "@jupyter-widgets/controls",
          "model_name": "DescriptionStyleModel",
          "state": {
            "_view_name": "StyleView",
            "_model_name": "DescriptionStyleModel",
            "description_width": "",
            "_view_module": "@jupyter-widgets/base",
            "_model_module_version": "1.5.0",
            "_view_count": null,
            "_view_module_version": "1.2.0",
            "_model_module": "@jupyter-widgets/controls"
          }
        },
        "aad6177dee2b43beb1900d067fdecc0c": {
          "model_module": "@jupyter-widgets/base",
          "model_name": "LayoutModel",
          "state": {
            "_view_name": "LayoutView",
            "grid_template_rows": null,
            "right": null,
            "justify_content": null,
            "_view_module": "@jupyter-widgets/base",
            "overflow": null,
            "_model_module_version": "1.2.0",
            "_view_count": null,
            "flex_flow": null,
            "width": null,
            "min_width": null,
            "border": null,
            "align_items": null,
            "bottom": null,
            "_model_module": "@jupyter-widgets/base",
            "top": null,
            "grid_column": null,
            "overflow_y": null,
            "overflow_x": null,
            "grid_auto_flow": null,
            "grid_area": null,
            "grid_template_columns": null,
            "flex": null,
            "_model_name": "LayoutModel",
            "justify_items": null,
            "grid_row": null,
            "max_height": null,
            "align_content": null,
            "visibility": null,
            "align_self": null,
            "height": null,
            "min_height": null,
            "padding": null,
            "grid_auto_rows": null,
            "grid_gap": null,
            "max_width": null,
            "order": null,
            "_view_module_version": "1.2.0",
            "grid_template_areas": null,
            "object_position": null,
            "object_fit": null,
            "grid_auto_columns": null,
            "margin": null,
            "display": null,
            "left": null
          }
        }
      }
    }
  },
  "cells": [
    {
      "cell_type": "markdown",
      "metadata": {
        "id": "view-in-github",
        "colab_type": "text"
      },
      "source": [
        "<a href=\"https://colab.research.google.com/github/Goro-python/my_NLP/blob/next_dev/Android_autofill.ipynb\" target=\"_parent\"><img src=\"https://colab.research.google.com/assets/colab-badge.svg\" alt=\"Open In Colab\"/></a>"
      ]
    },
    {
      "cell_type": "code",
      "metadata": {
        "colab": {
          "resources": {
            "http://localhost:8080/nbextensions/google.colab/files.js": {
              "data": "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",
              "ok": true,
              "headers": [
                [
                  "content-type",
                  "application/javascript"
                ]
              ],
              "status": 200,
              "status_text": ""
            }
          },
          "base_uri": "https://localhost:8080/",
          "height": 73
        },
        "id": "eFdmD4P6nG-w",
        "outputId": "4ab03fad-3f55-41db-b716-85a7da98d35d"
      },
      "source": [
        "# Uploading the Data \n",
        "\n",
        "from google.colab import files\n",
        "upload = files.upload()\n"
      ],
      "execution_count": 2,
      "outputs": [
        {
          "output_type": "display_data",
          "data": {
            "text/html": [
              "\n",
              "     <input type=\"file\" id=\"files-19aae97e-587f-4c42-b0da-2a7909820049\" name=\"files[]\" multiple disabled\n",
              "        style=\"border:none\" />\n",
              "     <output id=\"result-19aae97e-587f-4c42-b0da-2a7909820049\">\n",
              "      Upload widget is only available when the cell has been executed in the\n",
              "      current browser session. Please rerun this cell to enable.\n",
              "      </output>\n",
              "      <script src=\"/nbextensions/google.colab/files.js\"></script> "
            ],
            "text/plain": [
              "<IPython.core.display.HTML object>"
            ]
          },
          "metadata": {
            "tags": []
          }
        },
        {
          "output_type": "stream",
          "text": [
            "Saving modelling_data_ver2.csv to modelling_data_ver2.csv\n"
          ],
          "name": "stdout"
        }
      ]
    },
    {
      "cell_type": "code",
      "metadata": {
        "colab": {
          "base_uri": "https://localhost:8080/"
        },
        "id": "ScHYU_nInh0W",
        "outputId": "fb97944b-da58-4aa8-b901-20d8786185be"
      },
      "source": [
        "!ls"
      ],
      "execution_count": 3,
      "outputs": [
        {
          "output_type": "stream",
          "text": [
            "modelling_data_ver2.csv  sample_data\n"
          ],
          "name": "stdout"
        }
      ]
    },
    {
      "cell_type": "code",
      "metadata": {
        "colab": {
          "base_uri": "https://localhost:8080/"
        },
        "id": "eNamZJFSo25f",
        "outputId": "5958a433-e5cc-4dc8-98dc-52f7b3ea3117"
      },
      "source": [
        "!ls"
      ],
      "execution_count": 1,
      "outputs": [
        {
          "output_type": "stream",
          "text": [
            "sample_data\n"
          ],
          "name": "stdout"
        }
      ]
    },
    {
      "cell_type": "code",
      "metadata": {
        "colab": {
          "base_uri": "https://localhost:8080/",
          "height": 1000
        },
        "id": "2mIK1-s2o407",
        "outputId": "4dc5034e-ef6d-416a-b0fa-4c2d2855acad"
      },
      "source": [
        "!pip install tensorflow==2.3.0"
      ],
      "execution_count": 4,
      "outputs": [
        {
          "output_type": "stream",
          "text": [
            "Collecting tensorflow==2.3.0\n",
            "\u001b[?25l  Downloading https://files.pythonhosted.org/packages/16/89/f2d29c2eafc2eeafb17d5634340e06366af904d332341200a49d954bce85/tensorflow-2.3.0-cp37-cp37m-manylinux2010_x86_64.whl (320.4MB)\n",
            "\u001b[K     |████████████████████████████████| 320.4MB 47kB/s \n",
            "\u001b[?25hRequirement already satisfied: google-pasta>=0.1.8 in /usr/local/lib/python3.7/dist-packages (from tensorflow==2.3.0) (0.2.0)\n",
            "Requirement already satisfied: gast==0.3.3 in /usr/local/lib/python3.7/dist-packages (from tensorflow==2.3.0) (0.3.3)\n",
            "Collecting tensorflow-estimator<2.4.0,>=2.3.0\n",
            "\u001b[?25l  Downloading https://files.pythonhosted.org/packages/e9/ed/5853ec0ae380cba4588eab1524e18ece1583b65f7ae0e97321f5ff9dfd60/tensorflow_estimator-2.3.0-py2.py3-none-any.whl (459kB)\n",
            "\u001b[K     |████████████████████████████████| 460kB 45.8MB/s \n",
            "\u001b[?25hRequirement already satisfied: wheel>=0.26 in /usr/local/lib/python3.7/dist-packages (from tensorflow==2.3.0) (0.36.2)\n",
            "Requirement already satisfied: absl-py>=0.7.0 in /usr/local/lib/python3.7/dist-packages (from tensorflow==2.3.0) (0.12.0)\n",
            "Requirement already satisfied: h5py<2.11.0,>=2.10.0 in /usr/local/lib/python3.7/dist-packages (from tensorflow==2.3.0) (2.10.0)\n",
            "Requirement already satisfied: termcolor>=1.1.0 in /usr/local/lib/python3.7/dist-packages (from tensorflow==2.3.0) (1.1.0)\n",
            "Requirement already satisfied: astunparse==1.6.3 in /usr/local/lib/python3.7/dist-packages (from tensorflow==2.3.0) (1.6.3)\n",
            "Requirement already satisfied: opt-einsum>=2.3.2 in /usr/local/lib/python3.7/dist-packages (from tensorflow==2.3.0) (3.3.0)\n",
            "Requirement already satisfied: grpcio>=1.8.6 in /usr/local/lib/python3.7/dist-packages (from tensorflow==2.3.0) (1.32.0)\n",
            "Requirement already satisfied: keras-preprocessing<1.2,>=1.1.1 in /usr/local/lib/python3.7/dist-packages (from tensorflow==2.3.0) (1.1.2)\n",
            "Requirement already satisfied: protobuf>=3.9.2 in /usr/local/lib/python3.7/dist-packages (from tensorflow==2.3.0) (3.12.4)\n",
            "Requirement already satisfied: six>=1.12.0 in /usr/local/lib/python3.7/dist-packages (from tensorflow==2.3.0) (1.15.0)\n",
            "Collecting numpy<1.19.0,>=1.16.0\n",
            "\u001b[?25l  Downloading https://files.pythonhosted.org/packages/d6/c6/58e517e8b1fb192725cfa23c01c2e60e4e6699314ee9684a1c5f5c9b27e1/numpy-1.18.5-cp37-cp37m-manylinux1_x86_64.whl (20.1MB)\n",
            "\u001b[K     |████████████████████████████████| 20.1MB 46.6MB/s \n",
            "\u001b[?25hRequirement already satisfied: tensorboard<3,>=2.3.0 in /usr/local/lib/python3.7/dist-packages (from tensorflow==2.3.0) (2.4.1)\n",
            "Requirement already satisfied: wrapt>=1.11.1 in /usr/local/lib/python3.7/dist-packages (from tensorflow==2.3.0) (1.12.1)\n",
            "Requirement already satisfied: scipy==1.4.1 in /usr/local/lib/python3.7/dist-packages (from tensorflow==2.3.0) (1.4.1)\n",
            "Requirement already satisfied: setuptools in /usr/local/lib/python3.7/dist-packages (from protobuf>=3.9.2->tensorflow==2.3.0) (54.2.0)\n",
            "Requirement already satisfied: google-auth<2,>=1.6.3 in /usr/local/lib/python3.7/dist-packages (from tensorboard<3,>=2.3.0->tensorflow==2.3.0) (1.28.0)\n",
            "Requirement already satisfied: tensorboard-plugin-wit>=1.6.0 in /usr/local/lib/python3.7/dist-packages (from tensorboard<3,>=2.3.0->tensorflow==2.3.0) (1.8.0)\n",
            "Requirement already satisfied: werkzeug>=0.11.15 in /usr/local/lib/python3.7/dist-packages (from tensorboard<3,>=2.3.0->tensorflow==2.3.0) (1.0.1)\n",
            "Requirement already satisfied: markdown>=2.6.8 in /usr/local/lib/python3.7/dist-packages (from tensorboard<3,>=2.3.0->tensorflow==2.3.0) (3.3.4)\n",
            "Requirement already satisfied: requests<3,>=2.21.0 in /usr/local/lib/python3.7/dist-packages (from tensorboard<3,>=2.3.0->tensorflow==2.3.0) (2.23.0)\n",
            "Requirement already satisfied: google-auth-oauthlib<0.5,>=0.4.1 in /usr/local/lib/python3.7/dist-packages (from tensorboard<3,>=2.3.0->tensorflow==2.3.0) (0.4.3)\n",
            "Requirement already satisfied: rsa<5,>=3.1.4; python_version >= \"3.6\" in /usr/local/lib/python3.7/dist-packages (from google-auth<2,>=1.6.3->tensorboard<3,>=2.3.0->tensorflow==2.3.0) (4.7.2)\n",
            "Requirement already satisfied: cachetools<5.0,>=2.0.0 in /usr/local/lib/python3.7/dist-packages (from google-auth<2,>=1.6.3->tensorboard<3,>=2.3.0->tensorflow==2.3.0) (4.2.1)\n",
            "Requirement already satisfied: pyasn1-modules>=0.2.1 in /usr/local/lib/python3.7/dist-packages (from google-auth<2,>=1.6.3->tensorboard<3,>=2.3.0->tensorflow==2.3.0) (0.2.8)\n",
            "Requirement already satisfied: importlib-metadata; python_version < \"3.8\" in /usr/local/lib/python3.7/dist-packages (from markdown>=2.6.8->tensorboard<3,>=2.3.0->tensorflow==2.3.0) (3.8.1)\n",
            "Requirement already satisfied: certifi>=2017.4.17 in /usr/local/lib/python3.7/dist-packages (from requests<3,>=2.21.0->tensorboard<3,>=2.3.0->tensorflow==2.3.0) (2020.12.5)\n",
            "Requirement already satisfied: chardet<4,>=3.0.2 in /usr/local/lib/python3.7/dist-packages (from requests<3,>=2.21.0->tensorboard<3,>=2.3.0->tensorflow==2.3.0) (3.0.4)\n",
            "Requirement already satisfied: urllib3!=1.25.0,!=1.25.1,<1.26,>=1.21.1 in /usr/local/lib/python3.7/dist-packages (from requests<3,>=2.21.0->tensorboard<3,>=2.3.0->tensorflow==2.3.0) (1.24.3)\n",
            "Requirement already satisfied: idna<3,>=2.5 in /usr/local/lib/python3.7/dist-packages (from requests<3,>=2.21.0->tensorboard<3,>=2.3.0->tensorflow==2.3.0) (2.10)\n",
            "Requirement already satisfied: requests-oauthlib>=0.7.0 in /usr/local/lib/python3.7/dist-packages (from google-auth-oauthlib<0.5,>=0.4.1->tensorboard<3,>=2.3.0->tensorflow==2.3.0) (1.3.0)\n",
            "Requirement already satisfied: pyasn1>=0.1.3 in /usr/local/lib/python3.7/dist-packages (from rsa<5,>=3.1.4; python_version >= \"3.6\"->google-auth<2,>=1.6.3->tensorboard<3,>=2.3.0->tensorflow==2.3.0) (0.4.8)\n",
            "Requirement already satisfied: typing-extensions>=3.6.4; python_version < \"3.8\" in /usr/local/lib/python3.7/dist-packages (from importlib-metadata; python_version < \"3.8\"->markdown>=2.6.8->tensorboard<3,>=2.3.0->tensorflow==2.3.0) (3.7.4.3)\n",
            "Requirement already satisfied: zipp>=0.5 in /usr/local/lib/python3.7/dist-packages (from importlib-metadata; python_version < \"3.8\"->markdown>=2.6.8->tensorboard<3,>=2.3.0->tensorflow==2.3.0) (3.4.1)\n",
            "Requirement already satisfied: oauthlib>=3.0.0 in /usr/local/lib/python3.7/dist-packages (from requests-oauthlib>=0.7.0->google-auth-oauthlib<0.5,>=0.4.1->tensorboard<3,>=2.3.0->tensorflow==2.3.0) (3.1.0)\n",
            "\u001b[31mERROR: datascience 0.10.6 has requirement folium==0.2.1, but you'll have folium 0.8.3 which is incompatible.\u001b[0m\n",
            "\u001b[31mERROR: albumentations 0.1.12 has requirement imgaug<0.2.7,>=0.2.5, but you'll have imgaug 0.2.9 which is incompatible.\u001b[0m\n",
            "Installing collected packages: tensorflow-estimator, numpy, tensorflow\n",
            "  Found existing installation: tensorflow-estimator 2.4.0\n",
            "    Uninstalling tensorflow-estimator-2.4.0:\n",
            "      Successfully uninstalled tensorflow-estimator-2.4.0\n",
            "  Found existing installation: numpy 1.19.5\n",
            "    Uninstalling numpy-1.19.5:\n",
            "      Successfully uninstalled numpy-1.19.5\n",
            "  Found existing installation: tensorflow 2.4.1\n",
            "    Uninstalling tensorflow-2.4.1:\n",
            "      Successfully uninstalled tensorflow-2.4.1\n",
            "Successfully installed numpy-1.18.5 tensorflow-2.3.0 tensorflow-estimator-2.3.0\n"
          ],
          "name": "stdout"
        },
        {
          "output_type": "display_data",
          "data": {
            "application/vnd.colab-display-data+json": {
              "pip_warning": {
                "packages": [
                  "numpy"
                ]
              }
            }
          },
          "metadata": {
            "tags": []
          }
        }
      ]
    },
    {
      "cell_type": "code",
      "metadata": {
        "id": "oSuI_qvGpeUX"
      },
      "source": [
        "# modelling with BERT \n",
        "import pandas as pd\n",
        "import tensorflow as tf\n",
        "import numpy as np"
      ],
      "execution_count": 1,
      "outputs": []
    },
    {
      "cell_type": "code",
      "metadata": {
        "colab": {
          "base_uri": "https://localhost:8080/",
          "height": 35
        },
        "id": "Ak57l6mxp7C4",
        "outputId": "b428702b-43f7-4c78-a544-5a8a2a969cce"
      },
      "source": [
        "tf.__version__"
      ],
      "execution_count": 2,
      "outputs": [
        {
          "output_type": "execute_result",
          "data": {
            "application/vnd.google.colaboratory.intrinsic+json": {
              "type": "string"
            },
            "text/plain": [
              "'2.3.0'"
            ]
          },
          "metadata": {
            "tags": []
          },
          "execution_count": 2
        }
      ]
    },
    {
      "cell_type": "code",
      "metadata": {
        "colab": {
          "base_uri": "https://localhost:8080/"
        },
        "id": "GDx2Xw5Mp99R",
        "outputId": "596cb1ef-0cb4-4a91-949f-d0c6b3f0ec56"
      },
      "source": [
        "!pip install transformers\n"
      ],
      "execution_count": 3,
      "outputs": [
        {
          "output_type": "stream",
          "text": [
            "Collecting transformers\n",
            "\u001b[?25l  Downloading https://files.pythonhosted.org/packages/ed/d5/f4157a376b8a79489a76ce6cfe147f4f3be1e029b7144fa7b8432e8acb26/transformers-4.4.2-py3-none-any.whl (2.0MB)\n",
            "\r\u001b[K     |▏                               | 10kB 19.6MB/s eta 0:00:01\r\u001b[K     |▎                               | 20kB 18.2MB/s eta 0:00:01\r\u001b[K     |▌                               | 30kB 14.9MB/s eta 0:00:01\r\u001b[K     |▋                               | 40kB 14.2MB/s eta 0:00:01\r\u001b[K     |▉                               | 51kB 9.2MB/s eta 0:00:01\r\u001b[K     |█                               | 61kB 10.6MB/s eta 0:00:01\r\u001b[K     |█▏                              | 71kB 9.9MB/s eta 0:00:01\r\u001b[K     |█▎                              | 81kB 11.0MB/s eta 0:00:01\r\u001b[K     |█▌                              | 92kB 10.0MB/s eta 0:00:01\r\u001b[K     |█▋                              | 102kB 8.9MB/s eta 0:00:01\r\u001b[K     |█▉                              | 112kB 8.9MB/s eta 0:00:01\r\u001b[K     |██                              | 122kB 8.9MB/s eta 0:00:01\r\u001b[K     |██▏                             | 133kB 8.9MB/s eta 0:00:01\r\u001b[K     |██▎                             | 143kB 8.9MB/s eta 0:00:01\r\u001b[K     |██▌                             | 153kB 8.9MB/s eta 0:00:01\r\u001b[K     |██▋                             | 163kB 8.9MB/s eta 0:00:01\r\u001b[K     |██▉                             | 174kB 8.9MB/s eta 0:00:01\r\u001b[K     |███                             | 184kB 8.9MB/s eta 0:00:01\r\u001b[K     |███▏                            | 194kB 8.9MB/s eta 0:00:01\r\u001b[K     |███▎                            | 204kB 8.9MB/s eta 0:00:01\r\u001b[K     |███▌                            | 215kB 8.9MB/s eta 0:00:01\r\u001b[K     |███▋                            | 225kB 8.9MB/s eta 0:00:01\r\u001b[K     |███▉                            | 235kB 8.9MB/s eta 0:00:01\r\u001b[K     |████                            | 245kB 8.9MB/s eta 0:00:01\r\u001b[K     |████▏                           | 256kB 8.9MB/s eta 0:00:01\r\u001b[K     |████▎                           | 266kB 8.9MB/s eta 0:00:01\r\u001b[K     |████▌                           | 276kB 8.9MB/s eta 0:00:01\r\u001b[K     |████▋                           | 286kB 8.9MB/s eta 0:00:01\r\u001b[K     |████▉                           | 296kB 8.9MB/s eta 0:00:01\r\u001b[K     |█████                           | 307kB 8.9MB/s eta 0:00:01\r\u001b[K     |█████▏                          | 317kB 8.9MB/s eta 0:00:01\r\u001b[K     |█████▎                          | 327kB 8.9MB/s eta 0:00:01\r\u001b[K     |█████▌                          | 337kB 8.9MB/s eta 0:00:01\r\u001b[K     |█████▋                          | 348kB 8.9MB/s eta 0:00:01\r\u001b[K     |█████▉                          | 358kB 8.9MB/s eta 0:00:01\r\u001b[K     |██████                          | 368kB 8.9MB/s eta 0:00:01\r\u001b[K     |██████▏                         | 378kB 8.9MB/s eta 0:00:01\r\u001b[K     |██████▎                         | 389kB 8.9MB/s eta 0:00:01\r\u001b[K     |██████▌                         | 399kB 8.9MB/s eta 0:00:01\r\u001b[K     |██████▋                         | 409kB 8.9MB/s eta 0:00:01\r\u001b[K     |██████▉                         | 419kB 8.9MB/s eta 0:00:01\r\u001b[K     |███████                         | 430kB 8.9MB/s eta 0:00:01\r\u001b[K     |███████▏                        | 440kB 8.9MB/s eta 0:00:01\r\u001b[K     |███████▎                        | 450kB 8.9MB/s eta 0:00:01\r\u001b[K     |███████▌                        | 460kB 8.9MB/s eta 0:00:01\r\u001b[K     |███████▋                        | 471kB 8.9MB/s eta 0:00:01\r\u001b[K     |███████▉                        | 481kB 8.9MB/s eta 0:00:01\r\u001b[K     |████████                        | 491kB 8.9MB/s eta 0:00:01\r\u001b[K     |████████▏                       | 501kB 8.9MB/s eta 0:00:01\r\u001b[K     |████████▎                       | 512kB 8.9MB/s eta 0:00:01\r\u001b[K     |████████▌                       | 522kB 8.9MB/s eta 0:00:01\r\u001b[K     |████████▋                       | 532kB 8.9MB/s eta 0:00:01\r\u001b[K     |████████▉                       | 542kB 8.9MB/s eta 0:00:01\r\u001b[K     |█████████                       | 552kB 8.9MB/s eta 0:00:01\r\u001b[K     |█████████▏                      | 563kB 8.9MB/s eta 0:00:01\r\u001b[K     |█████████▎                      | 573kB 8.9MB/s eta 0:00:01\r\u001b[K     |█████████▌                      | 583kB 8.9MB/s eta 0:00:01\r\u001b[K     |█████████▋                      | 593kB 8.9MB/s eta 0:00:01\r\u001b[K     |█████████▉                      | 604kB 8.9MB/s eta 0:00:01\r\u001b[K     |██████████                      | 614kB 8.9MB/s eta 0:00:01\r\u001b[K     |██████████▏                     | 624kB 8.9MB/s eta 0:00:01\r\u001b[K     |██████████▎                     | 634kB 8.9MB/s eta 0:00:01\r\u001b[K     |██████████▌                     | 645kB 8.9MB/s eta 0:00:01\r\u001b[K     |██████████▋                     | 655kB 8.9MB/s eta 0:00:01\r\u001b[K     |██████████▉                     | 665kB 8.9MB/s eta 0:00:01\r\u001b[K     |███████████                     | 675kB 8.9MB/s eta 0:00:01\r\u001b[K     |███████████▏                    | 686kB 8.9MB/s eta 0:00:01\r\u001b[K     |███████████▎                    | 696kB 8.9MB/s eta 0:00:01\r\u001b[K     |███████████▌                    | 706kB 8.9MB/s eta 0:00:01\r\u001b[K     |███████████▋                    | 716kB 8.9MB/s eta 0:00:01\r\u001b[K     |███████████▉                    | 727kB 8.9MB/s eta 0:00:01\r\u001b[K     |████████████                    | 737kB 8.9MB/s eta 0:00:01\r\u001b[K     |████████████▏                   | 747kB 8.9MB/s eta 0:00:01\r\u001b[K     |████████████▎                   | 757kB 8.9MB/s eta 0:00:01\r\u001b[K     |████████████▌                   | 768kB 8.9MB/s eta 0:00:01\r\u001b[K     |████████████▋                   | 778kB 8.9MB/s eta 0:00:01\r\u001b[K     |████████████▉                   | 788kB 8.9MB/s eta 0:00:01\r\u001b[K     |█████████████                   | 798kB 8.9MB/s eta 0:00:01\r\u001b[K     |█████████████▏                  | 808kB 8.9MB/s eta 0:00:01\r\u001b[K     |█████████████▎                  | 819kB 8.9MB/s eta 0:00:01\r\u001b[K     |█████████████▌                  | 829kB 8.9MB/s eta 0:00:01\r\u001b[K     |█████████████▋                  | 839kB 8.9MB/s eta 0:00:01\r\u001b[K     |█████████████▉                  | 849kB 8.9MB/s eta 0:00:01\r\u001b[K     |██████████████                  | 860kB 8.9MB/s eta 0:00:01\r\u001b[K     |██████████████▏                 | 870kB 8.9MB/s eta 0:00:01\r\u001b[K     |██████████████▎                 | 880kB 8.9MB/s eta 0:00:01\r\u001b[K     |██████████████▌                 | 890kB 8.9MB/s eta 0:00:01\r\u001b[K     |██████████████▋                 | 901kB 8.9MB/s eta 0:00:01\r\u001b[K     |██████████████▊                 | 911kB 8.9MB/s eta 0:00:01\r\u001b[K     |███████████████                 | 921kB 8.9MB/s eta 0:00:01\r\u001b[K     |███████████████                 | 931kB 8.9MB/s eta 0:00:01\r\u001b[K     |███████████████▎                | 942kB 8.9MB/s eta 0:00:01\r\u001b[K     |███████████████▍                | 952kB 8.9MB/s eta 0:00:01\r\u001b[K     |███████████████▋                | 962kB 8.9MB/s eta 0:00:01\r\u001b[K     |███████████████▊                | 972kB 8.9MB/s eta 0:00:01\r\u001b[K     |████████████████                | 983kB 8.9MB/s eta 0:00:01\r\u001b[K     |████████████████                | 993kB 8.9MB/s eta 0:00:01\r\u001b[K     |████████████████▎               | 1.0MB 8.9MB/s eta 0:00:01\r\u001b[K     |████████████████▍               | 1.0MB 8.9MB/s eta 0:00:01\r\u001b[K     |████████████████▋               | 1.0MB 8.9MB/s eta 0:00:01\r\u001b[K     |████████████████▊               | 1.0MB 8.9MB/s eta 0:00:01\r\u001b[K     |█████████████████               | 1.0MB 8.9MB/s eta 0:00:01\r\u001b[K     |█████████████████               | 1.1MB 8.9MB/s eta 0:00:01\r\u001b[K     |█████████████████▎              | 1.1MB 8.9MB/s eta 0:00:01\r\u001b[K     |█████████████████▍              | 1.1MB 8.9MB/s eta 0:00:01\r\u001b[K     |█████████████████▋              | 1.1MB 8.9MB/s eta 0:00:01\r\u001b[K     |█████████████████▊              | 1.1MB 8.9MB/s eta 0:00:01\r\u001b[K     |██████████████████              | 1.1MB 8.9MB/s eta 0:00:01\r\u001b[K     |██████████████████              | 1.1MB 8.9MB/s eta 0:00:01\r\u001b[K     |██████████████████▎             | 1.1MB 8.9MB/s eta 0:00:01\r\u001b[K     |██████████████████▍             | 1.1MB 8.9MB/s eta 0:00:01\r\u001b[K     |██████████████████▋             | 1.1MB 8.9MB/s eta 0:00:01\r\u001b[K     |██████████████████▊             | 1.2MB 8.9MB/s eta 0:00:01\r\u001b[K     |███████████████████             | 1.2MB 8.9MB/s eta 0:00:01\r\u001b[K     |███████████████████             | 1.2MB 8.9MB/s eta 0:00:01\r\u001b[K     |███████████████████▎            | 1.2MB 8.9MB/s eta 0:00:01\r\u001b[K     |███████████████████▍            | 1.2MB 8.9MB/s eta 0:00:01\r\u001b[K     |███████████████████▋            | 1.2MB 8.9MB/s eta 0:00:01\r\u001b[K     |███████████████████▊            | 1.2MB 8.9MB/s eta 0:00:01\r\u001b[K     |████████████████████            | 1.2MB 8.9MB/s eta 0:00:01\r\u001b[K     |████████████████████            | 1.2MB 8.9MB/s eta 0:00:01\r\u001b[K     |████████████████████▎           | 1.2MB 8.9MB/s eta 0:00:01\r\u001b[K     |████████████████████▍           | 1.3MB 8.9MB/s eta 0:00:01\r\u001b[K     |████████████████████▋           | 1.3MB 8.9MB/s eta 0:00:01\r\u001b[K     |████████████████████▊           | 1.3MB 8.9MB/s eta 0:00:01\r\u001b[K     |█████████████████████           | 1.3MB 8.9MB/s eta 0:00:01\r\u001b[K     |█████████████████████           | 1.3MB 8.9MB/s eta 0:00:01\r\u001b[K     |█████████████████████▎          | 1.3MB 8.9MB/s eta 0:00:01\r\u001b[K     |█████████████████████▍          | 1.3MB 8.9MB/s eta 0:00:01\r\u001b[K     |█████████████████████▋          | 1.3MB 8.9MB/s eta 0:00:01\r\u001b[K     |█████████████████████▊          | 1.3MB 8.9MB/s eta 0:00:01\r\u001b[K     |██████████████████████          | 1.4MB 8.9MB/s eta 0:00:01\r\u001b[K     |██████████████████████          | 1.4MB 8.9MB/s eta 0:00:01\r\u001b[K     |██████████████████████▎         | 1.4MB 8.9MB/s eta 0:00:01\r\u001b[K     |██████████████████████▍         | 1.4MB 8.9MB/s eta 0:00:01\r\u001b[K     |██████████████████████▋         | 1.4MB 8.9MB/s eta 0:00:01\r\u001b[K     |██████████████████████▊         | 1.4MB 8.9MB/s eta 0:00:01\r\u001b[K     |███████████████████████         | 1.4MB 8.9MB/s eta 0:00:01\r\u001b[K     |███████████████████████         | 1.4MB 8.9MB/s eta 0:00:01\r\u001b[K     |███████████████████████▎        | 1.4MB 8.9MB/s eta 0:00:01\r\u001b[K     |███████████████████████▍        | 1.4MB 8.9MB/s eta 0:00:01\r\u001b[K     |███████████████████████▋        | 1.5MB 8.9MB/s eta 0:00:01\r\u001b[K     |███████████████████████▊        | 1.5MB 8.9MB/s eta 0:00:01\r\u001b[K     |████████████████████████        | 1.5MB 8.9MB/s eta 0:00:01\r\u001b[K     |████████████████████████        | 1.5MB 8.9MB/s eta 0:00:01\r\u001b[K     |████████████████████████▎       | 1.5MB 8.9MB/s eta 0:00:01\r\u001b[K     |████████████████████████▍       | 1.5MB 8.9MB/s eta 0:00:01\r\u001b[K     |████████████████████████▋       | 1.5MB 8.9MB/s eta 0:00:01\r\u001b[K     |████████████████████████▊       | 1.5MB 8.9MB/s eta 0:00:01\r\u001b[K     |█████████████████████████       | 1.5MB 8.9MB/s eta 0:00:01\r\u001b[K     |█████████████████████████       | 1.5MB 8.9MB/s eta 0:00:01\r\u001b[K     |█████████████████████████▎      | 1.6MB 8.9MB/s eta 0:00:01\r\u001b[K     |█████████████████████████▍      | 1.6MB 8.9MB/s eta 0:00:01\r\u001b[K     |█████████████████████████▋      | 1.6MB 8.9MB/s eta 0:00:01\r\u001b[K     |█████████████████████████▊      | 1.6MB 8.9MB/s eta 0:00:01\r\u001b[K     |██████████████████████████      | 1.6MB 8.9MB/s eta 0:00:01\r\u001b[K     |██████████████████████████      | 1.6MB 8.9MB/s eta 0:00:01\r\u001b[K     |██████████████████████████▎     | 1.6MB 8.9MB/s eta 0:00:01\r\u001b[K     |██████████████████████████▍     | 1.6MB 8.9MB/s eta 0:00:01\r\u001b[K     |██████████████████████████▋     | 1.6MB 8.9MB/s eta 0:00:01\r\u001b[K     |██████████████████████████▊     | 1.6MB 8.9MB/s eta 0:00:01\r\u001b[K     |███████████████████████████     | 1.7MB 8.9MB/s eta 0:00:01\r\u001b[K     |███████████████████████████     | 1.7MB 8.9MB/s eta 0:00:01\r\u001b[K     |███████████████████████████▎    | 1.7MB 8.9MB/s eta 0:00:01\r\u001b[K     |███████████████████████████▍    | 1.7MB 8.9MB/s eta 0:00:01\r\u001b[K     |███████████████████████████▋    | 1.7MB 8.9MB/s eta 0:00:01\r\u001b[K     |███████████████████████████▊    | 1.7MB 8.9MB/s eta 0:00:01\r\u001b[K     |████████████████████████████    | 1.7MB 8.9MB/s eta 0:00:01\r\u001b[K     |████████████████████████████    | 1.7MB 8.9MB/s eta 0:00:01\r\u001b[K     |████████████████████████████▎   | 1.7MB 8.9MB/s eta 0:00:01\r\u001b[K     |████████████████████████████▍   | 1.8MB 8.9MB/s eta 0:00:01\r\u001b[K     |████████████████████████████▋   | 1.8MB 8.9MB/s eta 0:00:01\r\u001b[K     |████████████████████████████▊   | 1.8MB 8.9MB/s eta 0:00:01\r\u001b[K     |█████████████████████████████   | 1.8MB 8.9MB/s eta 0:00:01\r\u001b[K     |█████████████████████████████   | 1.8MB 8.9MB/s eta 0:00:01\r\u001b[K     |█████████████████████████████▎  | 1.8MB 8.9MB/s eta 0:00:01\r\u001b[K     |█████████████████████████████▍  | 1.8MB 8.9MB/s eta 0:00:01\r\u001b[K     |█████████████████████████████▌  | 1.8MB 8.9MB/s eta 0:00:01\r\u001b[K     |█████████████████████████████▊  | 1.8MB 8.9MB/s eta 0:00:01\r\u001b[K     |█████████████████████████████▉  | 1.8MB 8.9MB/s eta 0:00:01\r\u001b[K     |██████████████████████████████  | 1.9MB 8.9MB/s eta 0:00:01\r\u001b[K     |██████████████████████████████▏ | 1.9MB 8.9MB/s eta 0:00:01\r\u001b[K     |██████████████████████████████▍ | 1.9MB 8.9MB/s eta 0:00:01\r\u001b[K     |██████████████████████████████▌ | 1.9MB 8.9MB/s eta 0:00:01\r\u001b[K     |██████████████████████████████▊ | 1.9MB 8.9MB/s eta 0:00:01\r\u001b[K     |██████████████████████████████▉ | 1.9MB 8.9MB/s eta 0:00:01\r\u001b[K     |███████████████████████████████ | 1.9MB 8.9MB/s eta 0:00:01\r\u001b[K     |███████████████████████████████▏| 1.9MB 8.9MB/s eta 0:00:01\r\u001b[K     |███████████████████████████████▍| 1.9MB 8.9MB/s eta 0:00:01\r\u001b[K     |███████████████████████████████▌| 1.9MB 8.9MB/s eta 0:00:01\r\u001b[K     |███████████████████████████████▊| 2.0MB 8.9MB/s eta 0:00:01\r\u001b[K     |███████████████████████████████▉| 2.0MB 8.9MB/s eta 0:00:01\r\u001b[K     |████████████████████████████████| 2.0MB 8.9MB/s \n",
            "\u001b[?25hRequirement already satisfied: packaging in /usr/local/lib/python3.7/dist-packages (from transformers) (20.9)\n",
            "Requirement already satisfied: requests in /usr/local/lib/python3.7/dist-packages (from transformers) (2.23.0)\n",
            "Requirement already satisfied: importlib-metadata; python_version < \"3.8\" in /usr/local/lib/python3.7/dist-packages (from transformers) (3.8.1)\n",
            "Collecting tokenizers<0.11,>=0.10.1\n",
            "\u001b[?25l  Downloading https://files.pythonhosted.org/packages/ae/04/5b870f26a858552025a62f1649c20d29d2672c02ff3c3fb4c688ca46467a/tokenizers-0.10.2-cp37-cp37m-manylinux2010_x86_64.whl (3.3MB)\n",
            "\u001b[K     |████████████████████████████████| 3.3MB 40.7MB/s \n",
            "\u001b[?25hCollecting sacremoses\n",
            "\u001b[?25l  Downloading https://files.pythonhosted.org/packages/08/cd/342e584ee544d044fb573ae697404ce22ede086c9e87ce5960772084cad0/sacremoses-0.0.44.tar.gz (862kB)\n",
            "\u001b[K     |████████████████████████████████| 870kB 45.5MB/s \n",
            "\u001b[?25hRequirement already satisfied: filelock in /usr/local/lib/python3.7/dist-packages (from transformers) (3.0.12)\n",
            "Requirement already satisfied: regex!=2019.12.17 in /usr/local/lib/python3.7/dist-packages (from transformers) (2019.12.20)\n",
            "Requirement already satisfied: tqdm>=4.27 in /usr/local/lib/python3.7/dist-packages (from transformers) (4.41.1)\n",
            "Requirement already satisfied: numpy>=1.17 in /usr/local/lib/python3.7/dist-packages (from transformers) (1.18.5)\n",
            "Requirement already satisfied: pyparsing>=2.0.2 in /usr/local/lib/python3.7/dist-packages (from packaging->transformers) (2.4.7)\n",
            "Requirement already satisfied: urllib3!=1.25.0,!=1.25.1,<1.26,>=1.21.1 in /usr/local/lib/python3.7/dist-packages (from requests->transformers) (1.24.3)\n",
            "Requirement already satisfied: certifi>=2017.4.17 in /usr/local/lib/python3.7/dist-packages (from requests->transformers) (2020.12.5)\n",
            "Requirement already satisfied: chardet<4,>=3.0.2 in /usr/local/lib/python3.7/dist-packages (from requests->transformers) (3.0.4)\n",
            "Requirement already satisfied: idna<3,>=2.5 in /usr/local/lib/python3.7/dist-packages (from requests->transformers) (2.10)\n",
            "Requirement already satisfied: zipp>=0.5 in /usr/local/lib/python3.7/dist-packages (from importlib-metadata; python_version < \"3.8\"->transformers) (3.4.1)\n",
            "Requirement already satisfied: typing-extensions>=3.6.4; python_version < \"3.8\" in /usr/local/lib/python3.7/dist-packages (from importlib-metadata; python_version < \"3.8\"->transformers) (3.7.4.3)\n",
            "Requirement already satisfied: six in /usr/local/lib/python3.7/dist-packages (from sacremoses->transformers) (1.15.0)\n",
            "Requirement already satisfied: click in /usr/local/lib/python3.7/dist-packages (from sacremoses->transformers) (7.1.2)\n",
            "Requirement already satisfied: joblib in /usr/local/lib/python3.7/dist-packages (from sacremoses->transformers) (1.0.1)\n",
            "Building wheels for collected packages: sacremoses\n",
            "  Building wheel for sacremoses (setup.py) ... \u001b[?25l\u001b[?25hdone\n",
            "  Created wheel for sacremoses: filename=sacremoses-0.0.44-cp37-none-any.whl size=886084 sha256=de6305249af6c3140f6d395f0b394721a51bbc328197335feff69829d78127f7\n",
            "  Stored in directory: /root/.cache/pip/wheels/3e/fb/c0/13ab4d63d537658f448366744654323077c4d90069b6512f3c\n",
            "Successfully built sacremoses\n",
            "Installing collected packages: tokenizers, sacremoses, transformers\n",
            "Successfully installed sacremoses-0.0.44 tokenizers-0.10.2 transformers-4.4.2\n"
          ],
          "name": "stdout"
        }
      ]
    },
    {
      "cell_type": "code",
      "metadata": {
        "colab": {
          "base_uri": "https://localhost:8080/",
          "height": 162
        },
        "id": "FFYsnvX-K96O",
        "outputId": "18bd8da7-81f7-48f9-deae-b4f548b958fa"
      },
      "source": [
        "df['X'].sample(10)"
      ],
      "execution_count": 4,
      "outputs": [
        {
          "output_type": "error",
          "ename": "NameError",
          "evalue": "ignored",
          "traceback": [
            "\u001b[0;31m---------------------------------------------------------------------------\u001b[0m",
            "\u001b[0;31mNameError\u001b[0m                                 Traceback (most recent call last)",
            "\u001b[0;32m<ipython-input-4-4ac336623200>\u001b[0m in \u001b[0;36m<module>\u001b[0;34m()\u001b[0m\n\u001b[0;32m----> 1\u001b[0;31m \u001b[0mdf\u001b[0m\u001b[0;34m[\u001b[0m\u001b[0;34m'X'\u001b[0m\u001b[0;34m]\u001b[0m\u001b[0;34m.\u001b[0m\u001b[0msample\u001b[0m\u001b[0;34m(\u001b[0m\u001b[0;36m10\u001b[0m\u001b[0;34m)\u001b[0m\u001b[0;34m\u001b[0m\u001b[0;34m\u001b[0m\u001b[0m\n\u001b[0m",
            "\u001b[0;31mNameError\u001b[0m: name 'df' is not defined"
          ]
        }
      ]
    },
    {
      "cell_type": "code",
      "metadata": {
        "id": "Cse6VEpvysy2"
      },
      "source": [
        "df = pd.read_csv(\"modelling_data_ver2.csv\")"
      ],
      "execution_count": 4,
      "outputs": []
    },
    {
      "cell_type": "code",
      "metadata": {
        "colab": {
          "base_uri": "https://localhost:8080/"
        },
        "id": "dyr7JXTMy4WZ",
        "outputId": "7ddd1d63-8125-4448-ff5b-d8dab2ae528b"
      },
      "source": [
        "maxLength = 0\n",
        "minLength = float('inf')\n",
        "for sent in df['X']:\n",
        "    maxLength = max(maxLength,len(sent))\n",
        "    minLength = min(minLength,len(sent))\n",
        "    \n",
        "print(\"Maximum Sentence length: \", maxLength )\n",
        "print(\"Minimum Sentence length: \", minLength)"
      ],
      "execution_count": 61,
      "outputs": [
        {
          "output_type": "stream",
          "text": [
            "Maximum Sentence length:  300\n",
            "Minimum Sentence length:  25\n"
          ],
          "name": "stdout"
        }
      ]
    },
    {
      "cell_type": "code",
      "metadata": {
        "colab": {
          "base_uri": "https://localhost:8080/"
        },
        "id": "XFcc8_FLy8q2",
        "outputId": "0a3ebf2e-147e-45c2-9c1e-d914fa11298c"
      },
      "source": [
        "from transformers import BertTokenizer\n",
        "# Load the BERT tokenizer.\n",
        "print('Loading BERT tokenizer...')\n",
        "tokenizer = BertTokenizer.from_pretrained('bert-base-uncased', do_lower_case=True)"
      ],
      "execution_count": 62,
      "outputs": [
        {
          "output_type": "stream",
          "text": [
            "Loading BERT tokenizer...\n"
          ],
          "name": "stdout"
        }
      ]
    },
    {
      "cell_type": "code",
      "metadata": {
        "id": "uQA_eTASy_3J"
      },
      "source": [
        "label = df.MacroField.values\n",
        "sentences = df.X.values"
      ],
      "execution_count": 63,
      "outputs": []
    },
    {
      "cell_type": "code",
      "metadata": {
        "colab": {
          "base_uri": "https://localhost:8080/"
        },
        "id": "WejbldpvzDhx",
        "outputId": "5a90e165-ca0f-492e-d0ad-777f7730072a"
      },
      "source": [
        "# Print the original sentence.\n",
        "# testing sentence\n",
        "np.random.seed(3)\n",
        "index = np.random.randint(7552)\n",
        "sentence = sentences[index]\n",
        "print(' Original: ', sentence)\n",
        "\n",
        "# Print the sentence split into tokens.\n",
        "print('Tokenized: ', tokenizer.tokenize(sentence))\n",
        "\n",
        "# Print the sentence mapped to token ids.\n",
        "print('Token IDs: ', tokenizer.convert_tokens_to_ids(tokenizer.tokenize(sentence)))"
      ],
      "execution_count": 64,
      "outputs": [
        {
          "output_type": "stream",
          "text": [
            " Original:  2 missing missing missing verify edit number\n",
            "Tokenized:  ['2', 'missing', 'missing', 'missing', 'verify', 'edit', 'number']\n",
            "Token IDs:  [1016, 4394, 4394, 4394, 20410, 10086, 2193]\n"
          ],
          "name": "stdout"
        }
      ]
    },
    {
      "cell_type": "code",
      "metadata": {
        "id": "rmIV26AHzHJQ"
      },
      "source": [
        "# train and test split dataset\n",
        "from sklearn.model_selection import train_test_split\n",
        "train_sent,test_sent,train_label,test_label = train_test_split(sentences,label,test_size = 0.15)"
      ],
      "execution_count": 65,
      "outputs": []
    },
    {
      "cell_type": "code",
      "metadata": {
        "colab": {
          "base_uri": "https://localhost:8080/"
        },
        "id": "_8zH2lgMzLln",
        "outputId": "4dd87117-84b9-4f8d-921f-cc70f3d44c4a"
      },
      "source": [
        "print(\"Training Size:\",train_sent.shape[0])\n",
        "print(\"Test Size:\",test_sent.shape[0])"
      ],
      "execution_count": 66,
      "outputs": [
        {
          "output_type": "stream",
          "text": [
            "Training Size: 6393\n",
            "Test Size: 1129\n"
          ],
          "name": "stdout"
        }
      ]
    },
    {
      "cell_type": "code",
      "metadata": {
        "id": "5_HTctgyzNkq"
      },
      "source": [
        "# lets convertt the sentences to Ids\n",
        "max_length = 300\n",
        "encoded = tokenizer.batch_encode_plus(\n",
        "            train_sent,\n",
        "            padding = 'longest',\n",
        "        )\n",
        "input_ids = np.array(encoded[\"input_ids\"],dtype = \"int32\")\n",
        "att_mask =  np.array(encoded[\"attention_mask\"],dtype=\"int32\")"
      ],
      "execution_count": 67,
      "outputs": []
    },
    {
      "cell_type": "code",
      "metadata": {
        "colab": {
          "base_uri": "https://localhost:8080/"
        },
        "id": "B0SAlTNRzPvP",
        "outputId": "7321404d-92e6-44f1-d318-8022b00880db"
      },
      "source": [
        "input_ids.shape"
      ],
      "execution_count": 68,
      "outputs": [
        {
          "output_type": "execute_result",
          "data": {
            "text/plain": [
              "(6393, 67)"
            ]
          },
          "metadata": {
            "tags": []
          },
          "execution_count": 68
        }
      ]
    },
    {
      "cell_type": "code",
      "metadata": {
        "id": "RmU4IOjBzSjI"
      },
      "source": [
        "maxLength = att_mask.shape[1]"
      ],
      "execution_count": 69,
      "outputs": []
    },
    {
      "cell_type": "code",
      "metadata": {
        "id": "7hXSy1NHzUva"
      },
      "source": [
        "from transformers import TFBertModel\n",
        "np.random.seed(4)\n",
        "max_length = maxLength\n",
        "\n",
        "def createModel():\n",
        "  \"\"\" create the model for Android Form Fill with BERT Tokenizer \"\"\"\n",
        "  input_ids = tf.keras.layers.Input(\n",
        "          shape=(max_length,), dtype=tf.int32, name=\"input_ids\")\n",
        "      # Attention masks indicates to the model which tokens should be attended to.\n",
        "  attention_masks = tf.keras.layers.Input(shape=(max_length,), dtype=tf.int32, name=\"attention_masks\")\n",
        "      # Token type ids are binary masks identifying different sequences in the model.\n",
        "  bert_model = TFBertModel.from_pretrained(\"bert-base-uncased\")\n",
        "      # Freeze the BERT model to reuse the pretrained features without modifying them.\n",
        "  bert_model.trainable = False\n",
        "  bert_out = bert_model(input_ids, attention_mask=attention_masks)\n",
        "  print(bert_out)\n",
        "  sequence_output = bert_out[\"last_hidden_state\"]\n",
        "  print(sequence_output)\n",
        "  # Add trainable layers on top of frozen layers to adapt the pretrained features on the new data.\n",
        "  bi_lstm = tf.keras.layers.Bidirectional(tf.keras.layers.LSTM(64, return_sequences=True))(sequence_output)\n",
        "      # Applying hybrid pooling approach to bi_lstm sequence output.\n",
        "  avg_pool = tf.keras.layers.GlobalAveragePooling1D()(bi_lstm)\n",
        "  max_pool = tf.keras.layers.GlobalMaxPooling1D()(bi_lstm)\n",
        "  concat = tf.keras.layers.concatenate([avg_pool, max_pool])\n",
        "  dropout = tf.keras.layers.Dropout(0.3)(concat)\n",
        "  output = tf.keras.layers.Dense(4, activation=\"softmax\")(dropout)\n",
        "  model = tf.keras.models.Model(inputs=[input_ids, attention_masks], outputs=output)\n",
        "  model.compile(optimizer=tf.keras.optimizers.Adam(),\n",
        "          loss= \"sparse_categorical_crossentropy\",\n",
        "          metrics=[\"accuracy\"],run_eagerly= True)\n",
        "\n",
        "  model.summary()\n",
        "  return model"
      ],
      "execution_count": 70,
      "outputs": []
    },
    {
      "cell_type": "code",
      "metadata": {
        "colab": {
          "base_uri": "https://localhost:8080/"
        },
        "id": "OYhAQADQzXaA",
        "outputId": "36a9cc16-82f6-48f6-dd0e-1c4bf3316014"
      },
      "source": [
        "Android_autofill_bert = createModel()"
      ],
      "execution_count": 71,
      "outputs": [
        {
          "output_type": "stream",
          "text": [
            "Some layers from the model checkpoint at bert-base-uncased were not used when initializing TFBertModel: ['mlm___cls', 'nsp___cls']\n",
            "- This IS expected if you are initializing TFBertModel from the checkpoint of a model trained on another task or with another architecture (e.g. initializing a BertForSequenceClassification model from a BertForPreTraining model).\n",
            "- This IS NOT expected if you are initializing TFBertModel from the checkpoint of a model that you expect to be exactly identical (initializing a BertForSequenceClassification model from a BertForSequenceClassification model).\n",
            "All the layers of TFBertModel were initialized from the model checkpoint at bert-base-uncased.\n",
            "If your task is similar to the task the model of the checkpoint was trained on, you can already use TFBertModel for predictions without further training.\n"
          ],
          "name": "stderr"
        },
        {
          "output_type": "stream",
          "text": [
            "WARNING:tensorflow:The parameters `output_attentions`, `output_hidden_states` and `use_cache` cannot be updated when calling a model.They have to be set to True/False in the config object (i.e.: `config=XConfig.from_pretrained('name', output_attentions=True)`).\n",
            "WARNING:tensorflow:The parameter `return_dict` cannot be set in graph mode and will always be set to `True`.\n",
            "TFBaseModelOutputWithPooling(last_hidden_state=<tf.Tensor 'tf_bert_model_4/bert/encoder/layer_._11/output/LayerNorm/batchnorm/add_1:0' shape=(None, 67, 768) dtype=float32>, pooler_output=<tf.Tensor 'tf_bert_model_4/bert/pooler/dense/Tanh:0' shape=(None, 768) dtype=float32>, hidden_states=None, attentions=None)\n",
            "Tensor(\"tf_bert_model_4/bert/encoder/layer_._11/output/LayerNorm/batchnorm/add_1:0\", shape=(None, 67, 768), dtype=float32)\n",
            "Model: \"functional_5\"\n",
            "__________________________________________________________________________________________________\n",
            "Layer (type)                    Output Shape         Param #     Connected to                     \n",
            "==================================================================================================\n",
            "input_ids (InputLayer)          [(None, 67)]         0                                            \n",
            "__________________________________________________________________________________________________\n",
            "attention_masks (InputLayer)    [(None, 67)]         0                                            \n",
            "__________________________________________________________________________________________________\n",
            "tf_bert_model_4 (TFBertModel)   TFBaseModelOutputWit 109482240   input_ids[0][0]                  \n",
            "                                                                 attention_masks[0][0]            \n",
            "__________________________________________________________________________________________________\n",
            "bidirectional_2 (Bidirectional) (None, 67, 128)      426496      tf_bert_model_4[0][0]            \n",
            "__________________________________________________________________________________________________\n",
            "global_average_pooling1d_2 (Glo (None, 128)          0           bidirectional_2[0][0]            \n",
            "__________________________________________________________________________________________________\n",
            "global_max_pooling1d_2 (GlobalM (None, 128)          0           bidirectional_2[0][0]            \n",
            "__________________________________________________________________________________________________\n",
            "concatenate_2 (Concatenate)     (None, 256)          0           global_average_pooling1d_2[0][0] \n",
            "                                                                 global_max_pooling1d_2[0][0]     \n",
            "__________________________________________________________________________________________________\n",
            "dropout_187 (Dropout)           (None, 256)          0           concatenate_2[0][0]              \n",
            "__________________________________________________________________________________________________\n",
            "dense_2 (Dense)                 (None, 4)            1028        dropout_187[0][0]                \n",
            "==================================================================================================\n",
            "Total params: 109,909,764\n",
            "Trainable params: 427,524\n",
            "Non-trainable params: 109,482,240\n",
            "__________________________________________________________________________________________________\n"
          ],
          "name": "stdout"
        }
      ]
    },
    {
      "cell_type": "code",
      "metadata": {
        "colab": {
          "base_uri": "https://localhost:8080/",
          "height": 754
        },
        "id": "9H1fZWEvzZow",
        "outputId": "a061a91c-57b1-4d01-cc03-961d1a6505e4"
      },
      "source": [
        "tf.keras.utils.plot_model(Android_autofill_bert,show_shapes=True)"
      ],
      "execution_count": 72,
      "outputs": [
        {
          "output_type": "execute_result",
          "data": {
            "image/png": "[encoded data removed]",
            "text/plain": [
              "<IPython.core.display.Image object>"
            ]
          },
          "metadata": {
            "tags": []
          },
          "execution_count": 72
        }
      ]
    },
    {
      "cell_type": "code",
      "metadata": {
        "colab": {
          "base_uri": "https://localhost:8080/"
        },
        "id": "4KvSpmcdz4ew",
        "outputId": "d9bb7682-b32b-4079-9c08-58793e8cf5ec"
      },
      "source": [
        "#getting the test data ready\n",
        "max_length = maxLength\n",
        "encoded = tokenizer.batch_encode_plus(\n",
        "            test_sent,\n",
        "            add_special_tokens=True,\n",
        "            max_length=max_length,\n",
        "            return_attention_mask=True,\n",
        "            return_token_type_ids=True,\n",
        "            pad_to_max_length=True)\n",
        "\n",
        "\n",
        "test_input_ids = np.array(encoded[\"input_ids\"],dtype = \"int32\")\n",
        "test_att_mask =  np.array(encoded[\"attention_mask\"],dtype=\"int32\")\n"
      ],
      "execution_count": 73,
      "outputs": [
        {
          "output_type": "stream",
          "text": [
            "Truncation was not explicitly activated but `max_length` is provided a specific value, please use `truncation=True` to explicitly truncate examples to max length. Defaulting to 'longest_first' truncation strategy. If you encode pairs of sequences (GLUE-style) with the tokenizer you can select this strategy more precisely by providing a specific strategy to `truncation`.\n",
            "/usr/local/lib/python3.7/dist-packages/transformers/tokenization_utils_base.py:2074: FutureWarning: The `pad_to_max_length` argument is deprecated and will be removed in a future version, use `padding=True` or `padding='longest'` to pad to the longest sequence in the batch, or use `padding='max_length'` to pad to a max length. In this case, you can give a specific length with `max_length` (e.g. `max_length=45`) or leave max_length to None to pad to the maximal input size of the model (e.g. 512 for Bert).\n",
            "  FutureWarning,\n"
          ],
          "name": "stderr"
        }
      ]
    },
    {
      "cell_type": "code",
      "metadata": {
        "colab": {
          "base_uri": "https://localhost:8080/"
        },
        "id": "OhZ6Erm72Hi2",
        "outputId": "bb96b63f-275b-4a39-c5f9-b964646b1f69"
      },
      "source": [
        "test_att_mask.shape"
      ],
      "execution_count": 74,
      "outputs": [
        {
          "output_type": "execute_result",
          "data": {
            "text/plain": [
              "(1129, 67)"
            ]
          },
          "metadata": {
            "tags": []
          },
          "execution_count": 74
        }
      ]
    },
    {
      "cell_type": "code",
      "metadata": {
        "colab": {
          "base_uri": "https://localhost:8080/"
        },
        "id": "lW_AEyUxzr96",
        "outputId": "ce6e525c-b09b-435f-cc5f-7db890541e8b"
      },
      "source": [
        "#traing and testing  the model iteratively\n",
        "from tensorflow.keras.callbacks import EarlyStopping\n",
        "early_stopping = EarlyStopping(patience= 2)\n",
        "model_hist =   Android_autofill_bert.fit(x = [input_ids,att_mask], y = train_label, batch_size = 32,  epochs = 2, validation_data = ([test_input_ids,test_att_mask],test_label),callbacks = [early_stopping])"
      ],
      "execution_count": 77,
      "outputs": [
        {
          "output_type": "stream",
          "text": [
            "Epoch 1/2\n",
            "200/200 [==============================] - 186s 930ms/step - loss: 0.5373 - accuracy: 0.8189 - val_loss: 0.4593 - val_accuracy: 0.8530\n",
            "Epoch 2/2\n",
            "200/200 [==============================] - 186s 928ms/step - loss: 0.4606 - accuracy: 0.8464 - val_loss: 0.4502 - val_accuracy: 0.8530\n"
          ],
          "name": "stdout"
        }
      ]
    },
    {
      "cell_type": "code",
      "metadata": {
        "id": "67j8SajozvQA"
      },
      "source": [
        "# Precison and recall for each class \n",
        "y_test = test_label\n",
        "y_pred =  Android_autofill_bert.predict([test_input_ids,test_att_mask])"
      ],
      "execution_count": 78,
      "outputs": []
    },
    {
      "cell_type": "code",
      "metadata": {
        "id": "4IA52XjC8ibX"
      },
      "source": [
        "# confusion matrix\n",
        "macroLabel = []\n",
        "macroLabel = [np.argmax(pred) for pred in y_pred]"
      ],
      "execution_count": 83,
      "outputs": []
    },
    {
      "cell_type": "code",
      "metadata": {
        "colab": {
          "base_uri": "https://localhost:8080/"
        },
        "id": "snnrGRLe8qOL",
        "outputId": "8417007b-f96e-49a0-e8c2-d1c833cd072e"
      },
      "source": [
        "y_test"
      ],
      "execution_count": 86,
      "outputs": [
        {
          "output_type": "execute_result",
          "data": {
            "text/plain": [
              "array([3, 3, 0, ..., 2, 3, 0])"
            ]
          },
          "metadata": {
            "tags": []
          },
          "execution_count": 86
        }
      ]
    },
    {
      "cell_type": "code",
      "metadata": {
        "colab": {
          "base_uri": "https://localhost:8080/"
        },
        "id": "iiFHWNNb9PrW",
        "outputId": "2cc0b9b9-34bc-44fd-8517-1c5218dd51e7"
      },
      "source": [
        "from sklearn.metrics import confusion_matrix\n",
        "confusion_matrix(y_test, macroLabel)"
      ],
      "execution_count": 89,
      "outputs": [
        {
          "output_type": "execute_result",
          "data": {
            "text/plain": [
              "array([[468,   0,   3,  60],\n",
              "       [ 18,   0,   3,  26],\n",
              "       [  9,   0,  56,  23],\n",
              "       [ 21,   0,   3, 439]])"
            ]
          },
          "metadata": {
            "tags": []
          },
          "execution_count": 89
        }
      ]
    },
    {
      "cell_type": "code",
      "metadata": {
        "colab": {
          "base_uri": "https://localhost:8080/"
        },
        "id": "ALWZHqT19nXZ",
        "outputId": "5b6c8b27-efeb-4693-ff8f-555fa8928085"
      },
      "source": [
        "# get the RoC , Precision and Recall\n",
        "from sklearn.metrics import confusion_matrix,precision_score,recall_score,f1_score\n",
        "print(\"precision Score :\")\n",
        "precision_score(y_test,macroLabel, average='macro')"
      ],
      "execution_count": 97,
      "outputs": [
        {
          "output_type": "stream",
          "text": [
            "precision Score :\n"
          ],
          "name": "stdout"
        },
        {
          "output_type": "stream",
          "text": [
            "/usr/local/lib/python3.7/dist-packages/sklearn/metrics/_classification.py:1272: UndefinedMetricWarning: Precision is ill-defined and being set to 0.0 in labels with no predicted samples. Use `zero_division` parameter to control this behavior.\n",
            "  _warn_prf(average, modifier, msg_start, len(result))\n"
          ],
          "name": "stderr"
        },
        {
          "output_type": "execute_result",
          "data": {
            "text/plain": [
              "0.6424025240588642"
            ]
          },
          "metadata": {
            "tags": []
          },
          "execution_count": 97
        }
      ]
    },
    {
      "cell_type": "code",
      "metadata": {
        "colab": {
          "base_uri": "https://localhost:8080/"
        },
        "id": "iqCmOSAL_ujr",
        "outputId": "a69646f5-834b-451f-ba61-802134b40326"
      },
      "source": [
        "print(\"Recall Score :\")\n",
        "recall_score(y_test,macroLabel,average='macro')"
      ],
      "execution_count": 95,
      "outputs": [
        {
          "output_type": "stream",
          "text": [
            "Recall Score :\n"
          ],
          "name": "stdout"
        },
        {
          "output_type": "execute_result",
          "data": {
            "text/plain": [
              "0.6164709288588192"
            ]
          },
          "metadata": {
            "tags": []
          },
          "execution_count": 95
        }
      ]
    },
    {
      "cell_type": "code",
      "metadata": {
        "colab": {
          "base_uri": "https://localhost:8080/"
        },
        "id": "DpjvMxuRADvt",
        "outputId": "7f279041-09e0-4be5-b073-bb4f57a98f21"
      },
      "source": [
        "print(\"f1 score \")\n",
        "f1_score(y_test,macroLabel,average = \"macro\")"
      ],
      "execution_count": 98,
      "outputs": [
        {
          "output_type": "stream",
          "text": [
            "f1 score \n"
          ],
          "name": "stdout"
        },
        {
          "output_type": "execute_result",
          "data": {
            "text/plain": [
              "0.6236140084776765"
            ]
          },
          "metadata": {
            "tags": []
          },
          "execution_count": 98
        }
      ]
    },
    {
      "cell_type": "code",
      "metadata": {
        "colab": {
          "base_uri": "https://localhost:8080/",
          "height": 178
        },
        "id": "w3FGzG5LA4b6",
        "outputId": "70a4b95f-6475-43a6-d359-f64c15924e3e"
      },
      "source": [
        "from sklearn.metrics import precision_recall_fscore_support\n",
        "prec,rec,f1,support = precision_recall_fscore_support(y_test, macroLabel, average=None,labels=[0, 1, 2,3])"
      ],
      "execution_count": 24,
      "outputs": [
        {
          "output_type": "error",
          "ename": "NameError",
          "evalue": "ignored",
          "traceback": [
            "\u001b[0;31m---------------------------------------------------------------------------\u001b[0m",
            "\u001b[0;31mNameError\u001b[0m                                 Traceback (most recent call last)",
            "\u001b[0;32m<ipython-input-24-cf928eb6b04b>\u001b[0m in \u001b[0;36m<module>\u001b[0;34m()\u001b[0m\n\u001b[1;32m      1\u001b[0m \u001b[0;32mfrom\u001b[0m \u001b[0msklearn\u001b[0m\u001b[0;34m.\u001b[0m\u001b[0mmetrics\u001b[0m \u001b[0;32mimport\u001b[0m \u001b[0mprecision_recall_fscore_support\u001b[0m\u001b[0;34m\u001b[0m\u001b[0;34m\u001b[0m\u001b[0m\n\u001b[0;32m----> 2\u001b[0;31m \u001b[0mprec\u001b[0m\u001b[0;34m,\u001b[0m\u001b[0mrec\u001b[0m\u001b[0;34m,\u001b[0m\u001b[0mf1\u001b[0m\u001b[0;34m,\u001b[0m\u001b[0msupport\u001b[0m \u001b[0;34m=\u001b[0m \u001b[0mprecision_recall_fscore_support\u001b[0m\u001b[0;34m(\u001b[0m\u001b[0my_test\u001b[0m\u001b[0;34m,\u001b[0m \u001b[0mmacroLabel\u001b[0m\u001b[0;34m,\u001b[0m \u001b[0maverage\u001b[0m\u001b[0;34m=\u001b[0m\u001b[0;32mNone\u001b[0m\u001b[0;34m,\u001b[0m\u001b[0mlabels\u001b[0m\u001b[0;34m=\u001b[0m\u001b[0;34m[\u001b[0m\u001b[0;36m0\u001b[0m\u001b[0;34m,\u001b[0m \u001b[0;36m1\u001b[0m\u001b[0;34m,\u001b[0m \u001b[0;36m2\u001b[0m\u001b[0;34m,\u001b[0m\u001b[0;36m3\u001b[0m\u001b[0;34m]\u001b[0m\u001b[0;34m)\u001b[0m\u001b[0;34m\u001b[0m\u001b[0;34m\u001b[0m\u001b[0m\n\u001b[0m",
            "\u001b[0;31mNameError\u001b[0m: name 'y_test' is not defined"
          ]
        }
      ]
    },
    {
      "cell_type": "code",
      "metadata": {
        "colab": {
          "base_uri": "https://localhost:8080/",
          "height": 279
        },
        "id": "7xcfPIncBpbk",
        "outputId": "659361c5-d189-4fcc-b4f8-3ede0e4ef6ef"
      },
      "source": [
        "df['MacroField'].value_counts().plot.bar()"
      ],
      "execution_count": 107,
      "outputs": [
        {
          "output_type": "execute_result",
          "data": {
            "text/plain": [
              "<matplotlib.axes._subplots.AxesSubplot at 0x7fa4b282d750>"
            ]
          },
          "metadata": {
            "tags": []
          },
          "execution_count": 107
        },
        {
          "output_type": "display_data",
          "data": {
            "image/png": "[encoded data removed]",
            "text/plain": [
              "<Figure size 432x288 with 1 Axes>"
            ]
          },
          "metadata": {
            "tags": [],
            "needs_background": "light"
          }
        }
      ]
    },
    {
      "cell_type": "code",
      "metadata": {
        "colab": {
          "base_uri": "https://localhost:8080/"
        },
        "id": "yWs3So49C3Ct",
        "outputId": "bd376f39-d658-48f0-de4a-7e146907a966"
      },
      "source": [
        "reca"
      ],
      "execution_count": 103,
      "outputs": [
        {
          "output_type": "execute_result",
          "data": {
            "text/plain": [
              "0.6164709288588192"
            ]
          },
          "metadata": {
            "tags": []
          },
          "execution_count": 103
        }
      ]
    },
    {
      "cell_type": "code",
      "metadata": {
        "id": "oBA1-ocXOPrf"
      },
      "source": [
        "import time"
      ],
      "execution_count": 119,
      "outputs": []
    },
    {
      "cell_type": "code",
      "metadata": {
        "colab": {
          "base_uri": "https://localhost:8080/"
        },
        "id": "cavU2KP8C6NZ",
        "outputId": "89708978-791c-4e65-e243-0c56d19b3f76"
      },
      "source": [
        "%%timeit -r 3 -n 10\n",
        "\"the code you want to test stays here\"\n",
        "y_pred =  Android_autofill_bert.predict([test_input_ids[:1],test_att_mask[:1]])"
      ],
      "execution_count": 131,
      "outputs": [
        {
          "output_type": "stream",
          "text": [
            "10 loops, best of 3: 186 ms per loop\n"
          ],
          "name": "stdout"
        }
      ]
    },
    {
      "cell_type": "code",
      "metadata": {
        "colab": {
          "base_uri": "https://localhost:8080/"
        },
        "id": "U_YWL3zXFEPw",
        "outputId": "6bb26b5d-5ad8-43f2-e885-5b290e593af6"
      },
      "source": [
        "[test_input_ids[:2],test_att_mask[:2]]"
      ],
      "execution_count": 125,
      "outputs": [
        {
          "output_type": "execute_result",
          "data": {
            "text/plain": [
              "[array([[ 101, 1016, 4394, 4394, 4394, 4923, 3477, 2951,  102,    0,    0,\n",
              "            0,    0,    0,    0,    0,    0,    0,    0,    0,    0,    0,\n",
              "            0,    0,    0,    0,    0,    0,    0,    0,    0,    0,    0,\n",
              "            0,    0,    0,    0,    0,    0,    0,    0,    0,    0,    0,\n",
              "            0,    0,    0,    0,    0,    0,    0,    0,    0,    0,    0,\n",
              "            0,    0,    0,    0,    0,    0,    0,    0,    0,    0,    0,\n",
              "            0],\n",
              "        [ 101, 2871, 4394, 2197, 2171, 4394, 4394,  102,    0,    0,    0,\n",
              "            0,    0,    0,    0,    0,    0,    0,    0,    0,    0,    0,\n",
              "            0,    0,    0,    0,    0,    0,    0,    0,    0,    0,    0,\n",
              "            0,    0,    0,    0,    0,    0,    0,    0,    0,    0,    0,\n",
              "            0,    0,    0,    0,    0,    0,    0,    0,    0,    0,    0,\n",
              "            0,    0,    0,    0,    0,    0,    0,    0,    0,    0,    0,\n",
              "            0]], dtype=int32),\n",
              " array([[1, 1, 1, 1, 1, 1, 1, 1, 1, 0, 0, 0, 0, 0, 0, 0, 0, 0, 0, 0, 0, 0,\n",
              "         0, 0, 0, 0, 0, 0, 0, 0, 0, 0, 0, 0, 0, 0, 0, 0, 0, 0, 0, 0, 0, 0,\n",
              "         0, 0, 0, 0, 0, 0, 0, 0, 0, 0, 0, 0, 0, 0, 0, 0, 0, 0, 0, 0, 0, 0,\n",
              "         0],\n",
              "        [1, 1, 1, 1, 1, 1, 1, 1, 0, 0, 0, 0, 0, 0, 0, 0, 0, 0, 0, 0, 0, 0,\n",
              "         0, 0, 0, 0, 0, 0, 0, 0, 0, 0, 0, 0, 0, 0, 0, 0, 0, 0, 0, 0, 0, 0,\n",
              "         0, 0, 0, 0, 0, 0, 0, 0, 0, 0, 0, 0, 0, 0, 0, 0, 0, 0, 0, 0, 0, 0,\n",
              "         0]], dtype=int32)]"
            ]
          },
          "metadata": {
            "tags": []
          },
          "execution_count": 125
        }
      ]
    },
    {
      "cell_type": "code",
      "metadata": {
        "colab": {
          "base_uri": "https://localhost:8080/",
          "height": 410
        },
        "id": "hTHSa0yOFVua",
        "outputId": "e75317b9-50ed-4ae0-8f2b-5c50c044fffb"
      },
      "source": [
        "# smaller models \n",
        "\n",
        "\n",
        "df.sample(10)"
      ],
      "execution_count": 6,
      "outputs": [
        {
          "output_type": "execute_result",
          "data": {
            "text/html": [
              "<div>\n",
              "<style scoped>\n",
              "    .dataframe tbody tr th:only-of-type {\n",
              "        vertical-align: middle;\n",
              "    }\n",
              "\n",
              "    .dataframe tbody tr th {\n",
              "        vertical-align: top;\n",
              "    }\n",
              "\n",
              "    .dataframe thead th {\n",
              "        text-align: right;\n",
              "    }\n",
              "</style>\n",
              "<table border=\"1\" class=\"dataframe\">\n",
              "  <thead>\n",
              "    <tr style=\"text-align: right;\">\n",
              "      <th></th>\n",
              "      <th>Unnamed: 0</th>\n",
              "      <th>Unnamed: 0.1</th>\n",
              "      <th>labelledField</th>\n",
              "      <th>inputType</th>\n",
              "      <th>contentDescription</th>\n",
              "      <th>hint</th>\n",
              "      <th>htmlInfo</th>\n",
              "      <th>idEntry</th>\n",
              "      <th>MacroField</th>\n",
              "      <th>X</th>\n",
              "    </tr>\n",
              "  </thead>\n",
              "  <tbody>\n",
              "    <tr>\n",
              "      <th>6488</th>\n",
              "      <td>6488</td>\n",
              "      <td>6638</td>\n",
              "      <td>CREDIT_CARD_NUMBER</td>\n",
              "      <td>2</td>\n",
              "      <td>missing</td>\n",
              "      <td>missing</td>\n",
              "      <td>missing</td>\n",
              "      <td>credit card number text</td>\n",
              "      <td>2</td>\n",
              "      <td>2 missing missing missing credit card number text</td>\n",
              "    </tr>\n",
              "    <tr>\n",
              "      <th>4837</th>\n",
              "      <td>4837</td>\n",
              "      <td>4940</td>\n",
              "      <td>NAME_LAST</td>\n",
              "      <td>0</td>\n",
              "      <td>missing</td>\n",
              "      <td>last name</td>\n",
              "      <td>name lastname type text label last name auto f...</td>\n",
              "      <td>missing</td>\n",
              "      <td>3</td>\n",
              "      <td>0 missing last name name lastname type text la...</td>\n",
              "    </tr>\n",
              "    <tr>\n",
              "      <th>4733</th>\n",
              "      <td>4733</td>\n",
              "      <td>4836</td>\n",
              "      <td>USERNAME_OR_EMAIL_ADDRESS</td>\n",
              "      <td>58</td>\n",
              "      <td>missing</td>\n",
              "      <td>email</td>\n",
              "      <td>missing</td>\n",
              "      <td>email</td>\n",
              "      <td>0</td>\n",
              "      <td>58 missing email missing email</td>\n",
              "    </tr>\n",
              "    <tr>\n",
              "      <th>2673</th>\n",
              "      <td>2673</td>\n",
              "      <td>2721</td>\n",
              "      <td>IGNORE</td>\n",
              "      <td>3</td>\n",
              "      <td>missing</td>\n",
              "      <td>missing</td>\n",
              "      <td>missing</td>\n",
              "      <td>phone</td>\n",
              "      <td>1</td>\n",
              "      <td>3 missing missing missing phone</td>\n",
              "    </tr>\n",
              "    <tr>\n",
              "      <th>5791</th>\n",
              "      <td>5791</td>\n",
              "      <td>5912</td>\n",
              "      <td>PASSWORD</td>\n",
              "      <td>15</td>\n",
              "      <td>password edit text</td>\n",
              "      <td>password</td>\n",
              "      <td>missing</td>\n",
              "      <td>text input edit text</td>\n",
              "      <td>0</td>\n",
              "      <td>15 password edit text password missing text in...</td>\n",
              "    </tr>\n",
              "    <tr>\n",
              "      <th>5124</th>\n",
              "      <td>5124</td>\n",
              "      <td>5232</td>\n",
              "      <td>OTP</td>\n",
              "      <td>2</td>\n",
              "      <td>missing</td>\n",
              "      <td>missing</td>\n",
              "      <td>missing</td>\n",
              "      <td>code material edit text</td>\n",
              "      <td>0</td>\n",
              "      <td>2 missing missing missing code material edit text</td>\n",
              "    </tr>\n",
              "    <tr>\n",
              "      <th>6657</th>\n",
              "      <td>6657</td>\n",
              "      <td>6815</td>\n",
              "      <td>PASSWORD</td>\n",
              "      <td>0</td>\n",
              "      <td>missing</td>\n",
              "      <td>password</td>\n",
              "      <td>name password type password label password aut...</td>\n",
              "      <td>missing</td>\n",
              "      <td>0</td>\n",
              "      <td>0 missing password name password type password...</td>\n",
              "    </tr>\n",
              "    <tr>\n",
              "      <th>4936</th>\n",
              "      <td>4936</td>\n",
              "      <td>5044</td>\n",
              "      <td>PASSWORD</td>\n",
              "      <td>15</td>\n",
              "      <td>missing</td>\n",
              "      <td>password</td>\n",
              "      <td>missing</td>\n",
              "      <td>missing</td>\n",
              "      <td>0</td>\n",
              "      <td>15 missing password missing missing</td>\n",
              "    </tr>\n",
              "    <tr>\n",
              "      <th>1692</th>\n",
              "      <td>1692</td>\n",
              "      <td>1735</td>\n",
              "      <td>OTP</td>\n",
              "      <td>3</td>\n",
              "      <td>missing</td>\n",
              "      <td>missing</td>\n",
              "      <td>missing</td>\n",
              "      <td>missing</td>\n",
              "      <td>0</td>\n",
              "      <td>3 missing missing missing missing</td>\n",
              "    </tr>\n",
              "    <tr>\n",
              "      <th>2001</th>\n",
              "      <td>2001</td>\n",
              "      <td>2045</td>\n",
              "      <td>CVV_CVC</td>\n",
              "      <td>3</td>\n",
              "      <td>missing</td>\n",
              "      <td>cvc cvc four digits located front card right h...</td>\n",
              "      <td>missing</td>\n",
              "      <td>missing</td>\n",
              "      <td>2</td>\n",
              "      <td>3 missing cvc cvc four digits located front ca...</td>\n",
              "    </tr>\n",
              "  </tbody>\n",
              "</table>\n",
              "</div>"
            ],
            "text/plain": [
              "      Unnamed: 0  ...                                                  X\n",
              "6488        6488  ...  2 missing missing missing credit card number text\n",
              "4837        4837  ...  0 missing last name name lastname type text la...\n",
              "4733        4733  ...                     58 missing email missing email\n",
              "2673        2673  ...                    3 missing missing missing phone\n",
              "5791        5791  ...  15 password edit text password missing text in...\n",
              "5124        5124  ...  2 missing missing missing code material edit text\n",
              "6657        6657  ...  0 missing password name password type password...\n",
              "4936        4936  ...                15 missing password missing missing\n",
              "1692        1692  ...                  3 missing missing missing missing\n",
              "2001        2001  ...  3 missing cvc cvc four digits located front ca...\n",
              "\n",
              "[10 rows x 10 columns]"
            ]
          },
          "metadata": {
            "tags": []
          },
          "execution_count": 6
        }
      ]
    },
    {
      "cell_type": "code",
      "metadata": {
        "colab": {
          "base_uri": "https://localhost:8080/",
          "height": 279
        },
        "id": "867u2Gl1jNgL",
        "outputId": "6a4fa4fb-56e5-4a62-f01d-838822fd42f7"
      },
      "source": [
        "df['MacroField'].value_counts().plot.bar()"
      ],
      "execution_count": 6,
      "outputs": [
        {
          "output_type": "execute_result",
          "data": {
            "text/plain": [
              "<matplotlib.axes._subplots.AxesSubplot at 0x7f27e0d72a90>"
            ]
          },
          "metadata": {
            "tags": []
          },
          "execution_count": 6
        },
        {
          "output_type": "display_data",
          "data": {
            "image/png": "[encoded data removed]",
            "text/plain": [
              "<Figure size 432x288 with 1 Axes>"
            ]
          },
          "metadata": {
            "tags": [],
            "needs_background": "light"
          }
        }
      ]
    },
    {
      "cell_type": "code",
      "metadata": {
        "id": "b-0dWgj6jYht"
      },
      "source": [
        "df_0 =  df[df['MacroField']==0]\n",
        "df_1 =  df[df['MacroField']==1]\n",
        "df_2 =  df[df['MacroField']==2]\n",
        "df_3 =  df[df['MacroField']==3]"
      ],
      "execution_count": 7,
      "outputs": []
    },
    {
      "cell_type": "code",
      "metadata": {
        "colab": {
          "base_uri": "https://localhost:8080/",
          "height": 544
        },
        "id": "u411jMekjnKC",
        "outputId": "9c2f93f9-07fc-4abe-d303-77599e1f417c"
      },
      "source": [
        "# Let's make it a model for \"0\"or \"Credentials\"\n",
        "df_0[' labelledField'].value_counts().plot.bar()"
      ],
      "execution_count": 13,
      "outputs": [
        {
          "output_type": "execute_result",
          "data": {
            "text/plain": [
              "<matplotlib.axes._subplots.AxesSubplot at 0x7f27e0800650>"
            ]
          },
          "metadata": {
            "tags": []
          },
          "execution_count": 13
        },
        {
          "output_type": "display_data",
          "data": {
            "image/png": "[encoded data removed]",
            "text/plain": [
              "<Figure size 432x288 with 1 Axes>"
            ]
          },
          "metadata": {
            "tags": [],
            "needs_background": "light"
          }
        }
      ]
    },
    {
      "cell_type": "code",
      "metadata": {
        "id": "7eaGeWMPkdfe"
      },
      "source": [
        "# not required"
      ],
      "execution_count": 14,
      "outputs": []
    },
    {
      "cell_type": "code",
      "metadata": {
        "colab": {
          "base_uri": "https://localhost:8080/"
        },
        "id": "185SWjb3kjyE",
        "outputId": "5d47ba55-fd3c-4b3c-ede4-e9b3d313e3cd"
      },
      "source": [
        "# model for Credential \n",
        "from sklearn.preprocessing import LabelEncoder\n",
        "le = LabelEncoder()\n",
        "df_0[' labelledField'] = le.fit_transform(df_0[' labelledField'])"
      ],
      "execution_count": 19,
      "outputs": [
        {
          "output_type": "stream",
          "text": [
            "/usr/local/lib/python3.7/dist-packages/ipykernel_launcher.py:4: SettingWithCopyWarning: \n",
            "A value is trying to be set on a copy of a slice from a DataFrame.\n",
            "Try using .loc[row_indexer,col_indexer] = value instead\n",
            "\n",
            "See the caveats in the documentation: https://pandas.pydata.org/pandas-docs/stable/user_guide/indexing.html#returning-a-view-versus-a-copy\n",
            "  after removing the cwd from sys.path.\n"
          ],
          "name": "stderr"
        }
      ]
    },
    {
      "cell_type": "code",
      "metadata": {
        "colab": {
          "base_uri": "https://localhost:8080/",
          "height": 279
        },
        "id": "bO2nWtpn5dmm",
        "outputId": "4cf17d50-bbf2-4c23-86ac-16468e295835"
      },
      "source": [
        "df_0[' labelledField'].value_counts().plot.bar()"
      ],
      "execution_count": 22,
      "outputs": [
        {
          "output_type": "execute_result",
          "data": {
            "text/plain": [
              "<matplotlib.axes._subplots.AxesSubplot at 0x7f27d5283f50>"
            ]
          },
          "metadata": {
            "tags": []
          },
          "execution_count": 22
        },
        {
          "output_type": "display_data",
          "data": {
            "image/png": "[encoded data removed]",
            "text/plain": [
              "<Figure size 432x288 with 1 Axes>"
            ]
          },
          "metadata": {
            "tags": [],
            "needs_background": "light"
          }
        }
      ]
    },
    {
      "cell_type": "code",
      "metadata": {
        "colab": {
          "base_uri": "https://localhost:8080/"
        },
        "id": "nCYdfP0i6yFe",
        "outputId": "2e8050a7-8e35-49bd-ec6f-37ac5f4596fe"
      },
      "source": [
        "df_0[' labelledField'].values"
      ],
      "execution_count": 28,
      "outputs": [
        {
          "output_type": "execute_result",
          "data": {
            "text/plain": [
              "array([4, 2, 1, ..., 2, 1, 2])"
            ]
          },
          "metadata": {
            "tags": []
          },
          "execution_count": 28
        }
      ]
    },
    {
      "cell_type": "code",
      "metadata": {
        "id": "drTrUs626NkC"
      },
      "source": [
        "label = df_0[' labelledField'].values\n",
        "sentences = df_0.X.values"
      ],
      "execution_count": 30,
      "outputs": []
    },
    {
      "cell_type": "code",
      "metadata": {
        "colab": {
          "base_uri": "https://localhost:8080/"
        },
        "id": "w0XnYzY86sXC",
        "outputId": "072d7ff3-2ea8-47ee-cc44-dc62d1521d62"
      },
      "source": [
        "label.size"
      ],
      "execution_count": 31,
      "outputs": [
        {
          "output_type": "execute_result",
          "data": {
            "text/plain": [
              "3767"
            ]
          },
          "metadata": {
            "tags": []
          },
          "execution_count": 31
        }
      ]
    },
    {
      "cell_type": "code",
      "metadata": {
        "colab": {
          "base_uri": "https://localhost:8080/"
        },
        "id": "GbAre6m-6tpM",
        "outputId": "cd446563-a023-4759-f058-a2598174d0bd"
      },
      "source": [
        "sentences.shape"
      ],
      "execution_count": 32,
      "outputs": [
        {
          "output_type": "execute_result",
          "data": {
            "text/plain": [
              "(3767,)"
            ]
          },
          "metadata": {
            "tags": []
          },
          "execution_count": 32
        }
      ]
    },
    {
      "cell_type": "code",
      "metadata": {
        "id": "vS2Fm1Fd7WQt"
      },
      "source": [
        "from sklearn.model_selection import train_test_split\n",
        "cred_x_train,cred_x_test,cred_y_train,cred_y_test = train_test_split(sentences,label,test_size = 0.15)"
      ],
      "execution_count": 36,
      "outputs": []
    },
    {
      "cell_type": "code",
      "metadata": {
        "colab": {
          "base_uri": "https://localhost:8080/"
        },
        "id": "jIMeEhu176eH",
        "outputId": "14c2eb7a-16f2-4bfe-a72c-63c655c42d8a"
      },
      "source": [
        "cred_y_test.shape"
      ],
      "execution_count": 41,
      "outputs": [
        {
          "output_type": "execute_result",
          "data": {
            "text/plain": [
              "(566,)"
            ]
          },
          "metadata": {
            "tags": []
          },
          "execution_count": 41
        }
      ]
    },
    {
      "cell_type": "code",
      "metadata": {
        "colab": {
          "base_uri": "https://localhost:8080/",
          "height": 180,
          "referenced_widgets": [
            "dde5914f84504d62a8bcfad590404ff0",
            "69efab708ea343b681f988367412d24a",
            "399d8bc65c2a4566ba01e3a9096c3c9e",
            "27c023f615d545a0b616b549bfc593fa",
            "91b91bd199ae47e0830284fb9d9fbac8",
            "962717eabacc463c9856197592cad1d6",
            "2d1571787c9e4af3828db6a5174403da",
            "3db9b9c97c3d437e96faf4666263f3a6",
            "7eab9c60a7494807b703fc1f98f8bf89",
            "cfdd228b933b42c6ba2ed1f9aab5c883",
            "7d34cf1572694fe98df793a48cf1a92b",
            "1db238bdc5ea4935b22140f4729f6626",
            "fa083342da80482da083324ef7f335a5",
            "db26e80f589f4bc39f6be349d2e946e7",
            "a134501904014c719223e46f0f595bce",
            "596a5bb6f9bf415d8972e240ba81e889",
            "12835b47422841059e299c1957db9e70",
            "b5534b90cc9c4843b9345e3e19f711a2",
            "476d841141f84c17bc7a98639ed136df",
            "aa35e8e730cb47ff8cb1f6943f5373d0",
            "a87b90fe56f344b09522c01e64fa0fb1",
            "60d200f32c364addb6cfbfdd5362f6b6",
            "2f67fffef1f2433682ad22b198257aac",
            "4b27c4296ddc4448b5252c40abb35506"
          ]
        },
        "id": "7lvfympY6vzy",
        "outputId": "f0396e71-f4a5-480d-dd58-6c3c17d1a7c5"
      },
      "source": [
        "# convert to tokenizer\n",
        "from transformers import BertTokenizer\n",
        "# Load the BERT tokenizer.\n",
        "print('Loading BERT tokenizer...')\n",
        "tokenizer = BertTokenizer.from_pretrained('bert-base-uncased', do_lower_case=True)"
      ],
      "execution_count": 33,
      "outputs": [
        {
          "output_type": "stream",
          "text": [
            "Loading BERT tokenizer...\n"
          ],
          "name": "stdout"
        },
        {
          "output_type": "display_data",
          "data": {
            "application/vnd.jupyter.widget-view+json": {
              "model_id": "dde5914f84504d62a8bcfad590404ff0",
              "version_minor": 0,
              "version_major": 2
            },
            "text/plain": [
              "HBox(children=(FloatProgress(value=0.0, description='Downloading', max=231508.0, style=ProgressStyle(descripti…"
            ]
          },
          "metadata": {
            "tags": []
          }
        },
        {
          "output_type": "stream",
          "text": [
            "\n"
          ],
          "name": "stdout"
        },
        {
          "output_type": "display_data",
          "data": {
            "application/vnd.jupyter.widget-view+json": {
              "model_id": "7eab9c60a7494807b703fc1f98f8bf89",
              "version_minor": 0,
              "version_major": 2
            },
            "text/plain": [
              "HBox(children=(FloatProgress(value=0.0, description='Downloading', max=28.0, style=ProgressStyle(description_w…"
            ]
          },
          "metadata": {
            "tags": []
          }
        },
        {
          "output_type": "stream",
          "text": [
            "\n"
          ],
          "name": "stdout"
        },
        {
          "output_type": "display_data",
          "data": {
            "application/vnd.jupyter.widget-view+json": {
              "model_id": "12835b47422841059e299c1957db9e70",
              "version_minor": 0,
              "version_major": 2
            },
            "text/plain": [
              "HBox(children=(FloatProgress(value=0.0, description='Downloading', max=466062.0, style=ProgressStyle(descripti…"
            ]
          },
          "metadata": {
            "tags": []
          }
        },
        {
          "output_type": "stream",
          "text": [
            "\n"
          ],
          "name": "stdout"
        }
      ]
    },
    {
      "cell_type": "code",
      "metadata": {
        "id": "DbtlaeqY7Pwj"
      },
      "source": [
        "encoded_train = tokenizer.batch_encode_plus(\n",
        "            cred_x_train,\n",
        "            padding = 'longest',\n",
        "        )\n"
      ],
      "execution_count": 42,
      "outputs": []
    },
    {
      "cell_type": "code",
      "metadata": {
        "id": "X15n1yPA7TpO"
      },
      "source": [
        "train_input_ids = np.array(encoded_train[\"input_ids\"],dtype = \"int32\")\n",
        "train_att_mask =  np.array(encoded_train[\"attention_mask\"],dtype=\"int32\")"
      ],
      "execution_count": 43,
      "outputs": []
    },
    {
      "cell_type": "code",
      "metadata": {
        "id": "lqObpehh8ZUq"
      },
      "source": [
        "maxLength = train_att_mask.shape[1]"
      ],
      "execution_count": 46,
      "outputs": []
    },
    {
      "cell_type": "code",
      "metadata": {
        "colab": {
          "base_uri": "https://localhost:8080/"
        },
        "id": "916rF95Z8bXI",
        "outputId": "516d189b-1c25-405c-f5f7-d8b81c4accd9"
      },
      "source": [
        "# test data set up\n",
        "\n",
        "max_length = maxLength\n",
        "encoded_test = tokenizer.batch_encode_plus(\n",
        "            cred_x_test,\n",
        "            add_special_tokens=True,\n",
        "            max_length=max_length,\n",
        "            return_attention_mask=True,\n",
        "            return_token_type_ids=True,\n",
        "            pad_to_max_length=True)"
      ],
      "execution_count": 48,
      "outputs": [
        {
          "output_type": "stream",
          "text": [
            "Truncation was not explicitly activated but `max_length` is provided a specific value, please use `truncation=True` to explicitly truncate examples to max length. Defaulting to 'longest_first' truncation strategy. If you encode pairs of sequences (GLUE-style) with the tokenizer you can select this strategy more precisely by providing a specific strategy to `truncation`.\n",
            "/usr/local/lib/python3.7/dist-packages/transformers/tokenization_utils_base.py:2074: FutureWarning: The `pad_to_max_length` argument is deprecated and will be removed in a future version, use `padding=True` or `padding='longest'` to pad to the longest sequence in the batch, or use `padding='max_length'` to pad to a max length. In this case, you can give a specific length with `max_length` (e.g. `max_length=45`) or leave max_length to None to pad to the maximal input size of the model (e.g. 512 for Bert).\n",
            "  FutureWarning,\n"
          ],
          "name": "stderr"
        }
      ]
    },
    {
      "cell_type": "code",
      "metadata": {
        "id": "9iIoSFyB8ykJ"
      },
      "source": [
        "# test data \n",
        "\n",
        "test_input_ids = np.array(encoded_test[\"input_ids\"],dtype = \"int32\")\n",
        "test_att_mask =  np.array(encoded_test[\"attention_mask\"],dtype=\"int32\")"
      ],
      "execution_count": 49,
      "outputs": []
    },
    {
      "cell_type": "code",
      "metadata": {
        "id": "xgNOuiCW88F3"
      },
      "source": [
        "from transformers import TFBertModel\n",
        "np.random.seed(4)\n",
        "max_length = maxLength\n",
        "\n",
        "def createModel():\n",
        "  \"\"\" create the model for Android Form Fill with BERT Tokenizer \"\"\"\n",
        "  input_ids = tf.keras.layers.Input(\n",
        "          shape=(max_length,), dtype=tf.int32, name=\"input_ids\")\n",
        "      # Attention masks indicates to the model which tokens should be attended to.\n",
        "  attention_masks = tf.keras.layers.Input(shape=(max_length,), dtype=tf.int32, name=\"attention_masks\")\n",
        "      # Token type ids are binary masks identifying different sequences in the model.\n",
        "  bert_model = TFBertModel.from_pretrained(\"bert-base-uncased\")\n",
        "      # Freeze the BERT model to reuse the pretrained features without modifying them.\n",
        "  bert_model.trainable = False\n",
        "  bert_out = bert_model(input_ids, attention_mask=attention_masks)\n",
        "  print(bert_out)\n",
        "  sequence_output = bert_out[\"last_hidden_state\"]\n",
        "  print(sequence_output)\n",
        "  # Add trainable layers on top of frozen layers to adapt the pretrained features on the new data.\n",
        "  bi_lstm = tf.keras.layers.Bidirectional(tf.keras.layers.LSTM(64, return_sequences=True))(sequence_output)\n",
        "      # Applying hybrid pooling approach to bi_lstm sequence output.\n",
        "  avg_pool = tf.keras.layers.GlobalAveragePooling1D()(bi_lstm)\n",
        "  max_pool = tf.keras.layers.GlobalMaxPooling1D()(bi_lstm)\n",
        "  concat = tf.keras.layers.concatenate([avg_pool, max_pool])\n",
        "  dropout = tf.keras.layers.Dropout(0.3)(concat)\n",
        "  output = tf.keras.layers.Dense(6, activation=\"softmax\")(dropout)\n",
        "  model = tf.keras.models.Model(inputs=[input_ids, attention_masks], outputs=output)\n",
        "  model.compile(optimizer=tf.keras.optimizers.Adam(),\n",
        "          loss= \"sparse_categorical_crossentropy\",\n",
        "          metrics=[\"accuracy\"],run_eagerly= True)\n",
        "\n",
        "  model.summary()\n",
        "  return model\n"
      ],
      "execution_count": 51,
      "outputs": []
    },
    {
      "cell_type": "code",
      "metadata": {
        "colab": {
          "base_uri": "https://localhost:8080/",
          "height": 991,
          "referenced_widgets": [
            "3a50718ada1c46c5a42c3bd191c587a3",
            "65775b82416f44f485106b7e856dfda1",
            "07feb261eeb44353bc5507262a056ed2",
            "db071d5da9f54fddbd5f6ac5e5fabf38",
            "f14eca9b83d6407b846f85eb6880f0cb",
            "2226ed24b9bd40b780d54283b37606ec",
            "6a0731f7a3d34c98925ef8d76b3fb31b",
            "9675d993fa304a18a93e377a17204f99",
            "9a96b9e67d174bd3b8faf5564bc77dc2",
            "6bb72c2fe3e64f0f9fbf6b80c982eab8",
            "cde2fc6a158b4e499a44b8954ba00203",
            "f4b7aba4434a4e2d87c0b9a8e2f5a79a",
            "ee00d951155a473f949e9f1e4746b1cc",
            "f6c10af039b043cb8f0d30d86045e64d",
            "7f496ded21ff4152917e4f9a7196903f",
            "aad6177dee2b43beb1900d067fdecc0c"
          ]
        },
        "id": "UIo4vlud9BY-",
        "outputId": "b78a99c4-b662-473b-c636-468319bccc19"
      },
      "source": [
        "cred_autofill_bert = createModel()\n"
      ],
      "execution_count": 52,
      "outputs": [
        {
          "output_type": "display_data",
          "data": {
            "application/vnd.jupyter.widget-view+json": {
              "model_id": "3a50718ada1c46c5a42c3bd191c587a3",
              "version_minor": 0,
              "version_major": 2
            },
            "text/plain": [
              "HBox(children=(FloatProgress(value=0.0, description='Downloading', max=433.0, style=ProgressStyle(description_…"
            ]
          },
          "metadata": {
            "tags": []
          }
        },
        {
          "output_type": "stream",
          "text": [
            "\n"
          ],
          "name": "stdout"
        },
        {
          "output_type": "display_data",
          "data": {
            "application/vnd.jupyter.widget-view+json": {
              "model_id": "9a96b9e67d174bd3b8faf5564bc77dc2",
              "version_minor": 0,
              "version_major": 2
            },
            "text/plain": [
              "HBox(children=(FloatProgress(value=0.0, description='Downloading', max=536063208.0, style=ProgressStyle(descri…"
            ]
          },
          "metadata": {
            "tags": []
          }
        },
        {
          "output_type": "stream",
          "text": [
            "\n"
          ],
          "name": "stdout"
        },
        {
          "output_type": "stream",
          "text": [
            "Some layers from the model checkpoint at bert-base-uncased were not used when initializing TFBertModel: ['mlm___cls', 'nsp___cls']\n",
            "- This IS expected if you are initializing TFBertModel from the checkpoint of a model trained on another task or with another architecture (e.g. initializing a BertForSequenceClassification model from a BertForPreTraining model).\n",
            "- This IS NOT expected if you are initializing TFBertModel from the checkpoint of a model that you expect to be exactly identical (initializing a BertForSequenceClassification model from a BertForSequenceClassification model).\n",
            "All the layers of TFBertModel were initialized from the model checkpoint at bert-base-uncased.\n",
            "If your task is similar to the task the model of the checkpoint was trained on, you can already use TFBertModel for predictions without further training.\n"
          ],
          "name": "stderr"
        },
        {
          "output_type": "stream",
          "text": [
            "WARNING:tensorflow:The parameters `output_attentions`, `output_hidden_states` and `use_cache` cannot be updated when calling a model.They have to be set to True/False in the config object (i.e.: `config=XConfig.from_pretrained('name', output_attentions=True)`).\n",
            "WARNING:tensorflow:AutoGraph could not transform <bound method Socket.send of <zmq.sugar.socket.Socket object at 0x7f2816801590>> and will run it as-is.\n",
            "Please report this to the TensorFlow team. When filing the bug, set the verbosity to 10 (on Linux, `export AUTOGRAPH_VERBOSITY=10`) and attach the full output.\n",
            "Cause: module, class, method, function, traceback, frame, or code object was expected, got cython_function_or_method\n",
            "To silence this warning, decorate the function with @tf.autograph.experimental.do_not_convert\n",
            "WARNING: AutoGraph could not transform <bound method Socket.send of <zmq.sugar.socket.Socket object at 0x7f2816801590>> and will run it as-is.\n",
            "Please report this to the TensorFlow team. When filing the bug, set the verbosity to 10 (on Linux, `export AUTOGRAPH_VERBOSITY=10`) and attach the full output.\n",
            "Cause: module, class, method, function, traceback, frame, or code object was expected, got cython_function_or_method\n",
            "To silence this warning, decorate the function with @tf.autograph.experimental.do_not_convert\n",
            "WARNING:tensorflow:AutoGraph could not transform <function wrap at 0x7f282b98bc20> and will run it as-is.\n",
            "Cause: while/else statement not yet supported\n",
            "To silence this warning, decorate the function with @tf.autograph.experimental.do_not_convert\n",
            "WARNING: AutoGraph could not transform <function wrap at 0x7f282b98bc20> and will run it as-is.\n",
            "Cause: while/else statement not yet supported\n",
            "To silence this warning, decorate the function with @tf.autograph.experimental.do_not_convert\n",
            "WARNING:tensorflow:The parameter `return_dict` cannot be set in graph mode and will always be set to `True`.\n",
            "TFBaseModelOutputWithPooling(last_hidden_state=<tf.Tensor 'tf_bert_model/bert/encoder/layer_._11/output/LayerNorm/batchnorm/add_1:0' shape=(None, 65, 768) dtype=float32>, pooler_output=<tf.Tensor 'tf_bert_model/bert/pooler/dense/Tanh:0' shape=(None, 768) dtype=float32>, hidden_states=None, attentions=None)\n",
            "Tensor(\"tf_bert_model/bert/encoder/layer_._11/output/LayerNorm/batchnorm/add_1:0\", shape=(None, 65, 768), dtype=float32)\n",
            "Model: \"functional_1\"\n",
            "__________________________________________________________________________________________________\n",
            "Layer (type)                    Output Shape         Param #     Connected to                     \n",
            "==================================================================================================\n",
            "input_ids (InputLayer)          [(None, 65)]         0                                            \n",
            "__________________________________________________________________________________________________\n",
            "attention_masks (InputLayer)    [(None, 65)]         0                                            \n",
            "__________________________________________________________________________________________________\n",
            "tf_bert_model (TFBertModel)     TFBaseModelOutputWit 109482240   input_ids[0][0]                  \n",
            "                                                                 attention_masks[0][0]            \n",
            "__________________________________________________________________________________________________\n",
            "bidirectional (Bidirectional)   (None, 65, 128)      426496      tf_bert_model[0][0]              \n",
            "__________________________________________________________________________________________________\n",
            "global_average_pooling1d (Globa (None, 128)          0           bidirectional[0][0]              \n",
            "__________________________________________________________________________________________________\n",
            "global_max_pooling1d (GlobalMax (None, 128)          0           bidirectional[0][0]              \n",
            "__________________________________________________________________________________________________\n",
            "concatenate (Concatenate)       (None, 256)          0           global_average_pooling1d[0][0]   \n",
            "                                                                 global_max_pooling1d[0][0]       \n",
            "__________________________________________________________________________________________________\n",
            "dropout_37 (Dropout)            (None, 256)          0           concatenate[0][0]                \n",
            "__________________________________________________________________________________________________\n",
            "dense (Dense)                   (None, 6)            1542        dropout_37[0][0]                 \n",
            "==================================================================================================\n",
            "Total params: 109,910,278\n",
            "Trainable params: 428,038\n",
            "Non-trainable params: 109,482,240\n",
            "__________________________________________________________________________________________________\n"
          ],
          "name": "stdout"
        }
      ]
    },
    {
      "cell_type": "code",
      "metadata": {
        "colab": {
          "base_uri": "https://localhost:8080/"
        },
        "id": "WHkNWG259VHK",
        "outputId": "3a634fcc-42f6-4a0a-d239-8eec0e8ab4cd"
      },
      "source": [
        "# Lets train the model\n",
        "# sanity Check \n",
        "cred_y_test.shape"
      ],
      "execution_count": 57,
      "outputs": [
        {
          "output_type": "execute_result",
          "data": {
            "text/plain": [
              "(566,)"
            ]
          },
          "metadata": {
            "tags": []
          },
          "execution_count": 57
        }
      ]
    },
    {
      "cell_type": "code",
      "metadata": {
        "colab": {
          "base_uri": "https://localhost:8080/"
        },
        "id": "2nPpI2659rxu",
        "outputId": "3a85478c-f6eb-4a11-aa24-fc6c106ef8c9"
      },
      "source": [
        "from tensorflow.keras.callbacks import EarlyStopping\n",
        "early_stopping = EarlyStopping(patience= 2)\n",
        "cred_model_hist =   cred_autofill_bert.fit(x = [train_input_ids,train_att_mask], y = cred_y_train, batch_size = 32,  epochs = 5, validation_data = ([test_input_ids,test_att_mask],cred_y_test),callbacks = [early_stopping])"
      ],
      "execution_count": 59,
      "outputs": [
        {
          "output_type": "stream",
          "text": [
            "Epoch 1/5\n",
            "101/101 [==============================] - 47s 465ms/step - loss: 0.2921 - accuracy: 0.9078 - val_loss: 0.2350 - val_accuracy: 0.9223\n",
            "Epoch 2/5\n",
            "101/101 [==============================] - 47s 466ms/step - loss: 0.2884 - accuracy: 0.9085 - val_loss: 0.2376 - val_accuracy: 0.9240\n",
            "Epoch 3/5\n",
            "101/101 [==============================] - 47s 465ms/step - loss: 0.2654 - accuracy: 0.9200 - val_loss: 0.2205 - val_accuracy: 0.9223\n",
            "Epoch 4/5\n",
            "101/101 [==============================] - 47s 464ms/step - loss: 0.2509 - accuracy: 0.9244 - val_loss: 0.1945 - val_accuracy: 0.9346\n",
            "Epoch 5/5\n",
            "101/101 [==============================] - 47s 466ms/step - loss: 0.2300 - accuracy: 0.9275 - val_loss: 0.2140 - val_accuracy: 0.9258\n"
          ],
          "name": "stdout"
        }
      ]
    },
    {
      "cell_type": "code",
      "metadata": {
        "id": "-mh3T8Xw-K-O"
      },
      "source": [
        "# precison and recall\n",
        "y_true =  cred_y_test\n",
        "predicts =  cred_autofill_bert.predict([test_input_ids,test_att_mask])\n",
        "\n",
        "macroLabel = []\n",
        "y_pred = [np.argmax(pred) for pred in predicts]\n"
      ],
      "execution_count": 60,
      "outputs": []
    },
    {
      "cell_type": "code",
      "metadata": {
        "colab": {
          "base_uri": "https://localhost:8080/"
        },
        "id": "hUwBHUWWAGnh",
        "outputId": "6bac61df-4b54-47d2-baee-7b505a3235d1"
      },
      "source": [
        "list(y_true)[:10]"
      ],
      "execution_count": 67,
      "outputs": [
        {
          "output_type": "execute_result",
          "data": {
            "text/plain": [
              "[2, 2, 4, 4, 2, 4, 1, 1, 2, 2]"
            ]
          },
          "metadata": {
            "tags": []
          },
          "execution_count": 67
        }
      ]
    },
    {
      "cell_type": "code",
      "metadata": {
        "colab": {
          "base_uri": "https://localhost:8080/"
        },
        "id": "6Azhbs29AJsv",
        "outputId": "b5a959b5-0c23-4515-b7ca-187284102f44"
      },
      "source": [
        "y_pred[:10]"
      ],
      "execution_count": 70,
      "outputs": [
        {
          "output_type": "execute_result",
          "data": {
            "text/plain": [
              "[2, 2, 4, 4, 2, 4, 1, 1, 2, 2]"
            ]
          },
          "metadata": {
            "tags": []
          },
          "execution_count": 70
        }
      ]
    },
    {
      "cell_type": "code",
      "metadata": {
        "id": "e9L_JGa6AY6b"
      },
      "source": [
        "from sklearn.metrics import precision_recall_fscore_support\n",
        "prec,rec,f1,support = precision_recall_fscore_support(y_true, y_pred,average=None,labels=[0, 1, 2,3,4,5])"
      ],
      "execution_count": 71,
      "outputs": []
    },
    {
      "cell_type": "code",
      "metadata": {
        "colab": {
          "base_uri": "https://localhost:8080/"
        },
        "id": "CabYLHo8AmLc",
        "outputId": "69289f8b-9843-4fd3-fef4-7aa1f5f5d8ac"
      },
      "source": [
        "prec"
      ],
      "execution_count": 72,
      "outputs": [
        {
          "output_type": "execute_result",
          "data": {
            "text/plain": [
              "array([1.        , 0.84722222, 0.99190283, 0.65714286, 0.93717277,\n",
              "       0.75      ])"
            ]
          },
          "metadata": {
            "tags": []
          },
          "execution_count": 72
        }
      ]
    },
    {
      "cell_type": "code",
      "metadata": {
        "colab": {
          "base_uri": "https://localhost:8080/",
          "height": 544
        },
        "id": "SYnlchyBAnG6",
        "outputId": "2a0de1b4-e1c7-45fb-ca2f-f8965d400042"
      },
      "source": [
        "from matplotlib import pyplot as plt\n",
        "plt.bar(x=le.inverse_transform([0, 1, 2,3,4,5]), height = prec)\n",
        "plt.xticks(rotation = 90)\n",
        "plt.ylabel(\"Precision\")"
      ],
      "execution_count": 99,
      "outputs": [
        {
          "output_type": "execute_result",
          "data": {
            "text/plain": [
              "Text(0, 0.5, 'Precision')"
            ]
          },
          "metadata": {
            "tags": []
          },
          "execution_count": 99
        },
        {
          "output_type": "display_data",
          "data": {
            "image/png": "[encoded data removed]",
            "text/plain": [
              "<Figure size 432x288 with 1 Axes>"
            ]
          },
          "metadata": {
            "tags": [],
            "needs_background": "light"
          }
        }
      ]
    },
    {
      "cell_type": "code",
      "metadata": {
        "colab": {
          "base_uri": "https://localhost:8080/",
          "height": 546
        },
        "id": "szFlufgUE7O8",
        "outputId": "03d81955-efb7-4513-f015-99083e3765bf"
      },
      "source": [
        "plt.bar(x=le.inverse_transform([0, 1, 2,3,4,5]), height = rec)\n",
        "plt.xticks(rotation = 90)\n",
        "plt.ylabel(\"Recall\")\n"
      ],
      "execution_count": 100,
      "outputs": [
        {
          "output_type": "execute_result",
          "data": {
            "text/plain": [
              "Text(0, 0.5, 'Recall')"
            ]
          },
          "metadata": {
            "tags": []
          },
          "execution_count": 100
        },
        {
          "output_type": "display_data",
          "data": {
            "image/png": "[encoded data removed]",
            "text/plain": [
              "<Figure size 432x288 with 1 Axes>"
            ]
          },
          "metadata": {
            "tags": [],
            "needs_background": "light"
          }
        }
      ]
    },
    {
      "cell_type": "code",
      "metadata": {
        "colab": {
          "base_uri": "https://localhost:8080/",
          "height": 544
        },
        "id": "nSa8Sti7FEaE",
        "outputId": "e77be53a-0115-49b3-b21e-36ebf4e1352b"
      },
      "source": [
        "# f1 score \n",
        "plt.bar(x=le.inverse_transform([0, 1, 2,3,4,5]), height = f1)\n",
        "plt.xticks(rotation = 90)\n",
        "plt.ylabel(\"F1_core\")"
      ],
      "execution_count": 101,
      "outputs": [
        {
          "output_type": "execute_result",
          "data": {
            "text/plain": [
              "Text(0, 0.5, 'F1_core')"
            ]
          },
          "metadata": {
            "tags": []
          },
          "execution_count": 101
        },
        {
          "output_type": "display_data",
          "data": {
            "image/png": "[encoded data removed]",
            "text/plain": [
              "<Figure size 432x288 with 1 Axes>"
            ]
          },
          "metadata": {
            "tags": [],
            "needs_background": "light"
          }
        }
      ]
    },
    {
      "cell_type": "code",
      "metadata": {
        "colab": {
          "base_uri": "https://localhost:8080/"
        },
        "id": "Y88qTzDfAwKi",
        "outputId": "f2fccd3e-626b-4b27-c391-c7dda0f1ba3d"
      },
      "source": [
        "le.inverse_transform([0,1,2,3,4,5])"
      ],
      "execution_count": 83,
      "outputs": [
        {
          "output_type": "execute_result",
          "data": {
            "text/plain": [
              "array(['CAPTCHA', 'OTP', 'PASSWORD', 'USERNAME',\n",
              "       'USERNAME_OR_EMAIL_ADDRESS',\n",
              "       'USERNAME_OR_EMAIL_ADDRESS_OR_PHONE_NUMBER'], dtype=object)"
            ]
          },
          "metadata": {
            "tags": []
          },
          "execution_count": 83
        }
      ]
    },
    {
      "cell_type": "code",
      "metadata": {
        "colab": {
          "base_uri": "https://localhost:8080/",
          "height": 527
        },
        "id": "jN9VrfjfA_ml",
        "outputId": "e561a2eb-18cc-4d9a-ed27-87c7b88ba91a"
      },
      "source": [
        "ax = plt.bar(x = le.inverse_transform(df_0[' labelledField'].unique()),height = df_0[' labelledField'].value_counts())\n",
        "plt.xticks(rotation=90);"
      ],
      "execution_count": 92,
      "outputs": [
        {
          "output_type": "display_data",
          "data": {
            "image/png": "[encoded data removed]",
            "text/plain": [
              "<Figure size 432x288 with 1 Axes>"
            ]
          },
          "metadata": {
            "tags": [],
            "needs_background": "light"
          }
        }
      ]
    },
    {
      "cell_type": "code",
      "metadata": {
        "colab": {
          "base_uri": "https://localhost:8080/",
          "height": 279
        },
        "id": "Wwb1Aj2LCvPh",
        "outputId": "a465d3fe-cdb2-4dd9-9fb7-d851b7999d8c"
      },
      "source": [
        "df_0[' labelledField'].value_counts().plot.bar()"
      ],
      "execution_count": 95,
      "outputs": [
        {
          "output_type": "execute_result",
          "data": {
            "text/plain": [
              "<matplotlib.axes._subplots.AxesSubplot at 0x7f276f6e6bd0>"
            ]
          },
          "metadata": {
            "tags": []
          },
          "execution_count": 95
        },
        {
          "output_type": "display_data",
          "data": {
            "image/png": "[encoded data removed]",
            "text/plain": [
              "<Figure size 432x288 with 1 Axes>"
            ]
          },
          "metadata": {
            "tags": [],
            "needs_background": "light"
          }
        }
      ]
    },
    {
      "cell_type": "code",
      "metadata": {
        "colab": {
          "base_uri": "https://localhost:8080/"
        },
        "id": "QK3QWG7gEdWZ",
        "outputId": "df667b22-3ca0-407e-a9f5-22e8826805df"
      },
      "source": [
        "le.inverse_transform([2,1,0,3,4,5])"
      ],
      "execution_count": 98,
      "outputs": [
        {
          "output_type": "execute_result",
          "data": {
            "text/plain": [
              "array(['PASSWORD', 'OTP', 'CAPTCHA', 'USERNAME',\n",
              "       'USERNAME_OR_EMAIL_ADDRESS',\n",
              "       'USERNAME_OR_EMAIL_ADDRESS_OR_PHONE_NUMBER'], dtype=object)"
            ]
          },
          "metadata": {
            "tags": []
          },
          "execution_count": 98
        }
      ]
    },
    {
      "cell_type": "code",
      "metadata": {
        "id": "PIJMHmp0Eo1H"
      },
      "source": [
        "from sklearn.metrics import matthews_corrcoef"
      ],
      "execution_count": 102,
      "outputs": []
    },
    {
      "cell_type": "code",
      "metadata": {
        "colab": {
          "base_uri": "https://localhost:8080/"
        },
        "id": "0VLQzVDcGyNR",
        "outputId": "9ad6bf55-bf82-48f8-d6ec-ecfe0b92e4cc"
      },
      "source": [
        " matthews_corrcoef(y_true,y_pred)"
      ],
      "execution_count": 103,
      "outputs": [
        {
          "output_type": "execute_result",
          "data": {
            "text/plain": [
              "0.8902705703191903"
            ]
          },
          "metadata": {
            "tags": []
          },
          "execution_count": 103
        }
      ]
    },
    {
      "cell_type": "code",
      "metadata": {
        "id": "haq0mmDnG5z6"
      },
      "source": [
        ""
      ],
      "execution_count": null,
      "outputs": []
    }
  ]
}